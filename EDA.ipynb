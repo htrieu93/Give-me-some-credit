{
 "cells": [
  {
   "cell_type": "code",
   "execution_count": 6,
   "id": "f09338e1",
   "metadata": {
    "tags": []
   },
   "outputs": [],
   "source": [
    "import os\n",
    "import numpy as np\n",
    "import pandas as pd\n",
    "import seaborn as sns\n",
    "import matplotlib.pyplot as plt\n",
    "\n",
    "# Seed\n",
    "random_state = 42"
   ]
  },
  {
   "cell_type": "markdown",
   "id": "87d82c9b-9d95-4b56-9509-cd84ecc542b7",
   "metadata": {},
   "source": [
    "# Helper functions"
   ]
  },
  {
   "cell_type": "markdown",
   "id": "ae8a317d",
   "metadata": {},
   "source": [
    "Before diving in, we will define some helper functions that will automate some analysis and visualization"
   ]
  },
  {
   "cell_type": "code",
   "execution_count": 2,
   "id": "3ef33fa9",
   "metadata": {
    "tags": []
   },
   "outputs": [],
   "source": [
    "# Helper functions\n",
    "\n",
    "def get_pct_target_by_feat(df, feat, label):\n",
    "    feat_gpby = df.groupby([feat]).agg(label_cnt=(feat, 'count'),\n",
    "                                       label_sum=(label, 'sum'))\n",
    "    feat_gpby[f'% label by {feat}'] = round(feat_gpby['label_sum'] / feat_gpby['label_cnt'] * 100, 3)\n",
    "    feat_gpby['% label total'] = round(feat_gpby['label_sum'] / df[label].sum() * 100, 3)\n",
    "    feat_gpby['% population'] = round(feat_gpby['label_cnt'] / df.shape[0] * 100, 3)\n",
    "    feat_gpby.sort_values(f'% label by {feat}', ascending=False, inplace=True)\n",
    "    return feat_gpby\n",
    "\n",
    "def plot_histogram(data, x, hue, bins=\"auto\", log_scale=False):\n",
    "    fig, ax = plt.subplots(figsize=(15, 8))\n",
    "    sns.histplot(data=data, x=x, hue=hue, ax=ax, bins=bins, log_scale=log_scale);\n",
    "    \n",
    "def t_test(train_data, test_data, feat):\n",
    "    from scipy.stats import ttest_ind\n",
    "    ind_ttest = ttest_ind(train_data.loc[train_data[feat].notnull(), feat], \n",
    "                      test_data.loc[test_data[feat].notnull(), feat],\n",
    "                      equal_var=True,\n",
    "                      random_state=random_state)\n",
    "\n",
    "    weltch_ttest = ttest_ind(train_data.loc[train_data[feat].notnull(), feat], \n",
    "                             test_data.loc[test_data[feat].notnull(), feat],\n",
    "                             equal_var=False,\n",
    "                             random_state=random_state)\n",
    "\n",
    "    print(f\"Independent sample t-test: pvalue {ind_ttest[1]}\")\n",
    "    print(f\"Welch's two sample t-test: pvalue {weltch_ttest[1]}\")"
   ]
  },
  {
   "cell_type": "markdown",
   "id": "e990fced-6870-40ba-9094-abed52dc8911",
   "metadata": {},
   "source": [
    "# Overview"
   ]
  },
  {
   "cell_type": "markdown",
   "id": "d8316d1f",
   "metadata": {},
   "source": [
    "The data that we will be working with came from the competition \"Give me some credit\" on Kaggle in 2012. "
   ]
  },
  {
   "cell_type": "code",
   "execution_count": 3,
   "id": "19d68d54",
   "metadata": {
    "tags": []
   },
   "outputs": [],
   "source": [
    "# Load training and testing sets\n",
    "train = pd.read_csv('data/cs-training.csv')\n",
    "test = pd.read_csv('data/cs-test.csv')"
   ]
  },
  {
   "cell_type": "code",
   "execution_count": 4,
   "id": "ee9079f9",
   "metadata": {},
   "outputs": [
    {
     "data": {
      "text/html": [
       "<div>\n",
       "<style scoped>\n",
       "    .dataframe tbody tr th:only-of-type {\n",
       "        vertical-align: middle;\n",
       "    }\n",
       "\n",
       "    .dataframe tbody tr th {\n",
       "        vertical-align: top;\n",
       "    }\n",
       "\n",
       "    .dataframe thead th {\n",
       "        text-align: right;\n",
       "    }\n",
       "</style>\n",
       "<table border=\"1\" class=\"dataframe\">\n",
       "  <thead>\n",
       "    <tr style=\"text-align: right;\">\n",
       "      <th></th>\n",
       "      <th>Unnamed: 0</th>\n",
       "      <th>SeriousDlqin2yrs</th>\n",
       "      <th>RevolvingUtilizationOfUnsecuredLines</th>\n",
       "      <th>age</th>\n",
       "      <th>NumberOfTime30-59DaysPastDueNotWorse</th>\n",
       "      <th>DebtRatio</th>\n",
       "      <th>MonthlyIncome</th>\n",
       "      <th>NumberOfOpenCreditLinesAndLoans</th>\n",
       "      <th>NumberOfTimes90DaysLate</th>\n",
       "      <th>NumberRealEstateLoansOrLines</th>\n",
       "      <th>NumberOfTime60-89DaysPastDueNotWorse</th>\n",
       "      <th>NumberOfDependents</th>\n",
       "    </tr>\n",
       "  </thead>\n",
       "  <tbody>\n",
       "    <tr>\n",
       "      <th>0</th>\n",
       "      <td>1</td>\n",
       "      <td>1</td>\n",
       "      <td>0.766127</td>\n",
       "      <td>45</td>\n",
       "      <td>2</td>\n",
       "      <td>0.802982</td>\n",
       "      <td>9120.0</td>\n",
       "      <td>13</td>\n",
       "      <td>0</td>\n",
       "      <td>6</td>\n",
       "      <td>0</td>\n",
       "      <td>2.0</td>\n",
       "    </tr>\n",
       "    <tr>\n",
       "      <th>1</th>\n",
       "      <td>2</td>\n",
       "      <td>0</td>\n",
       "      <td>0.957151</td>\n",
       "      <td>40</td>\n",
       "      <td>0</td>\n",
       "      <td>0.121876</td>\n",
       "      <td>2600.0</td>\n",
       "      <td>4</td>\n",
       "      <td>0</td>\n",
       "      <td>0</td>\n",
       "      <td>0</td>\n",
       "      <td>1.0</td>\n",
       "    </tr>\n",
       "    <tr>\n",
       "      <th>2</th>\n",
       "      <td>3</td>\n",
       "      <td>0</td>\n",
       "      <td>0.658180</td>\n",
       "      <td>38</td>\n",
       "      <td>1</td>\n",
       "      <td>0.085113</td>\n",
       "      <td>3042.0</td>\n",
       "      <td>2</td>\n",
       "      <td>1</td>\n",
       "      <td>0</td>\n",
       "      <td>0</td>\n",
       "      <td>0.0</td>\n",
       "    </tr>\n",
       "    <tr>\n",
       "      <th>3</th>\n",
       "      <td>4</td>\n",
       "      <td>0</td>\n",
       "      <td>0.233810</td>\n",
       "      <td>30</td>\n",
       "      <td>0</td>\n",
       "      <td>0.036050</td>\n",
       "      <td>3300.0</td>\n",
       "      <td>5</td>\n",
       "      <td>0</td>\n",
       "      <td>0</td>\n",
       "      <td>0</td>\n",
       "      <td>0.0</td>\n",
       "    </tr>\n",
       "    <tr>\n",
       "      <th>4</th>\n",
       "      <td>5</td>\n",
       "      <td>0</td>\n",
       "      <td>0.907239</td>\n",
       "      <td>49</td>\n",
       "      <td>1</td>\n",
       "      <td>0.024926</td>\n",
       "      <td>63588.0</td>\n",
       "      <td>7</td>\n",
       "      <td>0</td>\n",
       "      <td>1</td>\n",
       "      <td>0</td>\n",
       "      <td>0.0</td>\n",
       "    </tr>\n",
       "  </tbody>\n",
       "</table>\n",
       "</div>"
      ],
      "text/plain": [
       "   Unnamed: 0  SeriousDlqin2yrs  RevolvingUtilizationOfUnsecuredLines  age  \\\n",
       "0           1                 1                              0.766127   45   \n",
       "1           2                 0                              0.957151   40   \n",
       "2           3                 0                              0.658180   38   \n",
       "3           4                 0                              0.233810   30   \n",
       "4           5                 0                              0.907239   49   \n",
       "\n",
       "   NumberOfTime30-59DaysPastDueNotWorse  DebtRatio  MonthlyIncome  \\\n",
       "0                                     2   0.802982         9120.0   \n",
       "1                                     0   0.121876         2600.0   \n",
       "2                                     1   0.085113         3042.0   \n",
       "3                                     0   0.036050         3300.0   \n",
       "4                                     1   0.024926        63588.0   \n",
       "\n",
       "   NumberOfOpenCreditLinesAndLoans  NumberOfTimes90DaysLate  \\\n",
       "0                               13                        0   \n",
       "1                                4                        0   \n",
       "2                                2                        1   \n",
       "3                                5                        0   \n",
       "4                                7                        0   \n",
       "\n",
       "   NumberRealEstateLoansOrLines  NumberOfTime60-89DaysPastDueNotWorse  \\\n",
       "0                             6                                     0   \n",
       "1                             0                                     0   \n",
       "2                             0                                     0   \n",
       "3                             0                                     0   \n",
       "4                             1                                     0   \n",
       "\n",
       "   NumberOfDependents  \n",
       "0                 2.0  \n",
       "1                 1.0  \n",
       "2                 0.0  \n",
       "3                 0.0  \n",
       "4                 0.0  "
      ]
     },
     "execution_count": 4,
     "metadata": {},
     "output_type": "execute_result"
    }
   ],
   "source": [
    "train.head()"
   ]
  },
  {
   "cell_type": "code",
   "execution_count": 28,
   "id": "b57d82b6",
   "metadata": {},
   "outputs": [
    {
     "data": {
      "text/html": [
       "<div>\n",
       "<style scoped>\n",
       "    .dataframe tbody tr th:only-of-type {\n",
       "        vertical-align: middle;\n",
       "    }\n",
       "\n",
       "    .dataframe tbody tr th {\n",
       "        vertical-align: top;\n",
       "    }\n",
       "\n",
       "    .dataframe thead th {\n",
       "        text-align: right;\n",
       "    }\n",
       "</style>\n",
       "<table border=\"1\" class=\"dataframe\">\n",
       "  <thead>\n",
       "    <tr style=\"text-align: right;\">\n",
       "      <th></th>\n",
       "      <th>Unnamed: 0</th>\n",
       "      <th>SeriousDlqin2yrs</th>\n",
       "      <th>RevolvingUtilizationOfUnsecuredLines</th>\n",
       "      <th>age</th>\n",
       "      <th>NumberOfTime30-59DaysPastDueNotWorse</th>\n",
       "      <th>DebtRatio</th>\n",
       "      <th>MonthlyIncome</th>\n",
       "      <th>NumberOfOpenCreditLinesAndLoans</th>\n",
       "      <th>NumberOfTimes90DaysLate</th>\n",
       "      <th>NumberRealEstateLoansOrLines</th>\n",
       "      <th>NumberOfTime60-89DaysPastDueNotWorse</th>\n",
       "      <th>NumberOfDependents</th>\n",
       "    </tr>\n",
       "  </thead>\n",
       "  <tbody>\n",
       "    <tr>\n",
       "      <th>0</th>\n",
       "      <td>1</td>\n",
       "      <td>NaN</td>\n",
       "      <td>0.885519</td>\n",
       "      <td>43</td>\n",
       "      <td>0</td>\n",
       "      <td>0.177513</td>\n",
       "      <td>5700.0</td>\n",
       "      <td>4</td>\n",
       "      <td>0</td>\n",
       "      <td>0</td>\n",
       "      <td>0</td>\n",
       "      <td>0.0</td>\n",
       "    </tr>\n",
       "    <tr>\n",
       "      <th>1</th>\n",
       "      <td>2</td>\n",
       "      <td>NaN</td>\n",
       "      <td>0.463295</td>\n",
       "      <td>57</td>\n",
       "      <td>0</td>\n",
       "      <td>0.527237</td>\n",
       "      <td>9141.0</td>\n",
       "      <td>15</td>\n",
       "      <td>0</td>\n",
       "      <td>4</td>\n",
       "      <td>0</td>\n",
       "      <td>2.0</td>\n",
       "    </tr>\n",
       "    <tr>\n",
       "      <th>2</th>\n",
       "      <td>3</td>\n",
       "      <td>NaN</td>\n",
       "      <td>0.043275</td>\n",
       "      <td>59</td>\n",
       "      <td>0</td>\n",
       "      <td>0.687648</td>\n",
       "      <td>5083.0</td>\n",
       "      <td>12</td>\n",
       "      <td>0</td>\n",
       "      <td>1</td>\n",
       "      <td>0</td>\n",
       "      <td>2.0</td>\n",
       "    </tr>\n",
       "    <tr>\n",
       "      <th>3</th>\n",
       "      <td>4</td>\n",
       "      <td>NaN</td>\n",
       "      <td>0.280308</td>\n",
       "      <td>38</td>\n",
       "      <td>1</td>\n",
       "      <td>0.925961</td>\n",
       "      <td>3200.0</td>\n",
       "      <td>7</td>\n",
       "      <td>0</td>\n",
       "      <td>2</td>\n",
       "      <td>0</td>\n",
       "      <td>0.0</td>\n",
       "    </tr>\n",
       "    <tr>\n",
       "      <th>4</th>\n",
       "      <td>5</td>\n",
       "      <td>NaN</td>\n",
       "      <td>1.000000</td>\n",
       "      <td>27</td>\n",
       "      <td>0</td>\n",
       "      <td>0.019917</td>\n",
       "      <td>3865.0</td>\n",
       "      <td>4</td>\n",
       "      <td>0</td>\n",
       "      <td>0</td>\n",
       "      <td>0</td>\n",
       "      <td>1.0</td>\n",
       "    </tr>\n",
       "  </tbody>\n",
       "</table>\n",
       "</div>"
      ],
      "text/plain": [
       "   Unnamed: 0  SeriousDlqin2yrs  RevolvingUtilizationOfUnsecuredLines  age  \\\n",
       "0           1               NaN                              0.885519   43   \n",
       "1           2               NaN                              0.463295   57   \n",
       "2           3               NaN                              0.043275   59   \n",
       "3           4               NaN                              0.280308   38   \n",
       "4           5               NaN                              1.000000   27   \n",
       "\n",
       "   NumberOfTime30-59DaysPastDueNotWorse  DebtRatio  MonthlyIncome  \\\n",
       "0                                     0   0.177513         5700.0   \n",
       "1                                     0   0.527237         9141.0   \n",
       "2                                     0   0.687648         5083.0   \n",
       "3                                     1   0.925961         3200.0   \n",
       "4                                     0   0.019917         3865.0   \n",
       "\n",
       "   NumberOfOpenCreditLinesAndLoans  NumberOfTimes90DaysLate  \\\n",
       "0                                4                        0   \n",
       "1                               15                        0   \n",
       "2                               12                        0   \n",
       "3                                7                        0   \n",
       "4                                4                        0   \n",
       "\n",
       "   NumberRealEstateLoansOrLines  NumberOfTime60-89DaysPastDueNotWorse  \\\n",
       "0                             0                                     0   \n",
       "1                             4                                     0   \n",
       "2                             1                                     0   \n",
       "3                             2                                     0   \n",
       "4                             0                                     0   \n",
       "\n",
       "   NumberOfDependents  \n",
       "0                 0.0  \n",
       "1                 2.0  \n",
       "2                 2.0  \n",
       "3                 0.0  \n",
       "4                 1.0  "
      ]
     },
     "execution_count": 28,
     "metadata": {},
     "output_type": "execute_result"
    }
   ],
   "source": [
    "test.head()"
   ]
  },
  {
   "cell_type": "markdown",
   "id": "f16e527d",
   "metadata": {},
   "source": [
    "As we check for the data types in the training and testing sets, we can see that they follow the description of the dataset. The column names and data types in both the training and testing sets are also the same, and there are no incorrect data types that we will need to fix."
   ]
  },
  {
   "cell_type": "code",
   "execution_count": 6,
   "id": "4804696a",
   "metadata": {
    "scrolled": true
   },
   "outputs": [
    {
     "data": {
      "text/plain": [
       "Unnamed: 0                                int64\n",
       "SeriousDlqin2yrs                          int64\n",
       "RevolvingUtilizationOfUnsecuredLines    float64\n",
       "age                                       int64\n",
       "NumberOfTime30-59DaysPastDueNotWorse      int64\n",
       "DebtRatio                               float64\n",
       "MonthlyIncome                           float64\n",
       "NumberOfOpenCreditLinesAndLoans           int64\n",
       "NumberOfTimes90DaysLate                   int64\n",
       "NumberRealEstateLoansOrLines              int64\n",
       "NumberOfTime60-89DaysPastDueNotWorse      int64\n",
       "NumberOfDependents                      float64\n",
       "dtype: object"
      ]
     },
     "execution_count": 6,
     "metadata": {},
     "output_type": "execute_result"
    }
   ],
   "source": [
    "train.dtypes"
   ]
  },
  {
   "cell_type": "code",
   "execution_count": 7,
   "id": "96734bdb",
   "metadata": {},
   "outputs": [
    {
     "data": {
      "text/plain": [
       "Unnamed: 0                                int64\n",
       "SeriousDlqin2yrs                        float64\n",
       "RevolvingUtilizationOfUnsecuredLines    float64\n",
       "age                                       int64\n",
       "NumberOfTime30-59DaysPastDueNotWorse      int64\n",
       "DebtRatio                               float64\n",
       "MonthlyIncome                           float64\n",
       "NumberOfOpenCreditLinesAndLoans           int64\n",
       "NumberOfTimes90DaysLate                   int64\n",
       "NumberRealEstateLoansOrLines              int64\n",
       "NumberOfTime60-89DaysPastDueNotWorse      int64\n",
       "NumberOfDependents                      float64\n",
       "dtype: object"
      ]
     },
     "execution_count": 7,
     "metadata": {},
     "output_type": "execute_result"
    }
   ],
   "source": [
    "test.dtypes"
   ]
  },
  {
   "cell_type": "markdown",
   "id": "acd7462c-d038-4ccc-9bfa-253adca675af",
   "metadata": {},
   "source": [
    "# Missing data"
   ]
  },
  {
   "cell_type": "markdown",
   "id": "c0b5d01b",
   "metadata": {},
   "source": [
    "We will also quickly check for any missing data in our training set. There are only 2 columns with missing data (MonthlyIncome, NumberOfDependents): \n",
    "- MonthlyIncome has ~20% which can be considered high enough to drop the column. There are imputation methods that can also be utilized (replacement with mean/median, utilizing machine learning models to predict missing values, etc.), so we will leave it in the dataset for now.\n",
    "- Meanwhile, NumberOfDependents has a lower % of missing data so we will also leverage the aforementioned methods to handle these missing values"
   ]
  },
  {
   "cell_type": "code",
   "execution_count": 14,
   "id": "b05cda15",
   "metadata": {},
   "outputs": [
    {
     "name": "stdout",
     "output_type": "stream",
     "text": [
      "MonthlyIncome null count: 29731, 19.821%\n",
      "NumberOfDependents null count: 3924, 2.616%\n"
     ]
    }
   ],
   "source": [
    "for col in train.columns:\n",
    "    null_count = train[col].isnull().sum()\n",
    "    if null_count > 0:\n",
    "        print(f'{col} null count: {null_count}, {round(null_count/train.shape[0]*100, 3)}%')"
   ]
  },
  {
   "cell_type": "code",
   "execution_count": 4,
   "id": "dd713108",
   "metadata": {},
   "outputs": [
    {
     "name": "stdout",
     "output_type": "stream",
     "text": [
      "SeriousDlqin2yrs null count: 101503, 100.0%\n",
      "MonthlyIncome null count: 20103, 19.805%\n",
      "NumberOfDependents null count: 2626, 2.587%\n"
     ]
    }
   ],
   "source": [
    "for col in train.columns:\n",
    "    null_count = test[col].isnull().sum()\n",
    "    if null_count > 0:\n",
    "        print(f'{col} null count: {null_count}, {round(null_count/test.shape[0]*100, 3)}%')"
   ]
  },
  {
   "cell_type": "markdown",
   "id": "c16dd0ec-9143-4716-abc3-36b6a883cfed",
   "metadata": {
    "tags": []
   },
   "source": [
    "Next, we will perform a deep-dive analysis of the individual feature. The goal here is to:\n",
    "- Generating insights: Insights are useful as the first step towards better understanding our data (i.e, comparing means of training and testing sets, observing distribution of our label relative to each feature, etc.)\n",
    "- Missing/Incorrect data: Isolating records with Missing (\"Null\") data, Incorrect data (due to data entry errors, illogical data input by the customers, etc.)\n",
    "- Check if we can distinguish our label based on any feature trends"
   ]
  },
  {
   "cell_type": "markdown",
   "id": "cfe14b33",
   "metadata": {},
   "source": [
    "# SeriousDlqin2yrs"
   ]
  },
  {
   "cell_type": "code",
   "execution_count": 22,
   "id": "5b67ec23",
   "metadata": {},
   "outputs": [
    {
     "data": {
      "text/plain": [
       "0    139974\n",
       "1     10026\n",
       "Name: SeriousDlqin2yrs, dtype: int64"
      ]
     },
     "execution_count": 22,
     "metadata": {},
     "output_type": "execute_result"
    }
   ],
   "source": [
    "train.SeriousDlqin2yrs.value_counts()"
   ]
  },
  {
   "cell_type": "code",
   "execution_count": 24,
   "id": "02f33ab4",
   "metadata": {},
   "outputs": [
    {
     "data": {
      "text/plain": [
       "Series([], Name: SeriousDlqin2yrs, dtype: int64)"
      ]
     },
     "execution_count": 24,
     "metadata": {},
     "output_type": "execute_result"
    }
   ],
   "source": [
    "test.SeriousDlqin2yrs.value_counts()"
   ]
  },
  {
   "cell_type": "markdown",
   "id": "6d81b9ae",
   "metadata": {},
   "source": [
    "As we can see from the training dataset counts, there is an imbalance in the number of 1's and 0's of the label (Specifically, the ratio is ~ 13:1). As for the testing dataset, the label is hidden from us and we will need to submit to the competition to compute the accuracy of our model."
   ]
  },
  {
   "cell_type": "markdown",
   "id": "734081fd",
   "metadata": {},
   "source": [
    "# RevolvingUtilizationOfUnsecuredLines"
   ]
  },
  {
   "cell_type": "markdown",
   "id": "efb7bac5",
   "metadata": {},
   "source": [
    "Revolving Utilization of Unsecured Lines is defined as \"Total balance on credit cards and personal lines of credit except real estate and no installment debt like car loans divided by the sum of credit limits\". \n",
    "\n",
    "Based on the definition, a person with high revolving utilization (credit cards + personal lines of credit ~ credit limits) will borrow close to his credit limits (or in some cases as we will soon see, take on more personal lines to exceed the credit limit), thus he should have a harder time paying back his debts. \n",
    "\n",
    "As a result, we can test the hypothesis that people with a revolving utilization rate will be \"riskier\" (or have a higher probability of deliquency) compared to those with a lower utilization rate. In other words, revolving utilization should have a positive correlation with serious delinquency."
   ]
  },
  {
   "cell_type": "markdown",
   "id": "ca5f36c7",
   "metadata": {},
   "source": [
    "Looking at the distribution of both datasets, we can see that the majority of our dataset has a low revolving utilization rate (and that is a good thing!):\n",
    "- 3% uses less than 3% of their credit limits\n",
    "- 50% uses less than ~15% \n",
    "- And 75% uses less than ~56%\n",
    "\n",
    "However, there are outliers on the right tail of our data, as we can see records with over 5,000,000%(!) in revolving utilization."
   ]
  },
  {
   "cell_type": "code",
   "execution_count": 4,
   "id": "c7fff5e1",
   "metadata": {},
   "outputs": [
    {
     "data": {
      "text/plain": [
       "count    150000.000000\n",
       "mean          6.048438\n",
       "std         249.755371\n",
       "min           0.000000\n",
       "25%           0.029867\n",
       "50%           0.154181\n",
       "75%           0.559046\n",
       "max       50708.000000\n",
       "Name: RevolvingUtilizationOfUnsecuredLines, dtype: float64"
      ]
     },
     "execution_count": 4,
     "metadata": {},
     "output_type": "execute_result"
    }
   ],
   "source": [
    "train.RevolvingUtilizationOfUnsecuredLines.describe()"
   ]
  },
  {
   "cell_type": "code",
   "execution_count": 6,
   "id": "5ba99430",
   "metadata": {},
   "outputs": [
    {
     "data": {
      "text/plain": [
       "count    101503.000000\n",
       "mean          5.310000\n",
       "std         196.156039\n",
       "min           0.000000\n",
       "25%           0.030131\n",
       "50%           0.152586\n",
       "75%           0.564225\n",
       "max       21821.000000\n",
       "Name: RevolvingUtilizationOfUnsecuredLines, dtype: float64"
      ]
     },
     "execution_count": 6,
     "metadata": {},
     "output_type": "execute_result"
    }
   ],
   "source": [
    "test.RevolvingUtilizationOfUnsecuredLines.describe()"
   ]
  },
  {
   "cell_type": "markdown",
   "id": "cdfd6e34",
   "metadata": {},
   "source": [
    "We can also use the 2 types of t-test (Independent and Weltch) to test the hypothesis that the training set and testing set have different means. The tests confirm that the 2 sets do not have different means."
   ]
  },
  {
   "cell_type": "code",
   "execution_count": 16,
   "id": "142450ef",
   "metadata": {},
   "outputs": [
    {
     "name": "stdout",
     "output_type": "stream",
     "text": [
      "Independent sample t-test: pvalue 0.4288231222445198\n",
      "Welch's two sample t-test: pvalue 0.40754152477381234\n"
     ]
    }
   ],
   "source": [
    "t_test(train, test, 'RevolvingUtilizationOfUnsecuredLines')"
   ]
  },
  {
   "cell_type": "markdown",
   "id": "f92fa7a7",
   "metadata": {},
   "source": [
    "Next we will look at the distribution of this feature relative to our label, and we will also divide the analysis in 2 seperate portions (<= 1 and > 1 revolving utilization) since the outliers on the right tail will make it difficult to visualize the combined data:\n",
    "\n",
    "- The portions of data with <= 1 (~98%) utilization rate tell us that our hypothesis might be correct. People with no serious deliquency indeed seem to be more likely to have low revolving utilization of secured lines and vice versa.\n",
    "- The portions of data with > 1 (~2%) utilization rate also paints a similar picture where 37% (1241/3338) people have serious delinquency. However, it is also worth noting that, the highest utilization of the training dataset was 5,000,000% and that record did not have delinquency, hence higher utilization does not always translate to serious delinquency."
   ]
  },
  {
   "cell_type": "code",
   "execution_count": 22,
   "id": "dc5ecfeb",
   "metadata": {},
   "outputs": [
    {
     "data": {
      "image/png": "[encoded data removed]",
      "text/plain": [
       "<Figure size 1080x576 with 1 Axes>"
      ]
     },
     "metadata": {
      "needs_background": "light"
     },
     "output_type": "display_data"
    }
   ],
   "source": [
    "plot_histogram(data=train.loc[train.RevolvingUtilizationOfUnsecuredLines < 1],\n",
    "               x='RevolvingUtilizationOfUnsecuredLines',\n",
    "               hue='SeriousDlqin2yrs')"
   ]
  },
  {
   "cell_type": "code",
   "execution_count": 29,
   "id": "e3858922",
   "metadata": {},
   "outputs": [
    {
     "data": {
      "image/png": "[encoded data removed]",
      "text/plain": [
       "<Figure size 1500x800 with 1 Axes>"
      ]
     },
     "metadata": {},
     "output_type": "display_data"
    }
   ],
   "source": [
    "plot_histogram(data=train.loc[(train.RevolvingUtilizationOfUnsecuredLines >= 1)&\n",
    "                              (train.RevolvingUtilizationOfUnsecuredLines <= 2)],\n",
    "               x='RevolvingUtilizationOfUnsecuredLines',\n",
    "               hue='SeriousDlqin2yrs')"
   ]
  },
  {
   "cell_type": "code",
   "execution_count": 31,
   "id": "cc5702a6",
   "metadata": {},
   "outputs": [
    {
     "data": {
      "image/png": "[encoded data removed]",
      "text/plain": [
       "<Figure size 1500x800 with 1 Axes>"
      ]
     },
     "metadata": {},
     "output_type": "display_data"
    }
   ],
   "source": [
    "plot_histogram(data=train.loc[(train.RevolvingUtilizationOfUnsecuredLines > 2)&\n",
    "                              (train.RevolvingUtilizationOfUnsecuredLines <= 10)],\n",
    "               x='RevolvingUtilizationOfUnsecuredLines',\n",
    "               hue='SeriousDlqin2yrs')"
   ]
  },
  {
   "cell_type": "code",
   "execution_count": 32,
   "id": "58113450",
   "metadata": {},
   "outputs": [
    {
     "data": {
      "image/png": "[encoded data removed]",
      "text/plain": [
       "<Figure size 1500x800 with 1 Axes>"
      ]
     },
     "metadata": {},
     "output_type": "display_data"
    }
   ],
   "source": [
    "plot_histogram(data=train.loc[train.RevolvingUtilizationOfUnsecuredLines > 10],\n",
    "               x='RevolvingUtilizationOfUnsecuredLines',\n",
    "               hue='SeriousDlqin2yrs')"
   ]
  },
  {
   "cell_type": "code",
   "execution_count": 13,
   "id": "612c2c01",
   "metadata": {},
   "outputs": [
    {
     "data": {
      "text/plain": [
       "count     2097.000000\n",
       "mean       393.198902\n",
       "std       2056.387995\n",
       "min          1.000000\n",
       "25%          1.016588\n",
       "50%          1.067351\n",
       "75%          1.368872\n",
       "90%        122.400000\n",
       "max      50708.000000\n",
       "Name: RevolvingUtilizationOfUnsecuredLines, dtype: float64"
      ]
     },
     "execution_count": 13,
     "metadata": {},
     "output_type": "execute_result"
    }
   ],
   "source": [
    "train.loc[(train.RevolvingUtilizationOfUnsecuredLines >= 1) &\n",
    "          (train.SeriousDlqin2yrs == 0), 'RevolvingUtilizationOfUnsecuredLines'] \\\n",
    "     .describe(percentiles=[.25, .5, .75, .9])"
   ]
  },
  {
   "cell_type": "code",
   "execution_count": 14,
   "id": "8802648f",
   "metadata": {},
   "outputs": [
    {
     "data": {
      "text/plain": [
       "count    1241.000000\n",
       "mean       30.770538\n",
       "std       373.791364\n",
       "min         1.000000\n",
       "25%         1.025948\n",
       "50%         1.084165\n",
       "75%         1.253651\n",
       "90%         1.635910\n",
       "max      8328.000000\n",
       "Name: RevolvingUtilizationOfUnsecuredLines, dtype: float64"
      ]
     },
     "execution_count": 14,
     "metadata": {},
     "output_type": "execute_result"
    }
   ],
   "source": [
    "train.loc[(train.RevolvingUtilizationOfUnsecuredLines >= 1) &\n",
    "          (train.SeriousDlqin2yrs == 1), 'RevolvingUtilizationOfUnsecuredLines'] \\\n",
    "     .describe(percentiles=[.25, .5, .75, .9])"
   ]
  },
  {
   "cell_type": "markdown",
   "id": "3f907fb4",
   "metadata": {},
   "source": [
    "Upon closer investigation, we can see that there are only 317 records in the training set and 245 in the testing set with more than 200% utilization rate. It is also interesting to note that the serious delinquency rate in this subset is even lower than the rest of the date at only ~17%. \n",
    "\n",
    "Since these outliers are so far away from the mean, our model will have a hard time learning and predicting them. We also cannot remove them from our dataset (we could have removed them if the outliers are only present in the training set), so we will need to consider other data cleaning/engineering options."
   ]
  },
  {
   "cell_type": "code",
   "execution_count": 37,
   "id": "07fc1856",
   "metadata": {},
   "outputs": [
    {
     "name": "stdout",
     "output_type": "stream",
     "text": [
      "Number of records with abnormal utilization rate (>= 200%) in the training set: 371\n",
      "Number of records with abnormal utilization rate (>= 200%) in the testing set: 245\n"
     ]
    }
   ],
   "source": [
    "print('Number of records with abnormal utilization rate (>= 200%) in the training set: ' + \n",
    "      f'{train.loc[train.RevolvingUtilizationOfUnsecuredLines >= 2].shape[0]}')\n",
    "print('Number of records with abnormal utilization rate (>= 200%) in the testing set: ' + \n",
    "      f'{test.loc[test.RevolvingUtilizationOfUnsecuredLines >= 2].shape[0]}')"
   ]
  },
  {
   "cell_type": "markdown",
   "id": "8ad4053a",
   "metadata": {},
   "source": [
    "Count of No Dlq/Dlq for records with abnormal utilization rate:"
   ]
  },
  {
   "cell_type": "code",
   "execution_count": 39,
   "id": "40763fcc",
   "metadata": {},
   "outputs": [
    {
     "data": {
      "text/html": [
       "<div>\n",
       "<style scoped>\n",
       "    .dataframe tbody tr th:only-of-type {\n",
       "        vertical-align: middle;\n",
       "    }\n",
       "\n",
       "    .dataframe tbody tr th {\n",
       "        vertical-align: top;\n",
       "    }\n",
       "\n",
       "    .dataframe thead th {\n",
       "        text-align: right;\n",
       "    }\n",
       "</style>\n",
       "<table border=\"1\" class=\"dataframe\">\n",
       "  <thead>\n",
       "    <tr style=\"text-align: right;\">\n",
       "      <th></th>\n",
       "      <th>count</th>\n",
       "    </tr>\n",
       "    <tr>\n",
       "      <th>SeriousDlqin2yrs</th>\n",
       "      <th></th>\n",
       "    </tr>\n",
       "  </thead>\n",
       "  <tbody>\n",
       "    <tr>\n",
       "      <th>0</th>\n",
       "      <td>317</td>\n",
       "    </tr>\n",
       "    <tr>\n",
       "      <th>1</th>\n",
       "      <td>54</td>\n",
       "    </tr>\n",
       "  </tbody>\n",
       "</table>\n",
       "</div>"
      ],
      "text/plain": [
       "                  count\n",
       "SeriousDlqin2yrs       \n",
       "0                   317\n",
       "1                    54"
      ]
     },
     "execution_count": 39,
     "metadata": {},
     "output_type": "execute_result"
    }
   ],
   "source": [
    "train.loc[train.RevolvingUtilizationOfUnsecuredLines >= 2] \\\n",
    "     .groupby(['SeriousDlqin2yrs']).agg(count=('SeriousDlqin2yrs', 'count'))"
   ]
  },
  {
   "cell_type": "markdown",
   "id": "1aa1708d",
   "metadata": {},
   "source": [
    "Finally, we can check the correlation between \"RevolvingUtilizationOfUnsecuredLines\" and our target. Even though it shows a weak negative correlation, we can still see a clear trend utilization rate vs. deliquency rate: consumers with less than 44.5% utilization rate only has 27% delinquency, while those with higher than 44.5% utilization rate has 83% deliquency ."
   ]
  },
  {
   "cell_type": "code",
   "execution_count": 41,
   "id": "aa5d5fb5",
   "metadata": {},
   "outputs": [
    {
     "data": {
      "text/html": [
       "<div>\n",
       "<style scoped>\n",
       "    .dataframe tbody tr th:only-of-type {\n",
       "        vertical-align: middle;\n",
       "    }\n",
       "\n",
       "    .dataframe tbody tr th {\n",
       "        vertical-align: top;\n",
       "    }\n",
       "\n",
       "    .dataframe thead th {\n",
       "        text-align: right;\n",
       "    }\n",
       "</style>\n",
       "<table border=\"1\" class=\"dataframe\">\n",
       "  <thead>\n",
       "    <tr style=\"text-align: right;\">\n",
       "      <th></th>\n",
       "      <th>RevolvingUtilizationOfUnsecuredLines</th>\n",
       "      <th>SeriousDlqin2yrs</th>\n",
       "    </tr>\n",
       "  </thead>\n",
       "  <tbody>\n",
       "    <tr>\n",
       "      <th>RevolvingUtilizationOfUnsecuredLines</th>\n",
       "      <td>1.000000</td>\n",
       "      <td>-0.001802</td>\n",
       "    </tr>\n",
       "    <tr>\n",
       "      <th>SeriousDlqin2yrs</th>\n",
       "      <td>-0.001802</td>\n",
       "      <td>1.000000</td>\n",
       "    </tr>\n",
       "  </tbody>\n",
       "</table>\n",
       "</div>"
      ],
      "text/plain": [
       "                                      RevolvingUtilizationOfUnsecuredLines  \\\n",
       "RevolvingUtilizationOfUnsecuredLines                              1.000000   \n",
       "SeriousDlqin2yrs                                                 -0.001802   \n",
       "\n",
       "                                      SeriousDlqin2yrs  \n",
       "RevolvingUtilizationOfUnsecuredLines         -0.001802  \n",
       "SeriousDlqin2yrs                              1.000000  "
      ]
     },
     "execution_count": 41,
     "metadata": {},
     "output_type": "execute_result"
    }
   ],
   "source": [
    "train[['RevolvingUtilizationOfUnsecuredLines', 'SeriousDlqin2yrs']].corr()"
   ]
  },
  {
   "cell_type": "code",
   "execution_count": 4,
   "id": "f409d13a",
   "metadata": {},
   "outputs": [
    {
     "data": {
      "text/html": [
       "<div>\n",
       "<style scoped>\n",
       "    .dataframe tbody tr th:only-of-type {\n",
       "        vertical-align: middle;\n",
       "    }\n",
       "\n",
       "    .dataframe tbody tr th {\n",
       "        vertical-align: top;\n",
       "    }\n",
       "\n",
       "    .dataframe thead th {\n",
       "        text-align: right;\n",
       "    }\n",
       "</style>\n",
       "<table border=\"1\" class=\"dataframe\">\n",
       "  <thead>\n",
       "    <tr style=\"text-align: right;\">\n",
       "      <th></th>\n",
       "      <th>label_cnt</th>\n",
       "      <th>label_sum</th>\n",
       "      <th>% label by revol_util_bucket</th>\n",
       "      <th>% label total</th>\n",
       "      <th>% population</th>\n",
       "    </tr>\n",
       "    <tr>\n",
       "      <th>revol_util_bucket</th>\n",
       "      <th></th>\n",
       "      <th></th>\n",
       "      <th></th>\n",
       "      <th></th>\n",
       "      <th></th>\n",
       "    </tr>\n",
       "  </thead>\n",
       "  <tbody>\n",
       "    <tr>\n",
       "      <th>(-0.001, 0.00297]</th>\n",
       "      <td>15000</td>\n",
       "      <td>378</td>\n",
       "      <td>2.520</td>\n",
       "      <td>3.770</td>\n",
       "      <td>10.0</td>\n",
       "    </tr>\n",
       "    <tr>\n",
       "      <th>(0.00297, 0.0192]</th>\n",
       "      <td>15000</td>\n",
       "      <td>204</td>\n",
       "      <td>1.360</td>\n",
       "      <td>2.035</td>\n",
       "      <td>10.0</td>\n",
       "    </tr>\n",
       "    <tr>\n",
       "      <th>(0.0192, 0.0435]</th>\n",
       "      <td>15000</td>\n",
       "      <td>210</td>\n",
       "      <td>1.400</td>\n",
       "      <td>2.095</td>\n",
       "      <td>10.0</td>\n",
       "    </tr>\n",
       "    <tr>\n",
       "      <th>(0.0435, 0.0832]</th>\n",
       "      <td>15000</td>\n",
       "      <td>287</td>\n",
       "      <td>1.913</td>\n",
       "      <td>2.863</td>\n",
       "      <td>10.0</td>\n",
       "    </tr>\n",
       "    <tr>\n",
       "      <th>(0.0832, 0.154]</th>\n",
       "      <td>15000</td>\n",
       "      <td>356</td>\n",
       "      <td>2.373</td>\n",
       "      <td>3.551</td>\n",
       "      <td>10.0</td>\n",
       "    </tr>\n",
       "    <tr>\n",
       "      <th>(0.154, 0.271]</th>\n",
       "      <td>15000</td>\n",
       "      <td>521</td>\n",
       "      <td>3.473</td>\n",
       "      <td>5.196</td>\n",
       "      <td>10.0</td>\n",
       "    </tr>\n",
       "    <tr>\n",
       "      <th>(0.271, 0.445]</th>\n",
       "      <td>15000</td>\n",
       "      <td>787</td>\n",
       "      <td>5.247</td>\n",
       "      <td>7.850</td>\n",
       "      <td>10.0</td>\n",
       "    </tr>\n",
       "    <tr>\n",
       "      <th>(0.445, 0.699]</th>\n",
       "      <td>15000</td>\n",
       "      <td>1320</td>\n",
       "      <td>8.800</td>\n",
       "      <td>13.166</td>\n",
       "      <td>10.0</td>\n",
       "    </tr>\n",
       "    <tr>\n",
       "      <th>(0.699, 0.981]</th>\n",
       "      <td>15000</td>\n",
       "      <td>2488</td>\n",
       "      <td>16.587</td>\n",
       "      <td>24.815</td>\n",
       "      <td>10.0</td>\n",
       "    </tr>\n",
       "    <tr>\n",
       "      <th>(0.981, 50708.0]</th>\n",
       "      <td>15000</td>\n",
       "      <td>3475</td>\n",
       "      <td>23.167</td>\n",
       "      <td>34.660</td>\n",
       "      <td>10.0</td>\n",
       "    </tr>\n",
       "  </tbody>\n",
       "</table>\n",
       "</div>"
      ],
      "text/plain": [
       "                   label_cnt  label_sum  % label by revol_util_bucket  \\\n",
       "revol_util_bucket                                                       \n",
       "(-0.001, 0.00297]      15000        378                         2.520   \n",
       "(0.00297, 0.0192]      15000        204                         1.360   \n",
       "(0.0192, 0.0435]       15000        210                         1.400   \n",
       "(0.0435, 0.0832]       15000        287                         1.913   \n",
       "(0.0832, 0.154]        15000        356                         2.373   \n",
       "(0.154, 0.271]         15000        521                         3.473   \n",
       "(0.271, 0.445]         15000        787                         5.247   \n",
       "(0.445, 0.699]         15000       1320                         8.800   \n",
       "(0.699, 0.981]         15000       2488                        16.587   \n",
       "(0.981, 50708.0]       15000       3475                        23.167   \n",
       "\n",
       "                   % label total  % population  \n",
       "revol_util_bucket                               \n",
       "(-0.001, 0.00297]          3.770          10.0  \n",
       "(0.00297, 0.0192]          2.035          10.0  \n",
       "(0.0192, 0.0435]           2.095          10.0  \n",
       "(0.0435, 0.0832]           2.863          10.0  \n",
       "(0.0832, 0.154]            3.551          10.0  \n",
       "(0.154, 0.271]             5.196          10.0  \n",
       "(0.271, 0.445]             7.850          10.0  \n",
       "(0.445, 0.699]            13.166          10.0  \n",
       "(0.699, 0.981]            24.815          10.0  \n",
       "(0.981, 50708.0]          34.660          10.0  "
      ]
     },
     "execution_count": 4,
     "metadata": {},
     "output_type": "execute_result"
    }
   ],
   "source": [
    "train['revol_util_bucket'] = pd.qcut(train['RevolvingUtilizationOfUnsecuredLines'], q=10)\n",
    "train_revol_util_gpby = get_pct_target_by_feat(train, 'revol_util_bucket', 'SeriousDlqin2yrs')\n",
    "train_revol_util_gpby.sort_values('revol_util_bucket', inplace=True)\n",
    "train_revol_util_gpby"
   ]
  },
  {
   "cell_type": "markdown",
   "id": "72f95d27",
   "metadata": {},
   "source": [
    "### Key takeaways\n",
    "- We can conclude the analysis of \"RevolvingUtilizationOfUnsecuredLines\" with the notion that people with a higher utilization rate have a higher probability of delinquency compared to people with a lower rate.\n",
    "- However, the distribution by label tells us that we can not clearly distinguish customers with serious delinquent from customers without based on \"RevolvingUtilizationOfUnsecuredLines\""
   ]
  },
  {
   "cell_type": "markdown",
   "id": "c5b90c8c",
   "metadata": {},
   "source": [
    "# Age"
   ]
  },
  {
   "cell_type": "markdown",
   "id": "22f2a763",
   "metadata": {},
   "source": [
    "Age is defined as the age of borrower in years. This feature may seem obvious at first, but actually it is not. First of all, we do not know if the dataset was collected all at once or at different time (i.e, if person whose age was 64 was collected in 2009 and another whose age was 30 was collected in 2010, there would be a discrepancy between the time of collection).\n",
    "\n",
    "Looking at the distribution of both datasets, we can also see that most of our customer base is middle-aged to senior people, with 75% of customers are 41 or older and 25% of customers who are 63 or older. The training and testing also seem to have very similar distribution, as they have the same value at the 25th, 50th, and 75th percentile.\n",
    "\n",
    "Next, we need to check for illogical data. We do not know the source of our data, but judging by the minimum value of age in the testing set, we can assume that it is 21. In the training set, there is only 1 record with age < 20 (and it is even 0!), which is not possible and we will need to fix this value."
   ]
  },
  {
   "cell_type": "code",
   "execution_count": 18,
   "id": "af9e3d2e",
   "metadata": {},
   "outputs": [
    {
     "data": {
      "text/plain": [
       "count    150000.000000\n",
       "mean         52.295207\n",
       "std          14.771866\n",
       "min           0.000000\n",
       "25%          41.000000\n",
       "50%          52.000000\n",
       "75%          63.000000\n",
       "max         109.000000\n",
       "Name: age, dtype: float64"
      ]
     },
     "execution_count": 18,
     "metadata": {},
     "output_type": "execute_result"
    }
   ],
   "source": [
    "train.age.describe()"
   ]
  },
  {
   "cell_type": "code",
   "execution_count": 8,
   "id": "bb465a8f",
   "metadata": {},
   "outputs": [
    {
     "data": {
      "text/plain": [
       "count    101503.000000\n",
       "mean         52.405436\n",
       "std          14.779756\n",
       "min          21.000000\n",
       "25%          41.000000\n",
       "50%          52.000000\n",
       "75%          63.000000\n",
       "max         104.000000\n",
       "Name: age, dtype: float64"
      ]
     },
     "execution_count": 8,
     "metadata": {},
     "output_type": "execute_result"
    }
   ],
   "source": [
    "test.age.describe()"
   ]
  },
  {
   "cell_type": "markdown",
   "id": "b0bcbced",
   "metadata": {},
   "source": [
    "We can also use the 2 types of t-test (Independent and Weltch) to test the hypothesis that the training set and testing set have different means. The tests confirm that the 2 sets do not have different means."
   ]
  },
  {
   "cell_type": "code",
   "execution_count": 13,
   "id": "08f8d3e5",
   "metadata": {},
   "outputs": [
    {
     "name": "stdout",
     "output_type": "stream",
     "text": [
      "Independent sample t-test: pvalue 0.0664150236751113\n",
      "Welch's two sample t-test: pvalue 0.06644318457248334\n"
     ]
    }
   ],
   "source": [
    "t_test(train, test, 'age')"
   ]
  },
  {
   "cell_type": "code",
   "execution_count": 10,
   "id": "2550b7b2",
   "metadata": {},
   "outputs": [
    {
     "data": {
      "text/plain": [
       "0    1\n",
       "Name: age, dtype: int64"
      ]
     },
     "execution_count": 10,
     "metadata": {},
     "output_type": "execute_result"
    }
   ],
   "source": [
    "train.loc[train.age <= 20, 'age'].value_counts()"
   ]
  },
  {
   "cell_type": "markdown",
   "id": "397fe12a",
   "metadata": {},
   "source": [
    "Next, we will look at the distribution of age compared to our target and draw some analysis based on the distribution plot as well as a Top-k analysis by label:\n",
    "- Over 80% of people who have a delinquent loan are between 20 and 60\n",
    "- People between 23 and 33 have a high delinquency rate (i.e, 13% of 28-yo has serious delinquency)\n",
    "- Despite the high rate (> 14%), people between 23 and 33 only account for 8% of the training set\n",
    "- Overall, 65% of age value in the training set accounts for 83% of serious delinquency"
   ]
  },
  {
   "cell_type": "code",
   "execution_count": 24,
   "id": "3c96c34c",
   "metadata": {},
   "outputs": [
    {
     "data": {
      "image/png": "[encoded data removed]",
      "text/plain": [
       "<Figure size 1080x576 with 1 Axes>"
      ]
     },
     "metadata": {
      "needs_background": "light"
     },
     "output_type": "display_data"
    }
   ],
   "source": [
    "plot_histogram(data=train,\n",
    "               x='age',\n",
    "               hue='SeriousDlqin2yrs')"
   ]
  },
  {
   "cell_type": "code",
   "execution_count": 46,
   "id": "e5d214ca",
   "metadata": {},
   "outputs": [
    {
     "name": "stdout",
     "output_type": "stream",
     "text": [
      "Sum of % positive label for Top 20: 36.626\n",
      "Sum of % population for Top 20: 23.314\n"
     ]
    },
    {
     "data": {
      "text/html": [
       "<div>\n",
       "<style scoped>\n",
       "    .dataframe tbody tr th:only-of-type {\n",
       "        vertical-align: middle;\n",
       "    }\n",
       "\n",
       "    .dataframe tbody tr th {\n",
       "        vertical-align: top;\n",
       "    }\n",
       "\n",
       "    .dataframe thead th {\n",
       "        text-align: right;\n",
       "    }\n",
       "</style>\n",
       "<table border=\"1\" class=\"dataframe\">\n",
       "  <thead>\n",
       "    <tr style=\"text-align: right;\">\n",
       "      <th></th>\n",
       "      <th>label_cnt</th>\n",
       "      <th>label_sum</th>\n",
       "      <th>% label by age</th>\n",
       "      <th>% label total</th>\n",
       "      <th>% population</th>\n",
       "    </tr>\n",
       "    <tr>\n",
       "      <th>age</th>\n",
       "      <th></th>\n",
       "      <th></th>\n",
       "      <th></th>\n",
       "      <th></th>\n",
       "      <th></th>\n",
       "    </tr>\n",
       "  </thead>\n",
       "  <tbody>\n",
       "    <tr>\n",
       "      <th>101</th>\n",
       "      <td>3</td>\n",
       "      <td>1</td>\n",
       "      <td>33.333</td>\n",
       "      <td>0.010</td>\n",
       "      <td>0.002</td>\n",
       "    </tr>\n",
       "    <tr>\n",
       "      <th>99</th>\n",
       "      <td>9</td>\n",
       "      <td>2</td>\n",
       "      <td>22.222</td>\n",
       "      <td>0.020</td>\n",
       "      <td>0.006</td>\n",
       "    </tr>\n",
       "    <tr>\n",
       "      <th>28</th>\n",
       "      <td>1560</td>\n",
       "      <td>205</td>\n",
       "      <td>13.141</td>\n",
       "      <td>2.045</td>\n",
       "      <td>1.040</td>\n",
       "    </tr>\n",
       "    <tr>\n",
       "      <th>25</th>\n",
       "      <td>953</td>\n",
       "      <td>121</td>\n",
       "      <td>12.697</td>\n",
       "      <td>1.207</td>\n",
       "      <td>0.635</td>\n",
       "    </tr>\n",
       "    <tr>\n",
       "      <th>27</th>\n",
       "      <td>1338</td>\n",
       "      <td>166</td>\n",
       "      <td>12.407</td>\n",
       "      <td>1.656</td>\n",
       "      <td>0.892</td>\n",
       "    </tr>\n",
       "    <tr>\n",
       "      <th>26</th>\n",
       "      <td>1193</td>\n",
       "      <td>147</td>\n",
       "      <td>12.322</td>\n",
       "      <td>1.466</td>\n",
       "      <td>0.795</td>\n",
       "    </tr>\n",
       "    <tr>\n",
       "      <th>24</th>\n",
       "      <td>816</td>\n",
       "      <td>98</td>\n",
       "      <td>12.010</td>\n",
       "      <td>0.977</td>\n",
       "      <td>0.544</td>\n",
       "    </tr>\n",
       "    <tr>\n",
       "      <th>32</th>\n",
       "      <td>2050</td>\n",
       "      <td>233</td>\n",
       "      <td>11.366</td>\n",
       "      <td>2.324</td>\n",
       "      <td>1.367</td>\n",
       "    </tr>\n",
       "    <tr>\n",
       "      <th>33</th>\n",
       "      <td>2239</td>\n",
       "      <td>246</td>\n",
       "      <td>10.987</td>\n",
       "      <td>2.454</td>\n",
       "      <td>1.493</td>\n",
       "    </tr>\n",
       "    <tr>\n",
       "      <th>23</th>\n",
       "      <td>641</td>\n",
       "      <td>70</td>\n",
       "      <td>10.920</td>\n",
       "      <td>0.698</td>\n",
       "      <td>0.427</td>\n",
       "    </tr>\n",
       "    <tr>\n",
       "      <th>30</th>\n",
       "      <td>1937</td>\n",
       "      <td>209</td>\n",
       "      <td>10.790</td>\n",
       "      <td>2.085</td>\n",
       "      <td>1.291</td>\n",
       "    </tr>\n",
       "    <tr>\n",
       "      <th>35</th>\n",
       "      <td>2246</td>\n",
       "      <td>241</td>\n",
       "      <td>10.730</td>\n",
       "      <td>2.404</td>\n",
       "      <td>1.497</td>\n",
       "    </tr>\n",
       "    <tr>\n",
       "      <th>31</th>\n",
       "      <td>2038</td>\n",
       "      <td>217</td>\n",
       "      <td>10.648</td>\n",
       "      <td>2.164</td>\n",
       "      <td>1.359</td>\n",
       "    </tr>\n",
       "    <tr>\n",
       "      <th>29</th>\n",
       "      <td>1702</td>\n",
       "      <td>179</td>\n",
       "      <td>10.517</td>\n",
       "      <td>1.785</td>\n",
       "      <td>1.135</td>\n",
       "    </tr>\n",
       "    <tr>\n",
       "      <th>36</th>\n",
       "      <td>2379</td>\n",
       "      <td>237</td>\n",
       "      <td>9.962</td>\n",
       "      <td>2.364</td>\n",
       "      <td>1.586</td>\n",
       "    </tr>\n",
       "    <tr>\n",
       "      <th>34</th>\n",
       "      <td>2155</td>\n",
       "      <td>210</td>\n",
       "      <td>9.745</td>\n",
       "      <td>2.095</td>\n",
       "      <td>1.437</td>\n",
       "    </tr>\n",
       "    <tr>\n",
       "      <th>41</th>\n",
       "      <td>3122</td>\n",
       "      <td>294</td>\n",
       "      <td>9.417</td>\n",
       "      <td>2.932</td>\n",
       "      <td>2.081</td>\n",
       "    </tr>\n",
       "    <tr>\n",
       "      <th>42</th>\n",
       "      <td>3082</td>\n",
       "      <td>289</td>\n",
       "      <td>9.377</td>\n",
       "      <td>2.883</td>\n",
       "      <td>2.055</td>\n",
       "    </tr>\n",
       "    <tr>\n",
       "      <th>39</th>\n",
       "      <td>2987</td>\n",
       "      <td>280</td>\n",
       "      <td>9.374</td>\n",
       "      <td>2.793</td>\n",
       "      <td>1.991</td>\n",
       "    </tr>\n",
       "    <tr>\n",
       "      <th>37</th>\n",
       "      <td>2521</td>\n",
       "      <td>227</td>\n",
       "      <td>9.004</td>\n",
       "      <td>2.264</td>\n",
       "      <td>1.681</td>\n",
       "    </tr>\n",
       "  </tbody>\n",
       "</table>\n",
       "</div>"
      ],
      "text/plain": [
       "     label_cnt  label_sum  % label by age  % label total  % population\n",
       "age                                                                   \n",
       "101          3          1          33.333          0.010         0.002\n",
       "99           9          2          22.222          0.020         0.006\n",
       "28        1560        205          13.141          2.045         1.040\n",
       "25         953        121          12.697          1.207         0.635\n",
       "27        1338        166          12.407          1.656         0.892\n",
       "26        1193        147          12.322          1.466         0.795\n",
       "24         816         98          12.010          0.977         0.544\n",
       "32        2050        233          11.366          2.324         1.367\n",
       "33        2239        246          10.987          2.454         1.493\n",
       "23         641         70          10.920          0.698         0.427\n",
       "30        1937        209          10.790          2.085         1.291\n",
       "35        2246        241          10.730          2.404         1.497\n",
       "31        2038        217          10.648          2.164         1.359\n",
       "29        1702        179          10.517          1.785         1.135\n",
       "36        2379        237           9.962          2.364         1.586\n",
       "34        2155        210           9.745          2.095         1.437\n",
       "41        3122        294           9.417          2.932         2.081\n",
       "42        3082        289           9.377          2.883         2.055\n",
       "39        2987        280           9.374          2.793         1.991\n",
       "37        2521        227           9.004          2.264         1.681"
      ]
     },
     "execution_count": 46,
     "metadata": {},
     "output_type": "execute_result"
    }
   ],
   "source": [
    "top_k = 20\n",
    "train_age_gpby = get_pct_target_by_feat(train, 'age', 'SeriousDlqin2yrs')\n",
    "print(f\"Sum of % positive label for Top {top_k}: {str(train_age_gpby.iloc[:top_k].sum()['% label total'])}\")\n",
    "print(f\"Sum of % population for Top {top_k}: {str(train_age_gpby.iloc[:top_k].sum()['% population'])}\")\n",
    "train_age_gpby.head(top_k)"
   ]
  },
  {
   "cell_type": "markdown",
   "id": "7ea14d6e",
   "metadata": {},
   "source": [
    "On the other end of the distribution, we can see that the dataset has a particularly old population (as mentioned with over 25% of people who are 63 and older, and ~12% of people who are 70 and older). This part of the dataset also has a low delinquency rate, as the total delinquency rate of people who are 70 and older is less than 1%"
   ]
  },
  {
   "cell_type": "code",
   "execution_count": 52,
   "id": "91444079",
   "metadata": {},
   "outputs": [
    {
     "name": "stdout",
     "output_type": "stream",
     "text": [
      "% of indv. > 70 yo: 11.757\n",
      "% of indv. > 80 yo: 3.291\n",
      "% of indv. > 90 yo: 0.326\n",
      "% of indv. > 100 yo: 0.009\n"
     ]
    }
   ],
   "source": [
    "print(f'% of indv. > 70 yo: {round(train.loc[train.age > 70].shape[0] / train.shape[0] * 100, 3)}')\n",
    "print(f'% of indv. > 80 yo: {round(train.loc[train.age > 80].shape[0] / train.shape[0] * 100, 3)}')\n",
    "print(f'% of indv. > 90 yo: {round(train.loc[train.age > 90].shape[0] / train.shape[0] * 100, 3)}')\n",
    "print(f'% of indv. > 100 yo: {round(train.loc[train.age > 100].shape[0] / train.shape[0] * 100, 3)}')"
   ]
  },
  {
   "cell_type": "code",
   "execution_count": 53,
   "id": "c47242d0",
   "metadata": {},
   "outputs": [
    {
     "data": {
      "text/html": [
       "<div>\n",
       "<style scoped>\n",
       "    .dataframe tbody tr th:only-of-type {\n",
       "        vertical-align: middle;\n",
       "    }\n",
       "\n",
       "    .dataframe tbody tr th {\n",
       "        vertical-align: top;\n",
       "    }\n",
       "\n",
       "    .dataframe thead th {\n",
       "        text-align: right;\n",
       "    }\n",
       "</style>\n",
       "<table border=\"1\" class=\"dataframe\">\n",
       "  <thead>\n",
       "    <tr style=\"text-align: right;\">\n",
       "      <th></th>\n",
       "      <th>label_cnt</th>\n",
       "      <th>label_sum</th>\n",
       "      <th>% label by age</th>\n",
       "      <th>% label total</th>\n",
       "      <th>% population</th>\n",
       "    </tr>\n",
       "    <tr>\n",
       "      <th>age</th>\n",
       "      <th></th>\n",
       "      <th></th>\n",
       "      <th></th>\n",
       "      <th></th>\n",
       "      <th></th>\n",
       "    </tr>\n",
       "  </thead>\n",
       "  <tbody>\n",
       "    <tr>\n",
       "      <th>83</th>\n",
       "      <td>512</td>\n",
       "      <td>10</td>\n",
       "      <td>1.953</td>\n",
       "      <td>0.100</td>\n",
       "      <td>0.341</td>\n",
       "    </tr>\n",
       "    <tr>\n",
       "      <th>85</th>\n",
       "      <td>483</td>\n",
       "      <td>9</td>\n",
       "      <td>1.863</td>\n",
       "      <td>0.090</td>\n",
       "      <td>0.322</td>\n",
       "    </tr>\n",
       "    <tr>\n",
       "      <th>69</th>\n",
       "      <td>1954</td>\n",
       "      <td>35</td>\n",
       "      <td>1.791</td>\n",
       "      <td>0.349</td>\n",
       "      <td>1.303</td>\n",
       "    </tr>\n",
       "    <tr>\n",
       "      <th>75</th>\n",
       "      <td>1241</td>\n",
       "      <td>22</td>\n",
       "      <td>1.773</td>\n",
       "      <td>0.219</td>\n",
       "      <td>0.827</td>\n",
       "    </tr>\n",
       "    <tr>\n",
       "      <th>84</th>\n",
       "      <td>480</td>\n",
       "      <td>8</td>\n",
       "      <td>1.667</td>\n",
       "      <td>0.080</td>\n",
       "      <td>0.320</td>\n",
       "    </tr>\n",
       "    <tr>\n",
       "      <th>77</th>\n",
       "      <td>1099</td>\n",
       "      <td>18</td>\n",
       "      <td>1.638</td>\n",
       "      <td>0.180</td>\n",
       "      <td>0.733</td>\n",
       "    </tr>\n",
       "    <tr>\n",
       "      <th>90</th>\n",
       "      <td>198</td>\n",
       "      <td>3</td>\n",
       "      <td>1.515</td>\n",
       "      <td>0.030</td>\n",
       "      <td>0.132</td>\n",
       "    </tr>\n",
       "    <tr>\n",
       "      <th>86</th>\n",
       "      <td>407</td>\n",
       "      <td>6</td>\n",
       "      <td>1.474</td>\n",
       "      <td>0.060</td>\n",
       "      <td>0.271</td>\n",
       "    </tr>\n",
       "    <tr>\n",
       "      <th>81</th>\n",
       "      <td>774</td>\n",
       "      <td>9</td>\n",
       "      <td>1.163</td>\n",
       "      <td>0.090</td>\n",
       "      <td>0.516</td>\n",
       "    </tr>\n",
       "    <tr>\n",
       "      <th>93</th>\n",
       "      <td>87</td>\n",
       "      <td>1</td>\n",
       "      <td>1.149</td>\n",
       "      <td>0.010</td>\n",
       "      <td>0.058</td>\n",
       "    </tr>\n",
       "    <tr>\n",
       "      <th>107</th>\n",
       "      <td>1</td>\n",
       "      <td>0</td>\n",
       "      <td>0.000</td>\n",
       "      <td>0.000</td>\n",
       "      <td>0.001</td>\n",
       "    </tr>\n",
       "    <tr>\n",
       "      <th>105</th>\n",
       "      <td>1</td>\n",
       "      <td>0</td>\n",
       "      <td>0.000</td>\n",
       "      <td>0.000</td>\n",
       "      <td>0.001</td>\n",
       "    </tr>\n",
       "    <tr>\n",
       "      <th>103</th>\n",
       "      <td>3</td>\n",
       "      <td>0</td>\n",
       "      <td>0.000</td>\n",
       "      <td>0.000</td>\n",
       "      <td>0.002</td>\n",
       "    </tr>\n",
       "    <tr>\n",
       "      <th>102</th>\n",
       "      <td>3</td>\n",
       "      <td>0</td>\n",
       "      <td>0.000</td>\n",
       "      <td>0.000</td>\n",
       "      <td>0.002</td>\n",
       "    </tr>\n",
       "    <tr>\n",
       "      <th>0</th>\n",
       "      <td>1</td>\n",
       "      <td>0</td>\n",
       "      <td>0.000</td>\n",
       "      <td>0.000</td>\n",
       "      <td>0.001</td>\n",
       "    </tr>\n",
       "    <tr>\n",
       "      <th>98</th>\n",
       "      <td>6</td>\n",
       "      <td>0</td>\n",
       "      <td>0.000</td>\n",
       "      <td>0.000</td>\n",
       "      <td>0.004</td>\n",
       "    </tr>\n",
       "    <tr>\n",
       "      <th>97</th>\n",
       "      <td>17</td>\n",
       "      <td>0</td>\n",
       "      <td>0.000</td>\n",
       "      <td>0.000</td>\n",
       "      <td>0.011</td>\n",
       "    </tr>\n",
       "    <tr>\n",
       "      <th>96</th>\n",
       "      <td>18</td>\n",
       "      <td>0</td>\n",
       "      <td>0.000</td>\n",
       "      <td>0.000</td>\n",
       "      <td>0.012</td>\n",
       "    </tr>\n",
       "    <tr>\n",
       "      <th>92</th>\n",
       "      <td>93</td>\n",
       "      <td>0</td>\n",
       "      <td>0.000</td>\n",
       "      <td>0.000</td>\n",
       "      <td>0.062</td>\n",
       "    </tr>\n",
       "    <tr>\n",
       "      <th>109</th>\n",
       "      <td>2</td>\n",
       "      <td>0</td>\n",
       "      <td>0.000</td>\n",
       "      <td>0.000</td>\n",
       "      <td>0.001</td>\n",
       "    </tr>\n",
       "  </tbody>\n",
       "</table>\n",
       "</div>"
      ],
      "text/plain": [
       "     label_cnt  label_sum  % label by age  % label total  % population\n",
       "age                                                                   \n",
       "83         512         10           1.953          0.100         0.341\n",
       "85         483          9           1.863          0.090         0.322\n",
       "69        1954         35           1.791          0.349         1.303\n",
       "75        1241         22           1.773          0.219         0.827\n",
       "84         480          8           1.667          0.080         0.320\n",
       "77        1099         18           1.638          0.180         0.733\n",
       "90         198          3           1.515          0.030         0.132\n",
       "86         407          6           1.474          0.060         0.271\n",
       "81         774          9           1.163          0.090         0.516\n",
       "93          87          1           1.149          0.010         0.058\n",
       "107          1          0           0.000          0.000         0.001\n",
       "105          1          0           0.000          0.000         0.001\n",
       "103          3          0           0.000          0.000         0.002\n",
       "102          3          0           0.000          0.000         0.002\n",
       "0            1          0           0.000          0.000         0.001\n",
       "98           6          0           0.000          0.000         0.004\n",
       "97          17          0           0.000          0.000         0.011\n",
       "96          18          0           0.000          0.000         0.012\n",
       "92          93          0           0.000          0.000         0.062\n",
       "109          2          0           0.000          0.000         0.001"
      ]
     },
     "execution_count": 53,
     "metadata": {},
     "output_type": "execute_result"
    }
   ],
   "source": [
    "train_age_gpby.tail(top_k)"
   ]
  },
  {
   "cell_type": "markdown",
   "id": "a1c07bef",
   "metadata": {},
   "source": [
    "Finally, we will check the Pearson correlation between \"age\" and our target, and we can see that there is indeed a negative correlation."
   ]
  },
  {
   "cell_type": "code",
   "execution_count": 40,
   "id": "1fca21e9",
   "metadata": {},
   "outputs": [
    {
     "data": {
      "text/html": [
       "<div>\n",
       "<style scoped>\n",
       "    .dataframe tbody tr th:only-of-type {\n",
       "        vertical-align: middle;\n",
       "    }\n",
       "\n",
       "    .dataframe tbody tr th {\n",
       "        vertical-align: top;\n",
       "    }\n",
       "\n",
       "    .dataframe thead th {\n",
       "        text-align: right;\n",
       "    }\n",
       "</style>\n",
       "<table border=\"1\" class=\"dataframe\">\n",
       "  <thead>\n",
       "    <tr style=\"text-align: right;\">\n",
       "      <th></th>\n",
       "      <th>age</th>\n",
       "      <th>SeriousDlqin2yrs</th>\n",
       "    </tr>\n",
       "  </thead>\n",
       "  <tbody>\n",
       "    <tr>\n",
       "      <th>age</th>\n",
       "      <td>1.000000</td>\n",
       "      <td>-0.115386</td>\n",
       "    </tr>\n",
       "    <tr>\n",
       "      <th>SeriousDlqin2yrs</th>\n",
       "      <td>-0.115386</td>\n",
       "      <td>1.000000</td>\n",
       "    </tr>\n",
       "  </tbody>\n",
       "</table>\n",
       "</div>"
      ],
      "text/plain": [
       "                       age  SeriousDlqin2yrs\n",
       "age               1.000000         -0.115386\n",
       "SeriousDlqin2yrs -0.115386          1.000000"
      ]
     },
     "execution_count": 40,
     "metadata": {},
     "output_type": "execute_result"
    }
   ],
   "source": [
    "train[['age', 'SeriousDlqin2yrs']].corr()"
   ]
  },
  {
   "cell_type": "markdown",
   "id": "27e32781",
   "metadata": {},
   "source": [
    "### Key takeaways \n",
    "- We can conclude the analysis of \"Age\" with the notion that younger people have a higher probability of delinquency compared to older people\n",
    "- However, the distribution by label tells us that we can not clearly distinguish customers with serious delinquent from customers without based on \"Age\""
   ]
  },
  {
   "cell_type": "markdown",
   "id": "fd8eb979",
   "metadata": {},
   "source": [
    "# Debt ratio"
   ]
  },
  {
   "cell_type": "markdown",
   "id": "4793f5b9-d8d6-4915-ac55-6e3676cf6b0b",
   "metadata": {},
   "source": [
    "Debt ratio is defined as Monthly debt payments, alimony,living costs divided by monthy gross income. It is our intuition that a customer with a high debt ratio will be more likely to default on his loan and vice versa. \n",
    "\n",
    "It is also useful to note that since we have MonthlyIncome in our dataset, we can combine the 2 features to create a monthly debt payments feature."
   ]
  },
  {
   "cell_type": "markdown",
   "id": "285a96f1-82cc-4205-a4be-a975e9097a72",
   "metadata": {},
   "source": [
    "Looking at the distribution of both datasets, we can see that the majority of our dataset has a low debt ratio:\n",
    "- 25% has less than ~18% debt ratio\n",
    "- 50% has less than ~37% debt ratio\n",
    "\n",
    "However, we can see after the 75th percentile that our combined dataset has ~85% debt ratio. And same as the RevolvingUtilized gain there are outliers on the right tail of our data, as we can see records with over 30,000%(!) monthly debt to income ratio in the training set and over 77,000% monthly debt to income ratio in the testing set."
   ]
  },
  {
   "cell_type": "code",
   "execution_count": 4,
   "id": "efdd6240-4f3d-4431-a07e-27f4e5006cda",
   "metadata": {
    "tags": []
   },
   "outputs": [
    {
     "data": {
      "text/plain": [
       "count    150000.000000\n",
       "mean        353.005076\n",
       "std        2037.818523\n",
       "min           0.000000\n",
       "25%           0.175074\n",
       "50%           0.366508\n",
       "75%           0.868254\n",
       "90%        1267.000000\n",
       "max      329664.000000\n",
       "Name: DebtRatio, dtype: float64"
      ]
     },
     "execution_count": 4,
     "metadata": {},
     "output_type": "execute_result"
    }
   ],
   "source": [
    "train.DebtRatio.describe(percentiles=[.25, .5, .75, .9])"
   ]
  },
  {
   "cell_type": "code",
   "execution_count": 5,
   "id": "be7072bf-a579-466e-a70d-c3e10074e18e",
   "metadata": {
    "tags": []
   },
   "outputs": [
    {
     "data": {
      "text/plain": [
       "count    101503.000000\n",
       "mean        344.475020\n",
       "std        1632.595231\n",
       "min           0.000000\n",
       "25%           0.173423\n",
       "50%           0.364260\n",
       "75%           0.851619\n",
       "90%        1238.800000\n",
       "max      268326.000000\n",
       "Name: DebtRatio, dtype: float64"
      ]
     },
     "execution_count": 5,
     "metadata": {},
     "output_type": "execute_result"
    }
   ],
   "source": [
    "test.DebtRatio.describe(percentiles=[.25, .5, .75, .9])"
   ]
  },
  {
   "cell_type": "markdown",
   "id": "5f6a1f06",
   "metadata": {},
   "source": [
    "We can also use the 2 types of t-test (Independent and Weltch) to test the hypothesis that the training set and testing set have different means. The tests confirm that the 2 sets do not have different means."
   ]
  },
  {
   "cell_type": "code",
   "execution_count": 20,
   "id": "150c7432",
   "metadata": {},
   "outputs": [
    {
     "name": "stdout",
     "output_type": "stream",
     "text": [
      "Independent sample t-test: pvalue 0.26548172238591644\n",
      "Welch's two sample t-test: pvalue 0.24548073756945765\n"
     ]
    }
   ],
   "source": [
    "t_test(train, test, 'DebtRatio')"
   ]
  },
  {
   "cell_type": "markdown",
   "id": "46319aad-df8d-465b-8d3d-7edfa1f075dd",
   "metadata": {},
   "source": [
    "Next we will look at the distribution of this feature relative to our label, and once again we will divide the analysis in 2 seperate portions (<= 100% and > 100% debt ratio) since the outliers on the right tail will make it difficult to visualize the combined data:\n",
    "\n",
    "- The portions of the training set with <= 100% (~77%) debt ratio shows a few interesting things. First of all, it has 2 peaks: the first one at close to 0% and the second one at close to 30%. Secondly, we would have expected a positive correlation between DebtRatio and delinquency, but in reality delinquency has a smooth distribution relative to debt ratio.\n",
    "- On the other hand, the portions of data with > 100% (~23%) debt ratio only has 1 peak close to 100% (the number of delinquency also focuses around this peak), and the larger values have a more uniform distribution."
   ]
  },
  {
   "cell_type": "code",
   "execution_count": 25,
   "id": "5435b73f-bfcf-4a86-836b-a1eb484c24c4",
   "metadata": {
    "tags": []
   },
   "outputs": [
    {
     "data": {
      "image/png": "[encoded data removed]",
      "text/plain": [
       "<Figure size 1080x576 with 1 Axes>"
      ]
     },
     "metadata": {
      "needs_background": "light"
     },
     "output_type": "display_data"
    }
   ],
   "source": [
    "plot_histogram(data=train.loc[train.DebtRatio < 1],\n",
    "               x='DebtRatio',\n",
    "               hue='SeriousDlqin2yrs')"
   ]
  },
  {
   "cell_type": "code",
   "execution_count": 26,
   "id": "bf5ecd2c-9483-4833-b042-48b60ddc60a8",
   "metadata": {
    "tags": []
   },
   "outputs": [
    {
     "data": {
      "image/png": "[encoded data removed]",
      "text/plain": [
       "<Figure size 1080x576 with 1 Axes>"
      ]
     },
     "metadata": {
      "needs_background": "light"
     },
     "output_type": "display_data"
    }
   ],
   "source": [
    "plot_histogram(data=train.loc[(train.DebtRatio > 1) & (train.DebtRatio < 1000)],\n",
    "               x='DebtRatio',\n",
    "               hue='SeriousDlqin2yrs')"
   ]
  },
  {
   "cell_type": "markdown",
   "id": "8016f42f-235e-4623-8e49-40d32e824518",
   "metadata": {},
   "source": [
    "Due to the skewness nature of DebtRatio, we can consider log transform this variable. After the transformation, we can observe that the distribution of the variable follows a more Gaussian one. However, we notice that the variable still has a slightly high concentration within the value range of 5-10."
   ]
  },
  {
   "cell_type": "code",
   "execution_count": 7,
   "id": "7c255cb4-2a31-47c2-9b47-55250fe0c527",
   "metadata": {},
   "outputs": [
    {
     "name": "stderr",
     "output_type": "stream",
     "text": [
      "C:\\Users\\Hieu Trieu\\AppData\\Local\\Programs\\Python\\Python311\\Lib\\site-packages\\pandas\\core\\arraylike.py:396: RuntimeWarning: divide by zero encountered in log\n",
      "  result = getattr(ufunc, method)(*inputs, **kwargs)\n"
     ]
    },
    {
     "data": {
      "image/png": "[encoded data removed]",
      "text/plain": [
       "<Figure size 1500x800 with 1 Axes>"
      ]
     },
     "metadata": {},
     "output_type": "display_data"
    }
   ],
   "source": [
    "train['LogDebtRatio'] = np.log(train['DebtRatio'])\n",
    "plot_histogram(data=train,\n",
    "               x='LogDebtRatio',\n",
    "               hue='SeriousDlqin2yrs')"
   ]
  },
  {
   "cell_type": "markdown",
   "id": "7e7ce3d2-0349-42b9-aadd-03f5551e3726",
   "metadata": {},
   "source": [
    "Finally, we will check the Pearson correlation between \"DebtRatio\" and our target, and we can see that there is a small negative correlation. This is reflected in our analysis, where the distribution of deliquency focuses around the peaks of DebtRatio, which is mostly on lower values."
   ]
  },
  {
   "cell_type": "code",
   "execution_count": 7,
   "id": "b24cf14b-4f41-4778-99e0-2030a3e6cc78",
   "metadata": {
    "tags": []
   },
   "outputs": [
    {
     "data": {
      "text/html": [
       "<div>\n",
       "<style scoped>\n",
       "    .dataframe tbody tr th:only-of-type {\n",
       "        vertical-align: middle;\n",
       "    }\n",
       "\n",
       "    .dataframe tbody tr th {\n",
       "        vertical-align: top;\n",
       "    }\n",
       "\n",
       "    .dataframe thead th {\n",
       "        text-align: right;\n",
       "    }\n",
       "</style>\n",
       "<table border=\"1\" class=\"dataframe\">\n",
       "  <thead>\n",
       "    <tr style=\"text-align: right;\">\n",
       "      <th></th>\n",
       "      <th>DebtRatio</th>\n",
       "      <th>SeriousDlqin2yrs</th>\n",
       "    </tr>\n",
       "  </thead>\n",
       "  <tbody>\n",
       "    <tr>\n",
       "      <th>DebtRatio</th>\n",
       "      <td>1.000000</td>\n",
       "      <td>-0.007602</td>\n",
       "    </tr>\n",
       "    <tr>\n",
       "      <th>SeriousDlqin2yrs</th>\n",
       "      <td>-0.007602</td>\n",
       "      <td>1.000000</td>\n",
       "    </tr>\n",
       "  </tbody>\n",
       "</table>\n",
       "</div>"
      ],
      "text/plain": [
       "                  DebtRatio  SeriousDlqin2yrs\n",
       "DebtRatio          1.000000         -0.007602\n",
       "SeriousDlqin2yrs  -0.007602          1.000000"
      ]
     },
     "execution_count": 7,
     "metadata": {},
     "output_type": "execute_result"
    }
   ],
   "source": [
    "train[['DebtRatio', 'SeriousDlqin2yrs']].corr()"
   ]
  },
  {
   "cell_type": "markdown",
   "id": "1120df6d-eadc-47a4-8ba1-f7c09725da7e",
   "metadata": {},
   "source": [
    "### Key takeaway\n",
    "- We can conclude the analysis of \"age\" with the notion that younger people have a higher probability of delinquency compared to older people.\n",
    "- However, the distribution by label tells us that we can not clearly distinguish customers with serious delinquent from customers without based on \"age\"\n",
    "- We will log transform the variable to make the variable follow a Gaussian distribution"
   ]
  },
  {
   "cell_type": "markdown",
   "id": "ebde0063-a545-439c-b235-9ba9af20bf77",
   "metadata": {},
   "source": [
    "# MonthlyIncome"
   ]
  },
  {
   "cell_type": "markdown",
   "id": "eb5cabae-684a-4960-8ee7-3ce64d4308de",
   "metadata": {},
   "source": [
    "MonthlyIncome is defined as the Monthly Income of a customer. We can hope that the more monthly income a customer has, the easier it will be for the customer to pay off his debts and thus have a lower probability of defaulting on loans."
   ]
  },
  {
   "cell_type": "code",
   "execution_count": 8,
   "id": "b818b0de-826b-4aaf-9ebf-09d295490d72",
   "metadata": {
    "tags": []
   },
   "outputs": [
    {
     "data": {
      "text/plain": [
       "count    1.202690e+05\n",
       "mean     6.670221e+03\n",
       "std      1.438467e+04\n",
       "min      0.000000e+00\n",
       "25%      3.400000e+03\n",
       "50%      5.400000e+03\n",
       "75%      8.249000e+03\n",
       "90%      1.166600e+04\n",
       "max      3.008750e+06\n",
       "Name: MonthlyIncome, dtype: float64"
      ]
     },
     "execution_count": 8,
     "metadata": {},
     "output_type": "execute_result"
    }
   ],
   "source": [
    "train.MonthlyIncome.describe(percentiles=[.25, .5, .75, .9])"
   ]
  },
  {
   "cell_type": "code",
   "execution_count": 10,
   "id": "38e1318b-b521-4be4-9420-986904899e23",
   "metadata": {
    "tags": []
   },
   "outputs": [
    {
     "data": {
      "text/plain": [
       "count    8.140000e+04\n",
       "mean     6.855036e+03\n",
       "std      3.650860e+04\n",
       "min      0.000000e+00\n",
       "25%      3.408000e+03\n",
       "50%      5.400000e+03\n",
       "75%      8.200000e+03\n",
       "90%      1.150000e+04\n",
       "max      7.727000e+06\n",
       "Name: MonthlyIncome, dtype: float64"
      ]
     },
     "execution_count": 10,
     "metadata": {},
     "output_type": "execute_result"
    }
   ],
   "source": [
    "test.MonthlyIncome.describe(percentiles=[.25, .5, .75, .9])"
   ]
  },
  {
   "cell_type": "markdown",
   "id": "eea751be",
   "metadata": {},
   "source": [
    "We can also use the 2 types of t-test (Independent and Weltch) to test the hypothesis that the training set and testing set have different means. The tests confirm that the 2 sets do not have different means."
   ]
  },
  {
   "cell_type": "code",
   "execution_count": 19,
   "id": "d459ec92",
   "metadata": {},
   "outputs": [
    {
     "name": "stdout",
     "output_type": "stream",
     "text": [
      "Independent sample t-test: pvalue 0.11334389454148659\n",
      "Welch's two sample t-test: pvalue 0.1694732812622315\n"
     ]
    }
   ],
   "source": [
    "t_test(train, test, 'MonthlyIncome')"
   ]
  },
  {
   "cell_type": "markdown",
   "id": "30386000",
   "metadata": {},
   "source": [
    "As we noted at the beginning, this feature has 20% missing data. We will first take a look at the distribution of other features based on 2 subsets (missing MonthlyIncome and not missing MonthlyIncome) to see if there is strange patterns.\n",
    "\n",
    "Indeed, this subset of customers is older and have a significantly higher debt ratio compared to the rest of our dataset."
   ]
  },
  {
   "cell_type": "code",
   "execution_count": 5,
   "id": "74df1f17",
   "metadata": {},
   "outputs": [
    {
     "data": {
      "text/html": [
       "<div>\n",
       "<style scoped>\n",
       "    .dataframe tbody tr th:only-of-type {\n",
       "        vertical-align: middle;\n",
       "    }\n",
       "\n",
       "    .dataframe tbody tr th {\n",
       "        vertical-align: top;\n",
       "    }\n",
       "\n",
       "    .dataframe thead th {\n",
       "        text-align: right;\n",
       "    }\n",
       "</style>\n",
       "<table border=\"1\" class=\"dataframe\">\n",
       "  <thead>\n",
       "    <tr style=\"text-align: right;\">\n",
       "      <th></th>\n",
       "      <th>Unnamed: 0</th>\n",
       "      <th>SeriousDlqin2yrs</th>\n",
       "      <th>RevolvingUtilizationOfUnsecuredLines</th>\n",
       "      <th>age</th>\n",
       "      <th>NumberOfTime30-59DaysPastDueNotWorse</th>\n",
       "      <th>DebtRatio</th>\n",
       "      <th>MonthlyIncome</th>\n",
       "      <th>NumberOfOpenCreditLinesAndLoans</th>\n",
       "      <th>NumberOfTimes90DaysLate</th>\n",
       "      <th>NumberRealEstateLoansOrLines</th>\n",
       "      <th>NumberOfTime60-89DaysPastDueNotWorse</th>\n",
       "      <th>NumberOfDependents</th>\n",
       "    </tr>\n",
       "  </thead>\n",
       "  <tbody>\n",
       "    <tr>\n",
       "      <th>count</th>\n",
       "      <td>29731.000000</td>\n",
       "      <td>29731.000000</td>\n",
       "      <td>29731.000000</td>\n",
       "      <td>29731.000000</td>\n",
       "      <td>29731.000000</td>\n",
       "      <td>29731.000000</td>\n",
       "      <td>0.0</td>\n",
       "      <td>29731.000000</td>\n",
       "      <td>29731.000000</td>\n",
       "      <td>29731.000000</td>\n",
       "      <td>29731.000000</td>\n",
       "      <td>25807.000000</td>\n",
       "    </tr>\n",
       "    <tr>\n",
       "      <th>mean</th>\n",
       "      <td>74897.295786</td>\n",
       "      <td>0.056137</td>\n",
       "      <td>6.649421</td>\n",
       "      <td>56.362349</td>\n",
       "      <td>0.579866</td>\n",
       "      <td>1673.396556</td>\n",
       "      <td>NaN</td>\n",
       "      <td>7.216071</td>\n",
       "      <td>0.484612</td>\n",
       "      <td>0.871481</td>\n",
       "      <td>0.452995</td>\n",
       "      <td>0.316310</td>\n",
       "    </tr>\n",
       "    <tr>\n",
       "      <th>std</th>\n",
       "      <td>43364.172076</td>\n",
       "      <td>0.230189</td>\n",
       "      <td>217.814854</td>\n",
       "      <td>15.438786</td>\n",
       "      <td>6.255361</td>\n",
       "      <td>4248.372895</td>\n",
       "      <td>NaN</td>\n",
       "      <td>4.842720</td>\n",
       "      <td>6.250408</td>\n",
       "      <td>1.034291</td>\n",
       "      <td>6.242076</td>\n",
       "      <td>0.809944</td>\n",
       "    </tr>\n",
       "    <tr>\n",
       "      <th>min</th>\n",
       "      <td>7.000000</td>\n",
       "      <td>0.000000</td>\n",
       "      <td>0.000000</td>\n",
       "      <td>21.000000</td>\n",
       "      <td>0.000000</td>\n",
       "      <td>0.000000</td>\n",
       "      <td>NaN</td>\n",
       "      <td>0.000000</td>\n",
       "      <td>0.000000</td>\n",
       "      <td>0.000000</td>\n",
       "      <td>0.000000</td>\n",
       "      <td>0.000000</td>\n",
       "    </tr>\n",
       "    <tr>\n",
       "      <th>25%</th>\n",
       "      <td>36769.500000</td>\n",
       "      <td>0.000000</td>\n",
       "      <td>0.016027</td>\n",
       "      <td>46.000000</td>\n",
       "      <td>0.000000</td>\n",
       "      <td>123.000000</td>\n",
       "      <td>NaN</td>\n",
       "      <td>4.000000</td>\n",
       "      <td>0.000000</td>\n",
       "      <td>0.000000</td>\n",
       "      <td>0.000000</td>\n",
       "      <td>0.000000</td>\n",
       "    </tr>\n",
       "    <tr>\n",
       "      <th>50%</th>\n",
       "      <td>75111.000000</td>\n",
       "      <td>0.000000</td>\n",
       "      <td>0.081697</td>\n",
       "      <td>57.000000</td>\n",
       "      <td>0.000000</td>\n",
       "      <td>1159.000000</td>\n",
       "      <td>NaN</td>\n",
       "      <td>6.000000</td>\n",
       "      <td>0.000000</td>\n",
       "      <td>1.000000</td>\n",
       "      <td>0.000000</td>\n",
       "      <td>0.000000</td>\n",
       "    </tr>\n",
       "    <tr>\n",
       "      <th>75%</th>\n",
       "      <td>112544.500000</td>\n",
       "      <td>0.000000</td>\n",
       "      <td>0.440549</td>\n",
       "      <td>67.000000</td>\n",
       "      <td>0.000000</td>\n",
       "      <td>2382.000000</td>\n",
       "      <td>NaN</td>\n",
       "      <td>10.000000</td>\n",
       "      <td>0.000000</td>\n",
       "      <td>1.000000</td>\n",
       "      <td>0.000000</td>\n",
       "      <td>0.000000</td>\n",
       "    </tr>\n",
       "    <tr>\n",
       "      <th>max</th>\n",
       "      <td>149998.000000</td>\n",
       "      <td>1.000000</td>\n",
       "      <td>22198.000000</td>\n",
       "      <td>109.000000</td>\n",
       "      <td>98.000000</td>\n",
       "      <td>329664.000000</td>\n",
       "      <td>NaN</td>\n",
       "      <td>45.000000</td>\n",
       "      <td>98.000000</td>\n",
       "      <td>23.000000</td>\n",
       "      <td>98.000000</td>\n",
       "      <td>9.000000</td>\n",
       "    </tr>\n",
       "  </tbody>\n",
       "</table>\n",
       "</div>"
      ],
      "text/plain": [
       "          Unnamed: 0  SeriousDlqin2yrs  RevolvingUtilizationOfUnsecuredLines  \\\n",
       "count   29731.000000      29731.000000                          29731.000000   \n",
       "mean    74897.295786          0.056137                              6.649421   \n",
       "std     43364.172076          0.230189                            217.814854   \n",
       "min         7.000000          0.000000                              0.000000   \n",
       "25%     36769.500000          0.000000                              0.016027   \n",
       "50%     75111.000000          0.000000                              0.081697   \n",
       "75%    112544.500000          0.000000                              0.440549   \n",
       "max    149998.000000          1.000000                          22198.000000   \n",
       "\n",
       "                age  NumberOfTime30-59DaysPastDueNotWorse      DebtRatio  \\\n",
       "count  29731.000000                          29731.000000   29731.000000   \n",
       "mean      56.362349                              0.579866    1673.396556   \n",
       "std       15.438786                              6.255361    4248.372895   \n",
       "min       21.000000                              0.000000       0.000000   \n",
       "25%       46.000000                              0.000000     123.000000   \n",
       "50%       57.000000                              0.000000    1159.000000   \n",
       "75%       67.000000                              0.000000    2382.000000   \n",
       "max      109.000000                             98.000000  329664.000000   \n",
       "\n",
       "       MonthlyIncome  NumberOfOpenCreditLinesAndLoans  \\\n",
       "count            0.0                     29731.000000   \n",
       "mean             NaN                         7.216071   \n",
       "std              NaN                         4.842720   \n",
       "min              NaN                         0.000000   \n",
       "25%              NaN                         4.000000   \n",
       "50%              NaN                         6.000000   \n",
       "75%              NaN                        10.000000   \n",
       "max              NaN                        45.000000   \n",
       "\n",
       "       NumberOfTimes90DaysLate  NumberRealEstateLoansOrLines  \\\n",
       "count             29731.000000                  29731.000000   \n",
       "mean                  0.484612                      0.871481   \n",
       "std                   6.250408                      1.034291   \n",
       "min                   0.000000                      0.000000   \n",
       "25%                   0.000000                      0.000000   \n",
       "50%                   0.000000                      1.000000   \n",
       "75%                   0.000000                      1.000000   \n",
       "max                  98.000000                     23.000000   \n",
       "\n",
       "       NumberOfTime60-89DaysPastDueNotWorse  NumberOfDependents  \n",
       "count                          29731.000000        25807.000000  \n",
       "mean                               0.452995            0.316310  \n",
       "std                                6.242076            0.809944  \n",
       "min                                0.000000            0.000000  \n",
       "25%                                0.000000            0.000000  \n",
       "50%                                0.000000            0.000000  \n",
       "75%                                0.000000            0.000000  \n",
       "max                               98.000000            9.000000  "
      ]
     },
     "execution_count": 5,
     "metadata": {},
     "output_type": "execute_result"
    }
   ],
   "source": [
    "train.loc[train.MonthlyIncome.isnull()].describe()"
   ]
  },
  {
   "cell_type": "code",
   "execution_count": 6,
   "id": "fef47da4",
   "metadata": {},
   "outputs": [
    {
     "data": {
      "text/html": [
       "<div>\n",
       "<style scoped>\n",
       "    .dataframe tbody tr th:only-of-type {\n",
       "        vertical-align: middle;\n",
       "    }\n",
       "\n",
       "    .dataframe tbody tr th {\n",
       "        vertical-align: top;\n",
       "    }\n",
       "\n",
       "    .dataframe thead th {\n",
       "        text-align: right;\n",
       "    }\n",
       "</style>\n",
       "<table border=\"1\" class=\"dataframe\">\n",
       "  <thead>\n",
       "    <tr style=\"text-align: right;\">\n",
       "      <th></th>\n",
       "      <th>Unnamed: 0</th>\n",
       "      <th>SeriousDlqin2yrs</th>\n",
       "      <th>RevolvingUtilizationOfUnsecuredLines</th>\n",
       "      <th>age</th>\n",
       "      <th>NumberOfTime30-59DaysPastDueNotWorse</th>\n",
       "      <th>DebtRatio</th>\n",
       "      <th>MonthlyIncome</th>\n",
       "      <th>NumberOfOpenCreditLinesAndLoans</th>\n",
       "      <th>NumberOfTimes90DaysLate</th>\n",
       "      <th>NumberRealEstateLoansOrLines</th>\n",
       "      <th>NumberOfTime60-89DaysPastDueNotWorse</th>\n",
       "      <th>NumberOfDependents</th>\n",
       "    </tr>\n",
       "  </thead>\n",
       "  <tbody>\n",
       "    <tr>\n",
       "      <th>count</th>\n",
       "      <td>120269.000000</td>\n",
       "      <td>120269.000000</td>\n",
       "      <td>120269.000000</td>\n",
       "      <td>120269.000000</td>\n",
       "      <td>120269.000000</td>\n",
       "      <td>120269.000000</td>\n",
       "      <td>1.202690e+05</td>\n",
       "      <td>120269.000000</td>\n",
       "      <td>120269.000000</td>\n",
       "      <td>120269.000000</td>\n",
       "      <td>120269.000000</td>\n",
       "      <td>120269.000000</td>\n",
       "    </tr>\n",
       "    <tr>\n",
       "      <th>mean</th>\n",
       "      <td>75026.012514</td>\n",
       "      <td>0.069486</td>\n",
       "      <td>5.899873</td>\n",
       "      <td>51.289792</td>\n",
       "      <td>0.381769</td>\n",
       "      <td>26.598777</td>\n",
       "      <td>6.670221e+03</td>\n",
       "      <td>8.758475</td>\n",
       "      <td>0.211925</td>\n",
       "      <td>1.054519</td>\n",
       "      <td>0.187829</td>\n",
       "      <td>0.851832</td>\n",
       "    </tr>\n",
       "    <tr>\n",
       "      <th>std</th>\n",
       "      <td>43286.029117</td>\n",
       "      <td>0.254280</td>\n",
       "      <td>257.040685</td>\n",
       "      <td>14.426684</td>\n",
       "      <td>3.499234</td>\n",
       "      <td>424.446457</td>\n",
       "      <td>1.438467e+04</td>\n",
       "      <td>5.172835</td>\n",
       "      <td>3.465276</td>\n",
       "      <td>1.149273</td>\n",
       "      <td>3.447901</td>\n",
       "      <td>1.148391</td>\n",
       "    </tr>\n",
       "    <tr>\n",
       "      <th>min</th>\n",
       "      <td>1.000000</td>\n",
       "      <td>0.000000</td>\n",
       "      <td>0.000000</td>\n",
       "      <td>0.000000</td>\n",
       "      <td>0.000000</td>\n",
       "      <td>0.000000</td>\n",
       "      <td>0.000000e+00</td>\n",
       "      <td>0.000000</td>\n",
       "      <td>0.000000</td>\n",
       "      <td>0.000000</td>\n",
       "      <td>0.000000</td>\n",
       "      <td>0.000000</td>\n",
       "    </tr>\n",
       "    <tr>\n",
       "      <th>25%</th>\n",
       "      <td>37678.000000</td>\n",
       "      <td>0.000000</td>\n",
       "      <td>0.035084</td>\n",
       "      <td>40.000000</td>\n",
       "      <td>0.000000</td>\n",
       "      <td>0.143388</td>\n",
       "      <td>3.400000e+03</td>\n",
       "      <td>5.000000</td>\n",
       "      <td>0.000000</td>\n",
       "      <td>0.000000</td>\n",
       "      <td>0.000000</td>\n",
       "      <td>0.000000</td>\n",
       "    </tr>\n",
       "    <tr>\n",
       "      <th>50%</th>\n",
       "      <td>74969.000000</td>\n",
       "      <td>0.000000</td>\n",
       "      <td>0.177282</td>\n",
       "      <td>51.000000</td>\n",
       "      <td>0.000000</td>\n",
       "      <td>0.296023</td>\n",
       "      <td>5.400000e+03</td>\n",
       "      <td>8.000000</td>\n",
       "      <td>0.000000</td>\n",
       "      <td>1.000000</td>\n",
       "      <td>0.000000</td>\n",
       "      <td>0.000000</td>\n",
       "    </tr>\n",
       "    <tr>\n",
       "      <th>75%</th>\n",
       "      <td>112494.000000</td>\n",
       "      <td>0.000000</td>\n",
       "      <td>0.579428</td>\n",
       "      <td>61.000000</td>\n",
       "      <td>0.000000</td>\n",
       "      <td>0.482559</td>\n",
       "      <td>8.249000e+03</td>\n",
       "      <td>11.000000</td>\n",
       "      <td>0.000000</td>\n",
       "      <td>2.000000</td>\n",
       "      <td>0.000000</td>\n",
       "      <td>2.000000</td>\n",
       "    </tr>\n",
       "    <tr>\n",
       "      <th>max</th>\n",
       "      <td>150000.000000</td>\n",
       "      <td>1.000000</td>\n",
       "      <td>50708.000000</td>\n",
       "      <td>103.000000</td>\n",
       "      <td>98.000000</td>\n",
       "      <td>61106.500000</td>\n",
       "      <td>3.008750e+06</td>\n",
       "      <td>58.000000</td>\n",
       "      <td>98.000000</td>\n",
       "      <td>54.000000</td>\n",
       "      <td>98.000000</td>\n",
       "      <td>20.000000</td>\n",
       "    </tr>\n",
       "  </tbody>\n",
       "</table>\n",
       "</div>"
      ],
      "text/plain": [
       "          Unnamed: 0  SeriousDlqin2yrs  RevolvingUtilizationOfUnsecuredLines  \\\n",
       "count  120269.000000     120269.000000                         120269.000000   \n",
       "mean    75026.012514          0.069486                              5.899873   \n",
       "std     43286.029117          0.254280                            257.040685   \n",
       "min         1.000000          0.000000                              0.000000   \n",
       "25%     37678.000000          0.000000                              0.035084   \n",
       "50%     74969.000000          0.000000                              0.177282   \n",
       "75%    112494.000000          0.000000                              0.579428   \n",
       "max    150000.000000          1.000000                          50708.000000   \n",
       "\n",
       "                 age  NumberOfTime30-59DaysPastDueNotWorse      DebtRatio  \\\n",
       "count  120269.000000                         120269.000000  120269.000000   \n",
       "mean       51.289792                              0.381769      26.598777   \n",
       "std        14.426684                              3.499234     424.446457   \n",
       "min         0.000000                              0.000000       0.000000   \n",
       "25%        40.000000                              0.000000       0.143388   \n",
       "50%        51.000000                              0.000000       0.296023   \n",
       "75%        61.000000                              0.000000       0.482559   \n",
       "max       103.000000                             98.000000   61106.500000   \n",
       "\n",
       "       MonthlyIncome  NumberOfOpenCreditLinesAndLoans  \\\n",
       "count   1.202690e+05                    120269.000000   \n",
       "mean    6.670221e+03                         8.758475   \n",
       "std     1.438467e+04                         5.172835   \n",
       "min     0.000000e+00                         0.000000   \n",
       "25%     3.400000e+03                         5.000000   \n",
       "50%     5.400000e+03                         8.000000   \n",
       "75%     8.249000e+03                        11.000000   \n",
       "max     3.008750e+06                        58.000000   \n",
       "\n",
       "       NumberOfTimes90DaysLate  NumberRealEstateLoansOrLines  \\\n",
       "count            120269.000000                 120269.000000   \n",
       "mean                  0.211925                      1.054519   \n",
       "std                   3.465276                      1.149273   \n",
       "min                   0.000000                      0.000000   \n",
       "25%                   0.000000                      0.000000   \n",
       "50%                   0.000000                      1.000000   \n",
       "75%                   0.000000                      2.000000   \n",
       "max                  98.000000                     54.000000   \n",
       "\n",
       "       NumberOfTime60-89DaysPastDueNotWorse  NumberOfDependents  \n",
       "count                         120269.000000       120269.000000  \n",
       "mean                               0.187829            0.851832  \n",
       "std                                3.447901            1.148391  \n",
       "min                                0.000000            0.000000  \n",
       "25%                                0.000000            0.000000  \n",
       "50%                                0.000000            0.000000  \n",
       "75%                                0.000000            2.000000  \n",
       "max                               98.000000           20.000000  "
      ]
     },
     "execution_count": 6,
     "metadata": {},
     "output_type": "execute_result"
    }
   ],
   "source": [
    "train.loc[train.MonthlyIncome.notnull()].describe()"
   ]
  },
  {
   "cell_type": "markdown",
   "id": "b5da5540",
   "metadata": {},
   "source": [
    "Next we will look at the distribution of this feature relative to our label, and once again we will divide the analysis in 2 seperate portions (<= 10,000 and > 10,000 monthly income) since the outliers on the right tail will make it difficult to visualize the combined data.\n",
    "\n",
    "- The portions of the training set with <= 10000 (~68%) monthly income shows a few interesting things. The data follows almost a Gaussian distribution, with most of the values focus around the middle area (highest peaks are around 4000, 5000, 6000). We can also see ~2000 records with close to 0 monthly income (turns out there are 2,245 records with less than 1000 monthly income). These records are highly suspecting as it is very unlikely for a customer to have 0 income and still be qualified for a loan, and it is also highly unlikely that a customer can have a single income of 1 or 2. \n",
    "- On the other hand, the portions of data with > 10000 (~32%) debt ratio only has 1 peak close to 100% (the number of delinquency also focuses around this peak), and the larger values have a more uniform distribution."
   ]
  },
  {
   "cell_type": "code",
   "execution_count": 34,
   "id": "79d4f0a6",
   "metadata": {
    "scrolled": true
   },
   "outputs": [
    {
     "data": {
      "image/png": "[encoded data removed]",
      "text/plain": [
       "<Figure size 1080x576 with 1 Axes>"
      ]
     },
     "metadata": {
      "needs_background": "light"
     },
     "output_type": "display_data"
    }
   ],
   "source": [
    "plot_histogram(data=train.loc[train.MonthlyIncome <= 10000],\n",
    "               x='MonthlyIncome',\n",
    "               hue='SeriousDlqin2yrs')"
   ]
  },
  {
   "cell_type": "code",
   "execution_count": 51,
   "id": "cae7cd68",
   "metadata": {},
   "outputs": [
    {
     "data": {
      "image/png": "[encoded data removed]",
      "text/plain": [
       "<Figure size 1080x576 with 1 Axes>"
      ]
     },
     "metadata": {
      "needs_background": "light"
     },
     "output_type": "display_data"
    }
   ],
   "source": [
    "plot_histogram(data=train.loc[(train.MonthlyIncome > 10000) &\n",
    "                              (train.MonthlyIncome <= 13000) ],\n",
    "               x='MonthlyIncome',\n",
    "               hue='SeriousDlqin2yrs')"
   ]
  },
  {
   "cell_type": "code",
   "execution_count": 4,
   "id": "99322775",
   "metadata": {},
   "outputs": [
    {
     "data": {
      "text/html": [
       "<div>\n",
       "<style scoped>\n",
       "    .dataframe tbody tr th:only-of-type {\n",
       "        vertical-align: middle;\n",
       "    }\n",
       "\n",
       "    .dataframe tbody tr th {\n",
       "        vertical-align: top;\n",
       "    }\n",
       "\n",
       "    .dataframe thead th {\n",
       "        text-align: right;\n",
       "    }\n",
       "</style>\n",
       "<table border=\"1\" class=\"dataframe\">\n",
       "  <thead>\n",
       "    <tr style=\"text-align: right;\">\n",
       "      <th></th>\n",
       "      <th>label_cnt</th>\n",
       "      <th>label_sum</th>\n",
       "      <th>% label by mthly_inc_bucket</th>\n",
       "      <th>% label total</th>\n",
       "      <th>% population</th>\n",
       "    </tr>\n",
       "    <tr>\n",
       "      <th>mthly_inc_bucket</th>\n",
       "      <th></th>\n",
       "      <th></th>\n",
       "      <th></th>\n",
       "      <th></th>\n",
       "      <th></th>\n",
       "    </tr>\n",
       "  </thead>\n",
       "  <tbody>\n",
       "    <tr>\n",
       "      <th>(-0.001, 2005.0]</th>\n",
       "      <td>12028</td>\n",
       "      <td>1015</td>\n",
       "      <td>8.439</td>\n",
       "      <td>10.124</td>\n",
       "      <td>8.019</td>\n",
       "    </tr>\n",
       "    <tr>\n",
       "      <th>(2005.0, 3000.0]</th>\n",
       "      <td>13056</td>\n",
       "      <td>1262</td>\n",
       "      <td>9.666</td>\n",
       "      <td>12.587</td>\n",
       "      <td>8.704</td>\n",
       "    </tr>\n",
       "    <tr>\n",
       "      <th>(3000.0, 3800.0]</th>\n",
       "      <td>11322</td>\n",
       "      <td>1032</td>\n",
       "      <td>9.115</td>\n",
       "      <td>10.293</td>\n",
       "      <td>7.548</td>\n",
       "    </tr>\n",
       "    <tr>\n",
       "      <th>(3800.0, 4544.2]</th>\n",
       "      <td>11702</td>\n",
       "      <td>947</td>\n",
       "      <td>8.093</td>\n",
       "      <td>9.445</td>\n",
       "      <td>7.801</td>\n",
       "    </tr>\n",
       "    <tr>\n",
       "      <th>(4544.2, 5400.0]</th>\n",
       "      <td>12207</td>\n",
       "      <td>895</td>\n",
       "      <td>7.332</td>\n",
       "      <td>8.927</td>\n",
       "      <td>8.138</td>\n",
       "    </tr>\n",
       "    <tr>\n",
       "      <th>(5400.0, 6300.0]</th>\n",
       "      <td>11850</td>\n",
       "      <td>792</td>\n",
       "      <td>6.684</td>\n",
       "      <td>7.899</td>\n",
       "      <td>7.900</td>\n",
       "    </tr>\n",
       "    <tr>\n",
       "      <th>(6300.0, 7500.0]</th>\n",
       "      <td>12351</td>\n",
       "      <td>732</td>\n",
       "      <td>5.927</td>\n",
       "      <td>7.301</td>\n",
       "      <td>8.234</td>\n",
       "    </tr>\n",
       "    <tr>\n",
       "      <th>(7500.0, 9083.0]</th>\n",
       "      <td>11733</td>\n",
       "      <td>600</td>\n",
       "      <td>5.114</td>\n",
       "      <td>5.984</td>\n",
       "      <td>7.822</td>\n",
       "    </tr>\n",
       "    <tr>\n",
       "      <th>(9083.0, 11666.0]</th>\n",
       "      <td>12110</td>\n",
       "      <td>547</td>\n",
       "      <td>4.517</td>\n",
       "      <td>5.456</td>\n",
       "      <td>8.073</td>\n",
       "    </tr>\n",
       "    <tr>\n",
       "      <th>(11666.0, 3008750.0]</th>\n",
       "      <td>11910</td>\n",
       "      <td>535</td>\n",
       "      <td>4.492</td>\n",
       "      <td>5.336</td>\n",
       "      <td>7.940</td>\n",
       "    </tr>\n",
       "  </tbody>\n",
       "</table>\n",
       "</div>"
      ],
      "text/plain": [
       "                      label_cnt  label_sum  % label by mthly_inc_bucket  \\\n",
       "mthly_inc_bucket                                                          \n",
       "(-0.001, 2005.0]          12028       1015                        8.439   \n",
       "(2005.0, 3000.0]          13056       1262                        9.666   \n",
       "(3000.0, 3800.0]          11322       1032                        9.115   \n",
       "(3800.0, 4544.2]          11702        947                        8.093   \n",
       "(4544.2, 5400.0]          12207        895                        7.332   \n",
       "(5400.0, 6300.0]          11850        792                        6.684   \n",
       "(6300.0, 7500.0]          12351        732                        5.927   \n",
       "(7500.0, 9083.0]          11733        600                        5.114   \n",
       "(9083.0, 11666.0]         12110        547                        4.517   \n",
       "(11666.0, 3008750.0]      11910        535                        4.492   \n",
       "\n",
       "                      % label total  % population  \n",
       "mthly_inc_bucket                                   \n",
       "(-0.001, 2005.0]             10.124         8.019  \n",
       "(2005.0, 3000.0]             12.587         8.704  \n",
       "(3000.0, 3800.0]             10.293         7.548  \n",
       "(3800.0, 4544.2]              9.445         7.801  \n",
       "(4544.2, 5400.0]              8.927         8.138  \n",
       "(5400.0, 6300.0]              7.899         7.900  \n",
       "(6300.0, 7500.0]              7.301         8.234  \n",
       "(7500.0, 9083.0]              5.984         7.822  \n",
       "(9083.0, 11666.0]             5.456         8.073  \n",
       "(11666.0, 3008750.0]          5.336         7.940  "
      ]
     },
     "execution_count": 4,
     "metadata": {},
     "output_type": "execute_result"
    }
   ],
   "source": [
    "train['mthly_inc_bucket'] = pd.qcut(train['MonthlyIncome'], q=10)\n",
    "train_mthly_inc_gpby = get_pct_target_by_feat(train, 'mthly_inc_bucket', 'SeriousDlqin2yrs')\n",
    "train_mthly_inc_gpby.sort_values('mthly_inc_bucket', inplace=True)\n",
    "train_mthly_inc_gpby"
   ]
  },
  {
   "cell_type": "markdown",
   "id": "720693ab",
   "metadata": {},
   "source": [
    "Finally, we will check the Pearson correlation between \"MonthlyIncome\" and our target, and we can see that there is a small negative correlation."
   ]
  },
  {
   "cell_type": "code",
   "execution_count": 8,
   "id": "d5991ba9",
   "metadata": {
    "tags": []
   },
   "outputs": [
    {
     "data": {
      "text/html": [
       "<div>\n",
       "<style scoped>\n",
       "    .dataframe tbody tr th:only-of-type {\n",
       "        vertical-align: middle;\n",
       "    }\n",
       "\n",
       "    .dataframe tbody tr th {\n",
       "        vertical-align: top;\n",
       "    }\n",
       "\n",
       "    .dataframe thead th {\n",
       "        text-align: right;\n",
       "    }\n",
       "</style>\n",
       "<table border=\"1\" class=\"dataframe\">\n",
       "  <thead>\n",
       "    <tr style=\"text-align: right;\">\n",
       "      <th></th>\n",
       "      <th>MonthlyIncome</th>\n",
       "      <th>SeriousDlqin2yrs</th>\n",
       "    </tr>\n",
       "  </thead>\n",
       "  <tbody>\n",
       "    <tr>\n",
       "      <th>MonthlyIncome</th>\n",
       "      <td>1.000000</td>\n",
       "      <td>-0.019746</td>\n",
       "    </tr>\n",
       "    <tr>\n",
       "      <th>SeriousDlqin2yrs</th>\n",
       "      <td>-0.019746</td>\n",
       "      <td>1.000000</td>\n",
       "    </tr>\n",
       "  </tbody>\n",
       "</table>\n",
       "</div>"
      ],
      "text/plain": [
       "                  MonthlyIncome  SeriousDlqin2yrs\n",
       "MonthlyIncome          1.000000         -0.019746\n",
       "SeriousDlqin2yrs      -0.019746          1.000000"
      ]
     },
     "execution_count": 8,
     "metadata": {},
     "output_type": "execute_result"
    }
   ],
   "source": [
    "train[['MonthlyIncome', 'SeriousDlqin2yrs']].corr()"
   ]
  },
  {
   "cell_type": "markdown",
   "id": "78bb8b76-7618-4291-9bf4-e2d4562cefc0",
   "metadata": {},
   "source": [
    "### Key takeaways\n",
    "- We can conclude the analysis of \"MonthlyIncome\" with the notion that customers with a higher income have a lower probability of delinquency compared to people with a lower income"
   ]
  },
  {
   "cell_type": "markdown",
   "id": "514a0bcd-fabd-4974-8e15-ee6c080a5091",
   "metadata": {},
   "source": [
    "# NumberOfOpenCreditLinesAndLoans"
   ]
  },
  {
   "cell_type": "markdown",
   "id": "8fd4e4ca",
   "metadata": {
    "tags": []
   },
   "source": [
    "Number of Open loans (installment like car loan or mortgage) and Lines of credit (e.g. credit cards). We can make an assumption that if a customer has a lot of credit lines and loans, his profile must be excellent to be able to qualify for those loans and as a result will be less likely to have delinquent loans."
   ]
  },
  {
   "cell_type": "code",
   "execution_count": 45,
   "id": "c09b0dd4",
   "metadata": {},
   "outputs": [
    {
     "data": {
      "text/plain": [
       "count    150000.000000\n",
       "mean          8.452760\n",
       "std           5.145951\n",
       "min           0.000000\n",
       "25%           5.000000\n",
       "50%           8.000000\n",
       "75%          11.000000\n",
       "90%          15.000000\n",
       "max          58.000000\n",
       "Name: NumberOfOpenCreditLinesAndLoans, dtype: float64"
      ]
     },
     "execution_count": 45,
     "metadata": {},
     "output_type": "execute_result"
    }
   ],
   "source": [
    "train.NumberOfOpenCreditLinesAndLoans.describe(percentiles=[.25, .5, .75, .9])"
   ]
  },
  {
   "cell_type": "code",
   "execution_count": 46,
   "id": "1a7e97f0",
   "metadata": {
    "scrolled": true
   },
   "outputs": [
    {
     "data": {
      "text/plain": [
       "count    101503.000000\n",
       "mean          8.453514\n",
       "std           5.144100\n",
       "min           0.000000\n",
       "25%           5.000000\n",
       "50%           8.000000\n",
       "75%          11.000000\n",
       "90%          15.000000\n",
       "max          85.000000\n",
       "Name: NumberOfOpenCreditLinesAndLoans, dtype: float64"
      ]
     },
     "execution_count": 46,
     "metadata": {},
     "output_type": "execute_result"
    }
   ],
   "source": [
    "test.NumberOfOpenCreditLinesAndLoans.describe(percentiles=[.25, .5, .75, .9])"
   ]
  },
  {
   "cell_type": "markdown",
   "id": "b1242543",
   "metadata": {},
   "source": [
    "We can also use the 2 types of t-test (Independent and Weltch) to test the hypothesis that the training set and testing set have different means. The tests confirm that the 2 sets do not have different means."
   ]
  },
  {
   "cell_type": "code",
   "execution_count": 9,
   "id": "cf751094",
   "metadata": {},
   "outputs": [
    {
     "name": "stdout",
     "output_type": "stream",
     "text": [
      "Independent sample t-test: pvalue 0.9712492747074377\n",
      "Welch's two sample t-test: pvalue 0.9712472857553139\n"
     ]
    }
   ],
   "source": [
    "t_test(train, test, 'NumberOfOpenCreditLinesAndLoans')"
   ]
  },
  {
   "cell_type": "markdown",
   "id": "a9856503",
   "metadata": {},
   "source": [
    "Next, we will look at the distribution of NumberOfOpenCreditLinesAndLoans compared to our target and draw some analysis based on the distribution plot as well as a Top-k analysis by label:\n",
    "- ~23% of people who have a delinquent loan have less than 3 open credit lines and loans\n",
    "- 90% of the customers have equal or less 15 open credit lines and loans\n",
    "- The highest value counts of open credit lines and loans are 6, 7, and 8 (all 3 have ~13,000 samples)\n",
    "- There are outliers on the right tail of the data, with some records having up to more than 50 open credit lines and loans"
   ]
  },
  {
   "cell_type": "code",
   "execution_count": 11,
   "id": "6ba3c7ca",
   "metadata": {},
   "outputs": [
    {
     "data": {
      "image/png": "[encoded data removed]",
      "text/plain": [
       "<Figure size 1500x800 with 1 Axes>"
      ]
     },
     "metadata": {},
     "output_type": "display_data"
    }
   ],
   "source": [
    "plot_histogram(data=train,\n",
    "               x='NumberOfOpenCreditLinesAndLoans',\n",
    "               hue='SeriousDlqin2yrs')"
   ]
  },
  {
   "cell_type": "code",
   "execution_count": 17,
   "id": "4e8cf38a",
   "metadata": {},
   "outputs": [
    {
     "data": {
      "text/html": [
       "<div>\n",
       "<style scoped>\n",
       "    .dataframe tbody tr th:only-of-type {\n",
       "        vertical-align: middle;\n",
       "    }\n",
       "\n",
       "    .dataframe tbody tr th {\n",
       "        vertical-align: top;\n",
       "    }\n",
       "\n",
       "    .dataframe thead th {\n",
       "        text-align: right;\n",
       "    }\n",
       "</style>\n",
       "<table border=\"1\" class=\"dataframe\">\n",
       "  <thead>\n",
       "    <tr style=\"text-align: right;\">\n",
       "      <th></th>\n",
       "      <th>label_cnt</th>\n",
       "      <th>label_sum</th>\n",
       "      <th>% label by open_cred_bucket</th>\n",
       "      <th>% label total</th>\n",
       "      <th>% population</th>\n",
       "    </tr>\n",
       "    <tr>\n",
       "      <th>open_cred_bucket</th>\n",
       "      <th></th>\n",
       "      <th></th>\n",
       "      <th></th>\n",
       "      <th></th>\n",
       "      <th></th>\n",
       "    </tr>\n",
       "  </thead>\n",
       "  <tbody>\n",
       "    <tr>\n",
       "      <th>(-0.001, 4.0]</th>\n",
       "      <td>33659</td>\n",
       "      <td>3103</td>\n",
       "      <td>9.219</td>\n",
       "      <td>30.950</td>\n",
       "      <td>22.439</td>\n",
       "    </tr>\n",
       "    <tr>\n",
       "      <th>(4.0, 6.0]</th>\n",
       "      <td>26545</td>\n",
       "      <td>1573</td>\n",
       "      <td>5.926</td>\n",
       "      <td>15.689</td>\n",
       "      <td>17.697</td>\n",
       "    </tr>\n",
       "    <tr>\n",
       "      <th>(6.0, 8.0]</th>\n",
       "      <td>25807</td>\n",
       "      <td>1353</td>\n",
       "      <td>5.243</td>\n",
       "      <td>13.495</td>\n",
       "      <td>17.205</td>\n",
       "    </tr>\n",
       "    <tr>\n",
       "      <th>(8.0, 10.0]</th>\n",
       "      <td>20979</td>\n",
       "      <td>1238</td>\n",
       "      <td>5.901</td>\n",
       "      <td>12.348</td>\n",
       "      <td>13.986</td>\n",
       "    </tr>\n",
       "    <tr>\n",
       "      <th>(10.0, 13.0]</th>\n",
       "      <td>20993</td>\n",
       "      <td>1222</td>\n",
       "      <td>5.821</td>\n",
       "      <td>12.188</td>\n",
       "      <td>13.995</td>\n",
       "    </tr>\n",
       "    <tr>\n",
       "      <th>(13.0, 58.0]</th>\n",
       "      <td>22017</td>\n",
       "      <td>1537</td>\n",
       "      <td>6.981</td>\n",
       "      <td>15.330</td>\n",
       "      <td>14.678</td>\n",
       "    </tr>\n",
       "  </tbody>\n",
       "</table>\n",
       "</div>"
      ],
      "text/plain": [
       "                  label_cnt  label_sum  % label by open_cred_bucket  \\\n",
       "open_cred_bucket                                                      \n",
       "(-0.001, 4.0]         33659       3103                        9.219   \n",
       "(4.0, 6.0]            26545       1573                        5.926   \n",
       "(6.0, 8.0]            25807       1353                        5.243   \n",
       "(8.0, 10.0]           20979       1238                        5.901   \n",
       "(10.0, 13.0]          20993       1222                        5.821   \n",
       "(13.0, 58.0]          22017       1537                        6.981   \n",
       "\n",
       "                  % label total  % population  \n",
       "open_cred_bucket                               \n",
       "(-0.001, 4.0]            30.950        22.439  \n",
       "(4.0, 6.0]               15.689        17.697  \n",
       "(6.0, 8.0]               13.495        17.205  \n",
       "(8.0, 10.0]              12.348        13.986  \n",
       "(10.0, 13.0]             12.188        13.995  \n",
       "(13.0, 58.0]             15.330        14.678  "
      ]
     },
     "execution_count": 17,
     "metadata": {},
     "output_type": "execute_result"
    }
   ],
   "source": [
    "train['open_cred_bucket'] = pd.qcut(train['NumberOfOpenCreditLinesAndLoans'], q=6)\n",
    "train_open_cred_gpby = get_pct_target_by_feat(train, 'open_cred_bucket', 'SeriousDlqin2yrs')\n",
    "train_open_cred_gpby.sort_values('open_cred_bucket', inplace=True)\n",
    "train_open_cred_gpby"
   ]
  },
  {
   "cell_type": "code",
   "execution_count": 18,
   "id": "bd255d42",
   "metadata": {},
   "outputs": [
    {
     "data": {
      "text/plain": [
       "6     13614\n",
       "7     13245\n",
       "5     12931\n",
       "8     12562\n",
       "4     11609\n",
       "9     11355\n",
       "10     9624\n",
       "3      9058\n",
       "11     8321\n",
       "12     7005\n",
       "2      6666\n",
       "13     5667\n",
       "14     4546\n",
       "1      4438\n",
       "15     3645\n",
       "16     3000\n",
       "17     2370\n",
       "0      1888\n",
       "18     1874\n",
       "19     1433\n",
       "20     1169\n",
       "21      864\n",
       "22      685\n",
       "23      533\n",
       "24      422\n",
       "25      337\n",
       "26      239\n",
       "27      194\n",
       "28      150\n",
       "29      114\n",
       "30       88\n",
       "31       74\n",
       "32       52\n",
       "33       47\n",
       "34       35\n",
       "35       27\n",
       "36       18\n",
       "38       13\n",
       "40       10\n",
       "39        9\n",
       "42        8\n",
       "45        8\n",
       "43        8\n",
       "37        7\n",
       "48        6\n",
       "49        4\n",
       "54        4\n",
       "41        4\n",
       "52        3\n",
       "46        3\n",
       "57        2\n",
       "51        2\n",
       "56        2\n",
       "47        2\n",
       "50        2\n",
       "44        2\n",
       "58        1\n",
       "53        1\n",
       "Name: NumberOfOpenCreditLinesAndLoans, dtype: int64"
      ]
     },
     "execution_count": 18,
     "metadata": {},
     "output_type": "execute_result"
    }
   ],
   "source": [
    "train['NumberOfOpenCreditLinesAndLoans'].value_counts()"
   ]
  },
  {
   "cell_type": "markdown",
   "id": "7e41eabf-bcb6-4bc0-a7f3-502443471310",
   "metadata": {},
   "source": [
    "Due to the skewness nature of NumberOfOpenCreditLinesAndLoans, we can consider log transform this variable. After the transformation, we can observe that the distribution of the variable follows a more Gaussian one."
   ]
  },
  {
   "cell_type": "code",
   "execution_count": 8,
   "id": "63f454a9-51fd-48d3-9586-d45a3b8af181",
   "metadata": {},
   "outputs": [
    {
     "name": "stderr",
     "output_type": "stream",
     "text": [
      "C:\\Users\\Hieu Trieu\\AppData\\Local\\Programs\\Python\\Python311\\Lib\\site-packages\\pandas\\core\\arraylike.py:396: RuntimeWarning: divide by zero encountered in log\n",
      "  result = getattr(ufunc, method)(*inputs, **kwargs)\n"
     ]
    },
    {
     "data": {
      "image/png": "[encoded data removed]",
      "text/plain": [
       "<Figure size 1500x800 with 1 Axes>"
      ]
     },
     "metadata": {},
     "output_type": "display_data"
    }
   ],
   "source": [
    "train['LogNumberOfOpenCreditLinesAndLoans'] = np.log(train['NumberOfOpenCreditLinesAndLoans'])\n",
    "plot_histogram(data=train,\n",
    "               x='LogNumberOfOpenCreditLinesAndLoans',\n",
    "               hue='SeriousDlqin2yrs')"
   ]
  },
  {
   "cell_type": "markdown",
   "id": "b7953c06",
   "metadata": {},
   "source": [
    "Finally, we will check the Pearson correlation between \"NumberOfOpenCreditLinesAndLoans\" and our target, and we can see that there is a small negative correlation."
   ]
  },
  {
   "cell_type": "code",
   "execution_count": 10,
   "id": "2ada1c03",
   "metadata": {
    "tags": []
   },
   "outputs": [
    {
     "data": {
      "text/html": [
       "<div>\n",
       "<style scoped>\n",
       "    .dataframe tbody tr th:only-of-type {\n",
       "        vertical-align: middle;\n",
       "    }\n",
       "\n",
       "    .dataframe tbody tr th {\n",
       "        vertical-align: top;\n",
       "    }\n",
       "\n",
       "    .dataframe thead th {\n",
       "        text-align: right;\n",
       "    }\n",
       "</style>\n",
       "<table border=\"1\" class=\"dataframe\">\n",
       "  <thead>\n",
       "    <tr style=\"text-align: right;\">\n",
       "      <th></th>\n",
       "      <th>NumberOfOpenCreditLinesAndLoans</th>\n",
       "      <th>SeriousDlqin2yrs</th>\n",
       "    </tr>\n",
       "  </thead>\n",
       "  <tbody>\n",
       "    <tr>\n",
       "      <th>NumberOfOpenCreditLinesAndLoans</th>\n",
       "      <td>1.000000</td>\n",
       "      <td>-0.029669</td>\n",
       "    </tr>\n",
       "    <tr>\n",
       "      <th>SeriousDlqin2yrs</th>\n",
       "      <td>-0.029669</td>\n",
       "      <td>1.000000</td>\n",
       "    </tr>\n",
       "  </tbody>\n",
       "</table>\n",
       "</div>"
      ],
      "text/plain": [
       "                                 NumberOfOpenCreditLinesAndLoans  \\\n",
       "NumberOfOpenCreditLinesAndLoans                         1.000000   \n",
       "SeriousDlqin2yrs                                       -0.029669   \n",
       "\n",
       "                                 SeriousDlqin2yrs  \n",
       "NumberOfOpenCreditLinesAndLoans         -0.029669  \n",
       "SeriousDlqin2yrs                         1.000000  "
      ]
     },
     "execution_count": 10,
     "metadata": {},
     "output_type": "execute_result"
    }
   ],
   "source": [
    "train[['NumberOfOpenCreditLinesAndLoans', 'SeriousDlqin2yrs']].corr()"
   ]
  },
  {
   "cell_type": "markdown",
   "id": "b8b4bbce-0101-434b-aa0a-23d9a1435368",
   "metadata": {},
   "source": [
    "### Key takeaways\n",
    "- We can conclude the analysis of \"NumberOfOpenCreditLinesAndLoans\" with the notion that customers with a lower number of credit lines and loans have a higher probability of delinquency\n",
    "- However, the distribution by label tells us that we can not clearly distinguish customers with serious delinquent from customers without based on \"NumberOfOpenCreditLinesAndLoans\"\n",
    "- We will log transform the variable to make the variable follow a Gaussian distribution"
   ]
  },
  {
   "cell_type": "markdown",
   "id": "af2c2d34",
   "metadata": {},
   "source": [
    "# NumberRealEstateLoansOrLines"
   ]
  },
  {
   "cell_type": "markdown",
   "id": "f8a5c476",
   "metadata": {},
   "source": [
    "NumberRealEstateLoansOrLines is defined as the number of mortgage and real estate loans including home equity lines of credit. Compared to the number of open credit lines and loans above, real estate loans are harder to acquire due to the sheer size of the asset (a mortgage for a house will typically have a larger payment amount than say a car loan or a personal loan). Indeed, we can see that besides the outliers, the distribution of real estate loans have lower values (90% of the dataset have less than or equal to 2 loans)."
   ]
  },
  {
   "cell_type": "code",
   "execution_count": 5,
   "id": "74eb95ef",
   "metadata": {},
   "outputs": [
    {
     "data": {
      "text/plain": [
       "count    150000.000000\n",
       "mean          1.018240\n",
       "std           1.129771\n",
       "min           0.000000\n",
       "25%           0.000000\n",
       "50%           1.000000\n",
       "75%           2.000000\n",
       "90%           2.000000\n",
       "max          54.000000\n",
       "Name: NumberRealEstateLoansOrLines, dtype: float64"
      ]
     },
     "execution_count": 5,
     "metadata": {},
     "output_type": "execute_result"
    }
   ],
   "source": [
    "train.NumberRealEstateLoansOrLines.describe(percentiles=[.25, .5, .75, .9])"
   ]
  },
  {
   "cell_type": "code",
   "execution_count": 6,
   "id": "196e7df2",
   "metadata": {},
   "outputs": [
    {
     "data": {
      "text/plain": [
       "count    101503.000000\n",
       "mean          1.013074\n",
       "std           1.110253\n",
       "min           0.000000\n",
       "25%           0.000000\n",
       "50%           1.000000\n",
       "75%           2.000000\n",
       "90%           2.000000\n",
       "max          37.000000\n",
       "Name: NumberRealEstateLoansOrLines, dtype: float64"
      ]
     },
     "execution_count": 6,
     "metadata": {},
     "output_type": "execute_result"
    }
   ],
   "source": [
    "test.NumberRealEstateLoansOrLines.describe(percentiles=[.25, .5, .75, .9])"
   ]
  },
  {
   "cell_type": "markdown",
   "id": "2d5a74ad-4f4b-4203-813f-2bde75d42b78",
   "metadata": {},
   "source": [
    "Next, we will look at the distribution of NumberRealEstateLoansOrLines compared to our target and draw some analysis based on the distribution plot as well as a Top-k analysis by label:\n",
    "- ~47% of people who have a delinquent loan do not have any open real estates loans or credit lines \n",
    "- ~83% of our training dataset have equal or less than 2 open real estates loans or credit lines, and of this subset ~91% have a delinquent loan\n",
    "- There are outliers on the right tail of the data, with some records having up to more than 50 real estates loans or credit lines"
   ]
  },
  {
   "cell_type": "code",
   "execution_count": 20,
   "id": "59a4fdc2",
   "metadata": {},
   "outputs": [
    {
     "data": {
      "image/png": "[encoded data removed]",
      "text/plain": [
       "<Figure size 1500x800 with 1 Axes>"
      ]
     },
     "metadata": {},
     "output_type": "display_data"
    }
   ],
   "source": [
    "plot_histogram(data=train.loc[train['NumberRealEstateLoansOrLines'] <= 10],\n",
    "               x='NumberRealEstateLoansOrLines',\n",
    "               hue='SeriousDlqin2yrs')"
   ]
  },
  {
   "cell_type": "code",
   "execution_count": 6,
   "id": "3903788f-509f-4503-bd43-fd0472a1a550",
   "metadata": {
    "tags": []
   },
   "outputs": [
    {
     "data": {
      "text/html": [
       "<div>\n",
       "<style scoped>\n",
       "    .dataframe tbody tr th:only-of-type {\n",
       "        vertical-align: middle;\n",
       "    }\n",
       "\n",
       "    .dataframe tbody tr th {\n",
       "        vertical-align: top;\n",
       "    }\n",
       "\n",
       "    .dataframe thead th {\n",
       "        text-align: right;\n",
       "    }\n",
       "</style>\n",
       "<table border=\"1\" class=\"dataframe\">\n",
       "  <thead>\n",
       "    <tr style=\"text-align: right;\">\n",
       "      <th></th>\n",
       "      <th>label_cnt</th>\n",
       "      <th>label_sum</th>\n",
       "      <th>% label by NumberRealEstateLoansOrLines</th>\n",
       "      <th>% label total</th>\n",
       "      <th>% population</th>\n",
       "    </tr>\n",
       "    <tr>\n",
       "      <th>NumberRealEstateLoansOrLines</th>\n",
       "      <th></th>\n",
       "      <th></th>\n",
       "      <th></th>\n",
       "      <th></th>\n",
       "      <th></th>\n",
       "    </tr>\n",
       "  </thead>\n",
       "  <tbody>\n",
       "    <tr>\n",
       "      <th>0</th>\n",
       "      <td>56188</td>\n",
       "      <td>4672</td>\n",
       "      <td>8.315</td>\n",
       "      <td>46.599</td>\n",
       "      <td>37.459</td>\n",
       "    </tr>\n",
       "    <tr>\n",
       "      <th>1</th>\n",
       "      <td>52338</td>\n",
       "      <td>2748</td>\n",
       "      <td>5.250</td>\n",
       "      <td>27.409</td>\n",
       "      <td>34.892</td>\n",
       "    </tr>\n",
       "    <tr>\n",
       "      <th>2</th>\n",
       "      <td>31522</td>\n",
       "      <td>1765</td>\n",
       "      <td>5.599</td>\n",
       "      <td>17.604</td>\n",
       "      <td>21.015</td>\n",
       "    </tr>\n",
       "    <tr>\n",
       "      <th>3</th>\n",
       "      <td>6300</td>\n",
       "      <td>422</td>\n",
       "      <td>6.698</td>\n",
       "      <td>4.209</td>\n",
       "      <td>4.200</td>\n",
       "    </tr>\n",
       "    <tr>\n",
       "      <th>4</th>\n",
       "      <td>2170</td>\n",
       "      <td>194</td>\n",
       "      <td>8.940</td>\n",
       "      <td>1.935</td>\n",
       "      <td>1.447</td>\n",
       "    </tr>\n",
       "    <tr>\n",
       "      <th>5</th>\n",
       "      <td>689</td>\n",
       "      <td>83</td>\n",
       "      <td>12.046</td>\n",
       "      <td>0.828</td>\n",
       "      <td>0.459</td>\n",
       "    </tr>\n",
       "    <tr>\n",
       "      <th>6</th>\n",
       "      <td>320</td>\n",
       "      <td>48</td>\n",
       "      <td>15.000</td>\n",
       "      <td>0.479</td>\n",
       "      <td>0.213</td>\n",
       "    </tr>\n",
       "    <tr>\n",
       "      <th>7</th>\n",
       "      <td>171</td>\n",
       "      <td>31</td>\n",
       "      <td>18.129</td>\n",
       "      <td>0.309</td>\n",
       "      <td>0.114</td>\n",
       "    </tr>\n",
       "    <tr>\n",
       "      <th>8</th>\n",
       "      <td>93</td>\n",
       "      <td>23</td>\n",
       "      <td>24.731</td>\n",
       "      <td>0.229</td>\n",
       "      <td>0.062</td>\n",
       "    </tr>\n",
       "    <tr>\n",
       "      <th>9</th>\n",
       "      <td>78</td>\n",
       "      <td>14</td>\n",
       "      <td>17.949</td>\n",
       "      <td>0.140</td>\n",
       "      <td>0.052</td>\n",
       "    </tr>\n",
       "    <tr>\n",
       "      <th>10</th>\n",
       "      <td>37</td>\n",
       "      <td>5</td>\n",
       "      <td>13.514</td>\n",
       "      <td>0.050</td>\n",
       "      <td>0.025</td>\n",
       "    </tr>\n",
       "    <tr>\n",
       "      <th>11</th>\n",
       "      <td>23</td>\n",
       "      <td>2</td>\n",
       "      <td>8.696</td>\n",
       "      <td>0.020</td>\n",
       "      <td>0.015</td>\n",
       "    </tr>\n",
       "    <tr>\n",
       "      <th>12</th>\n",
       "      <td>18</td>\n",
       "      <td>6</td>\n",
       "      <td>33.333</td>\n",
       "      <td>0.060</td>\n",
       "      <td>0.012</td>\n",
       "    </tr>\n",
       "    <tr>\n",
       "      <th>13</th>\n",
       "      <td>15</td>\n",
       "      <td>5</td>\n",
       "      <td>33.333</td>\n",
       "      <td>0.050</td>\n",
       "      <td>0.010</td>\n",
       "    </tr>\n",
       "    <tr>\n",
       "      <th>14</th>\n",
       "      <td>7</td>\n",
       "      <td>0</td>\n",
       "      <td>0.000</td>\n",
       "      <td>0.000</td>\n",
       "      <td>0.005</td>\n",
       "    </tr>\n",
       "    <tr>\n",
       "      <th>15</th>\n",
       "      <td>7</td>\n",
       "      <td>3</td>\n",
       "      <td>42.857</td>\n",
       "      <td>0.030</td>\n",
       "      <td>0.005</td>\n",
       "    </tr>\n",
       "    <tr>\n",
       "      <th>16</th>\n",
       "      <td>4</td>\n",
       "      <td>1</td>\n",
       "      <td>25.000</td>\n",
       "      <td>0.010</td>\n",
       "      <td>0.003</td>\n",
       "    </tr>\n",
       "    <tr>\n",
       "      <th>17</th>\n",
       "      <td>4</td>\n",
       "      <td>1</td>\n",
       "      <td>25.000</td>\n",
       "      <td>0.010</td>\n",
       "      <td>0.003</td>\n",
       "    </tr>\n",
       "    <tr>\n",
       "      <th>18</th>\n",
       "      <td>2</td>\n",
       "      <td>0</td>\n",
       "      <td>0.000</td>\n",
       "      <td>0.000</td>\n",
       "      <td>0.001</td>\n",
       "    </tr>\n",
       "    <tr>\n",
       "      <th>19</th>\n",
       "      <td>2</td>\n",
       "      <td>0</td>\n",
       "      <td>0.000</td>\n",
       "      <td>0.000</td>\n",
       "      <td>0.001</td>\n",
       "    </tr>\n",
       "    <tr>\n",
       "      <th>20</th>\n",
       "      <td>2</td>\n",
       "      <td>1</td>\n",
       "      <td>50.000</td>\n",
       "      <td>0.010</td>\n",
       "      <td>0.001</td>\n",
       "    </tr>\n",
       "    <tr>\n",
       "      <th>21</th>\n",
       "      <td>1</td>\n",
       "      <td>0</td>\n",
       "      <td>0.000</td>\n",
       "      <td>0.000</td>\n",
       "      <td>0.001</td>\n",
       "    </tr>\n",
       "    <tr>\n",
       "      <th>23</th>\n",
       "      <td>2</td>\n",
       "      <td>0</td>\n",
       "      <td>0.000</td>\n",
       "      <td>0.000</td>\n",
       "      <td>0.001</td>\n",
       "    </tr>\n",
       "    <tr>\n",
       "      <th>25</th>\n",
       "      <td>3</td>\n",
       "      <td>1</td>\n",
       "      <td>33.333</td>\n",
       "      <td>0.010</td>\n",
       "      <td>0.002</td>\n",
       "    </tr>\n",
       "    <tr>\n",
       "      <th>26</th>\n",
       "      <td>1</td>\n",
       "      <td>0</td>\n",
       "      <td>0.000</td>\n",
       "      <td>0.000</td>\n",
       "      <td>0.001</td>\n",
       "    </tr>\n",
       "    <tr>\n",
       "      <th>29</th>\n",
       "      <td>1</td>\n",
       "      <td>1</td>\n",
       "      <td>100.000</td>\n",
       "      <td>0.010</td>\n",
       "      <td>0.001</td>\n",
       "    </tr>\n",
       "    <tr>\n",
       "      <th>32</th>\n",
       "      <td>1</td>\n",
       "      <td>0</td>\n",
       "      <td>0.000</td>\n",
       "      <td>0.000</td>\n",
       "      <td>0.001</td>\n",
       "    </tr>\n",
       "    <tr>\n",
       "      <th>54</th>\n",
       "      <td>1</td>\n",
       "      <td>0</td>\n",
       "      <td>0.000</td>\n",
       "      <td>0.000</td>\n",
       "      <td>0.001</td>\n",
       "    </tr>\n",
       "  </tbody>\n",
       "</table>\n",
       "</div>"
      ],
      "text/plain": [
       "                              label_cnt  label_sum  \\\n",
       "NumberRealEstateLoansOrLines                         \n",
       "0                                 56188       4672   \n",
       "1                                 52338       2748   \n",
       "2                                 31522       1765   \n",
       "3                                  6300        422   \n",
       "4                                  2170        194   \n",
       "5                                   689         83   \n",
       "6                                   320         48   \n",
       "7                                   171         31   \n",
       "8                                    93         23   \n",
       "9                                    78         14   \n",
       "10                                   37          5   \n",
       "11                                   23          2   \n",
       "12                                   18          6   \n",
       "13                                   15          5   \n",
       "14                                    7          0   \n",
       "15                                    7          3   \n",
       "16                                    4          1   \n",
       "17                                    4          1   \n",
       "18                                    2          0   \n",
       "19                                    2          0   \n",
       "20                                    2          1   \n",
       "21                                    1          0   \n",
       "23                                    2          0   \n",
       "25                                    3          1   \n",
       "26                                    1          0   \n",
       "29                                    1          1   \n",
       "32                                    1          0   \n",
       "54                                    1          0   \n",
       "\n",
       "                              % label by NumberRealEstateLoansOrLines  \\\n",
       "NumberRealEstateLoansOrLines                                            \n",
       "0                                                               8.315   \n",
       "1                                                               5.250   \n",
       "2                                                               5.599   \n",
       "3                                                               6.698   \n",
       "4                                                               8.940   \n",
       "5                                                              12.046   \n",
       "6                                                              15.000   \n",
       "7                                                              18.129   \n",
       "8                                                              24.731   \n",
       "9                                                              17.949   \n",
       "10                                                             13.514   \n",
       "11                                                              8.696   \n",
       "12                                                             33.333   \n",
       "13                                                             33.333   \n",
       "14                                                              0.000   \n",
       "15                                                             42.857   \n",
       "16                                                             25.000   \n",
       "17                                                             25.000   \n",
       "18                                                              0.000   \n",
       "19                                                              0.000   \n",
       "20                                                             50.000   \n",
       "21                                                              0.000   \n",
       "23                                                              0.000   \n",
       "25                                                             33.333   \n",
       "26                                                              0.000   \n",
       "29                                                            100.000   \n",
       "32                                                              0.000   \n",
       "54                                                              0.000   \n",
       "\n",
       "                              % label total  % population  \n",
       "NumberRealEstateLoansOrLines                               \n",
       "0                                    46.599        37.459  \n",
       "1                                    27.409        34.892  \n",
       "2                                    17.604        21.015  \n",
       "3                                     4.209         4.200  \n",
       "4                                     1.935         1.447  \n",
       "5                                     0.828         0.459  \n",
       "6                                     0.479         0.213  \n",
       "7                                     0.309         0.114  \n",
       "8                                     0.229         0.062  \n",
       "9                                     0.140         0.052  \n",
       "10                                    0.050         0.025  \n",
       "11                                    0.020         0.015  \n",
       "12                                    0.060         0.012  \n",
       "13                                    0.050         0.010  \n",
       "14                                    0.000         0.005  \n",
       "15                                    0.030         0.005  \n",
       "16                                    0.010         0.003  \n",
       "17                                    0.010         0.003  \n",
       "18                                    0.000         0.001  \n",
       "19                                    0.000         0.001  \n",
       "20                                    0.010         0.001  \n",
       "21                                    0.000         0.001  \n",
       "23                                    0.000         0.001  \n",
       "25                                    0.010         0.002  \n",
       "26                                    0.000         0.001  \n",
       "29                                    0.010         0.001  \n",
       "32                                    0.000         0.001  \n",
       "54                                    0.000         0.001  "
      ]
     },
     "execution_count": 6,
     "metadata": {},
     "output_type": "execute_result"
    }
   ],
   "source": [
    "train_re_loan_gpby = get_pct_target_by_feat(train, 'NumberRealEstateLoansOrLines', 'SeriousDlqin2yrs')\n",
    "train_re_loan_gpby.sort_values('NumberRealEstateLoansOrLines', inplace=True)\n",
    "train_re_loan_gpby"
   ]
  },
  {
   "cell_type": "markdown",
   "id": "142bcfe6",
   "metadata": {},
   "source": [
    "Finally, we will check the Pearson correlation between \"NumberRealEstateLoansOrLines\" and our target, and we can see that there is a small negative correlation. This is reflected in our analysis, where the majority of deliquency focuses on the lower values of NumberRealEstateLoansOrLines."
   ]
  },
  {
   "cell_type": "code",
   "execution_count": 79,
   "id": "15339c2b",
   "metadata": {
    "tags": []
   },
   "outputs": [
    {
     "data": {
      "text/html": [
       "<div>\n",
       "<style scoped>\n",
       "    .dataframe tbody tr th:only-of-type {\n",
       "        vertical-align: middle;\n",
       "    }\n",
       "\n",
       "    .dataframe tbody tr th {\n",
       "        vertical-align: top;\n",
       "    }\n",
       "\n",
       "    .dataframe thead th {\n",
       "        text-align: right;\n",
       "    }\n",
       "</style>\n",
       "<table border=\"1\" class=\"dataframe\">\n",
       "  <thead>\n",
       "    <tr style=\"text-align: right;\">\n",
       "      <th></th>\n",
       "      <th>NumberRealEstateLoansOrLines</th>\n",
       "      <th>SeriousDlqin2yrs</th>\n",
       "    </tr>\n",
       "  </thead>\n",
       "  <tbody>\n",
       "    <tr>\n",
       "      <th>NumberRealEstateLoansOrLines</th>\n",
       "      <td>1.000000</td>\n",
       "      <td>-0.007038</td>\n",
       "    </tr>\n",
       "    <tr>\n",
       "      <th>SeriousDlqin2yrs</th>\n",
       "      <td>-0.007038</td>\n",
       "      <td>1.000000</td>\n",
       "    </tr>\n",
       "  </tbody>\n",
       "</table>\n",
       "</div>"
      ],
      "text/plain": [
       "                              NumberRealEstateLoansOrLines  SeriousDlqin2yrs\n",
       "NumberRealEstateLoansOrLines                      1.000000         -0.007038\n",
       "SeriousDlqin2yrs                                 -0.007038          1.000000"
      ]
     },
     "execution_count": 79,
     "metadata": {},
     "output_type": "execute_result"
    }
   ],
   "source": [
    "train[['NumberRealEstateLoansOrLines', 'SeriousDlqin2yrs']].corr()"
   ]
  },
  {
   "cell_type": "markdown",
   "id": "f3e8e6f7-cbcf-4f31-b4a7-9f562361f233",
   "metadata": {},
   "source": [
    "### Key takeaways\n",
    "- We can conclude the analysis of \"NumberRealEstateLoansOrLines\" with the notion that people with a lower number of real estate loans or credit lines have a lower probability of delinquency\n",
    "- The lower values of real estate loans (equal or less than 2) has the majority of the number of delinquent customers"
   ]
  },
  {
   "cell_type": "markdown",
   "id": "c5dcce62",
   "metadata": {},
   "source": [
    "# NumberOfDependents"
   ]
  },
  {
   "cell_type": "markdown",
   "id": "7d00f428",
   "metadata": {},
   "source": [
    "NumberOfDependents is defined as the Number of dependents in family excluding themselves (spouse, children etc.). We can make an assumption that the higher the number of dependents a customer has, the harder it is for that customer to make payments on his loan (since he has to take care of his dependents first before considering paying off loans)."
   ]
  },
  {
   "cell_type": "code",
   "execution_count": 10,
   "id": "a714bbcf",
   "metadata": {},
   "outputs": [
    {
     "data": {
      "text/plain": [
       "count    146076.000000\n",
       "mean          0.757222\n",
       "std           1.115086\n",
       "min           0.000000\n",
       "25%           0.000000\n",
       "50%           0.000000\n",
       "75%           1.000000\n",
       "90%           2.000000\n",
       "max          20.000000\n",
       "Name: NumberOfDependents, dtype: float64"
      ]
     },
     "execution_count": 10,
     "metadata": {},
     "output_type": "execute_result"
    }
   ],
   "source": [
    "train['NumberOfDependents'].describe(percentiles=[.25, .5, .75, .9])"
   ]
  },
  {
   "cell_type": "code",
   "execution_count": 11,
   "id": "1998b7ae",
   "metadata": {},
   "outputs": [
    {
     "data": {
      "text/plain": [
       "count    98877.000000\n",
       "mean         0.769046\n",
       "std          1.136778\n",
       "min          0.000000\n",
       "25%          0.000000\n",
       "50%          0.000000\n",
       "75%          1.000000\n",
       "90%          2.000000\n",
       "max         43.000000\n",
       "Name: NumberOfDependents, dtype: float64"
      ]
     },
     "execution_count": 11,
     "metadata": {},
     "output_type": "execute_result"
    }
   ],
   "source": [
    "test['NumberOfDependents'].describe(percentiles=[.25, .5, .75, .9])"
   ]
  },
  {
   "cell_type": "markdown",
   "id": "3163d79c-322a-48d6-8dc1-d8b79cf6273f",
   "metadata": {},
   "source": [
    "Next, we will look at the distribution of NumberOfDependents compared to our target and draw some analysis based on the distribution plot as well as a Top-k analysis by label:\n",
    "- ~58% of the customers have 0 dependents, which is interesting since the average age of this subset is 54\n",
    "- 90% of the customers have equal or less 2 dependents, and ~85% of this customers subset has a delinquent loan\n",
    "- There are outliers on the right tail of the data, with some records having up to more than 8 dependents!"
   ]
  },
  {
   "cell_type": "code",
   "execution_count": 9,
   "id": "4f39ad37-9b4f-40cd-8b64-7559d746845f",
   "metadata": {
    "tags": []
   },
   "outputs": [
    {
     "data": {
      "image/png": "[encoded data removed]",
      "text/plain": [
       "<Figure size 1500x800 with 1 Axes>"
      ]
     },
     "metadata": {},
     "output_type": "display_data"
    }
   ],
   "source": [
    "plot_histogram(data=train.loc[train['NumberOfDependents'] <= 2],\n",
    "               x='NumberOfDependents',\n",
    "               hue='SeriousDlqin2yrs', bins=3)"
   ]
  },
  {
   "cell_type": "code",
   "execution_count": 21,
   "id": "c380d9c5-8ae6-4f48-9d02-8eb6ae6961e1",
   "metadata": {
    "tags": []
   },
   "outputs": [
    {
     "data": {
      "text/html": [
       "<div>\n",
       "<style scoped>\n",
       "    .dataframe tbody tr th:only-of-type {\n",
       "        vertical-align: middle;\n",
       "    }\n",
       "\n",
       "    .dataframe tbody tr th {\n",
       "        vertical-align: top;\n",
       "    }\n",
       "\n",
       "    .dataframe thead th {\n",
       "        text-align: right;\n",
       "    }\n",
       "</style>\n",
       "<table border=\"1\" class=\"dataframe\">\n",
       "  <thead>\n",
       "    <tr style=\"text-align: right;\">\n",
       "      <th></th>\n",
       "      <th>label_cnt</th>\n",
       "      <th>label_sum</th>\n",
       "      <th>% label by NumberOfDependents</th>\n",
       "      <th>% label total</th>\n",
       "      <th>% population</th>\n",
       "    </tr>\n",
       "    <tr>\n",
       "      <th>NumberOfDependents</th>\n",
       "      <th></th>\n",
       "      <th></th>\n",
       "      <th></th>\n",
       "      <th></th>\n",
       "      <th></th>\n",
       "    </tr>\n",
       "  </thead>\n",
       "  <tbody>\n",
       "    <tr>\n",
       "      <th>0.0</th>\n",
       "      <td>86902</td>\n",
       "      <td>5095</td>\n",
       "      <td>5.863</td>\n",
       "      <td>50.818</td>\n",
       "      <td>57.935</td>\n",
       "    </tr>\n",
       "    <tr>\n",
       "      <th>1.0</th>\n",
       "      <td>26316</td>\n",
       "      <td>1935</td>\n",
       "      <td>7.353</td>\n",
       "      <td>19.300</td>\n",
       "      <td>17.544</td>\n",
       "    </tr>\n",
       "    <tr>\n",
       "      <th>2.0</th>\n",
       "      <td>19522</td>\n",
       "      <td>1584</td>\n",
       "      <td>8.114</td>\n",
       "      <td>15.799</td>\n",
       "      <td>13.015</td>\n",
       "    </tr>\n",
       "    <tr>\n",
       "      <th>3.0</th>\n",
       "      <td>9483</td>\n",
       "      <td>837</td>\n",
       "      <td>8.826</td>\n",
       "      <td>8.348</td>\n",
       "      <td>6.322</td>\n",
       "    </tr>\n",
       "    <tr>\n",
       "      <th>4.0</th>\n",
       "      <td>2862</td>\n",
       "      <td>297</td>\n",
       "      <td>10.377</td>\n",
       "      <td>2.962</td>\n",
       "      <td>1.908</td>\n",
       "    </tr>\n",
       "    <tr>\n",
       "      <th>5.0</th>\n",
       "      <td>746</td>\n",
       "      <td>68</td>\n",
       "      <td>9.115</td>\n",
       "      <td>0.678</td>\n",
       "      <td>0.497</td>\n",
       "    </tr>\n",
       "    <tr>\n",
       "      <th>6.0</th>\n",
       "      <td>158</td>\n",
       "      <td>24</td>\n",
       "      <td>15.190</td>\n",
       "      <td>0.239</td>\n",
       "      <td>0.105</td>\n",
       "    </tr>\n",
       "    <tr>\n",
       "      <th>7.0</th>\n",
       "      <td>51</td>\n",
       "      <td>5</td>\n",
       "      <td>9.804</td>\n",
       "      <td>0.050</td>\n",
       "      <td>0.034</td>\n",
       "    </tr>\n",
       "    <tr>\n",
       "      <th>8.0</th>\n",
       "      <td>24</td>\n",
       "      <td>2</td>\n",
       "      <td>8.333</td>\n",
       "      <td>0.020</td>\n",
       "      <td>0.016</td>\n",
       "    </tr>\n",
       "    <tr>\n",
       "      <th>9.0</th>\n",
       "      <td>5</td>\n",
       "      <td>0</td>\n",
       "      <td>0.000</td>\n",
       "      <td>0.000</td>\n",
       "      <td>0.003</td>\n",
       "    </tr>\n",
       "    <tr>\n",
       "      <th>10.0</th>\n",
       "      <td>5</td>\n",
       "      <td>0</td>\n",
       "      <td>0.000</td>\n",
       "      <td>0.000</td>\n",
       "      <td>0.003</td>\n",
       "    </tr>\n",
       "    <tr>\n",
       "      <th>13.0</th>\n",
       "      <td>1</td>\n",
       "      <td>0</td>\n",
       "      <td>0.000</td>\n",
       "      <td>0.000</td>\n",
       "      <td>0.001</td>\n",
       "    </tr>\n",
       "    <tr>\n",
       "      <th>20.0</th>\n",
       "      <td>1</td>\n",
       "      <td>0</td>\n",
       "      <td>0.000</td>\n",
       "      <td>0.000</td>\n",
       "      <td>0.001</td>\n",
       "    </tr>\n",
       "  </tbody>\n",
       "</table>\n",
       "</div>"
      ],
      "text/plain": [
       "                    label_cnt  label_sum  % label by NumberOfDependents  \\\n",
       "NumberOfDependents                                                        \n",
       "0.0                     86902       5095                          5.863   \n",
       "1.0                     26316       1935                          7.353   \n",
       "2.0                     19522       1584                          8.114   \n",
       "3.0                      9483        837                          8.826   \n",
       "4.0                      2862        297                         10.377   \n",
       "5.0                       746         68                          9.115   \n",
       "6.0                       158         24                         15.190   \n",
       "7.0                        51          5                          9.804   \n",
       "8.0                        24          2                          8.333   \n",
       "9.0                         5          0                          0.000   \n",
       "10.0                        5          0                          0.000   \n",
       "13.0                        1          0                          0.000   \n",
       "20.0                        1          0                          0.000   \n",
       "\n",
       "                    % label total  % population  \n",
       "NumberOfDependents                               \n",
       "0.0                        50.818        57.935  \n",
       "1.0                        19.300        17.544  \n",
       "2.0                        15.799        13.015  \n",
       "3.0                         8.348         6.322  \n",
       "4.0                         2.962         1.908  \n",
       "5.0                         0.678         0.497  \n",
       "6.0                         0.239         0.105  \n",
       "7.0                         0.050         0.034  \n",
       "8.0                         0.020         0.016  \n",
       "9.0                         0.000         0.003  \n",
       "10.0                        0.000         0.003  \n",
       "13.0                        0.000         0.001  \n",
       "20.0                        0.000         0.001  "
      ]
     },
     "execution_count": 21,
     "metadata": {},
     "output_type": "execute_result"
    }
   ],
   "source": [
    "get_pct_target_by_feat(train, 'NumberOfDependents', 'SeriousDlqin2yrs').sort_index()"
   ]
  },
  {
   "cell_type": "code",
   "execution_count": 19,
   "id": "01972a9c-cf71-404c-8b31-f5c9127b4273",
   "metadata": {
    "tags": []
   },
   "outputs": [
    {
     "data": {
      "text/html": [
       "<div>\n",
       "<style scoped>\n",
       "    .dataframe tbody tr th:only-of-type {\n",
       "        vertical-align: middle;\n",
       "    }\n",
       "\n",
       "    .dataframe tbody tr th {\n",
       "        vertical-align: top;\n",
       "    }\n",
       "\n",
       "    .dataframe thead th {\n",
       "        text-align: right;\n",
       "    }\n",
       "</style>\n",
       "<table border=\"1\" class=\"dataframe\">\n",
       "  <thead>\n",
       "    <tr style=\"text-align: right;\">\n",
       "      <th></th>\n",
       "      <th>Unnamed: 0</th>\n",
       "      <th>SeriousDlqin2yrs</th>\n",
       "      <th>RevolvingUtilizationOfUnsecuredLines</th>\n",
       "      <th>age</th>\n",
       "      <th>NumberOfTime30-59DaysPastDueNotWorse</th>\n",
       "      <th>DebtRatio</th>\n",
       "      <th>MonthlyIncome</th>\n",
       "      <th>NumberOfOpenCreditLinesAndLoans</th>\n",
       "      <th>NumberOfTimes90DaysLate</th>\n",
       "      <th>NumberRealEstateLoansOrLines</th>\n",
       "      <th>NumberOfTime60-89DaysPastDueNotWorse</th>\n",
       "      <th>NumberOfDependents</th>\n",
       "    </tr>\n",
       "  </thead>\n",
       "  <tbody>\n",
       "    <tr>\n",
       "      <th>count</th>\n",
       "      <td>86902.000000</td>\n",
       "      <td>86902.000000</td>\n",
       "      <td>86902.000000</td>\n",
       "      <td>86902.000000</td>\n",
       "      <td>86902.000000</td>\n",
       "      <td>86902.000000</td>\n",
       "      <td>6.545600e+04</td>\n",
       "      <td>86902.000000</td>\n",
       "      <td>86902.000000</td>\n",
       "      <td>86902.000000</td>\n",
       "      <td>86902.000000</td>\n",
       "      <td>86902.0</td>\n",
       "    </tr>\n",
       "    <tr>\n",
       "      <th>mean</th>\n",
       "      <td>75054.386159</td>\n",
       "      <td>0.058629</td>\n",
       "      <td>5.666405</td>\n",
       "      <td>54.396642</td>\n",
       "      <td>0.423247</td>\n",
       "      <td>418.946560</td>\n",
       "      <td>5.873411e+03</td>\n",
       "      <td>8.158052</td>\n",
       "      <td>0.291892</td>\n",
       "      <td>0.905641</td>\n",
       "      <td>0.268038</td>\n",
       "      <td>0.0</td>\n",
       "    </tr>\n",
       "    <tr>\n",
       "      <th>std</th>\n",
       "      <td>43303.577380</td>\n",
       "      <td>0.234931</td>\n",
       "      <td>263.043010</td>\n",
       "      <td>16.091790</td>\n",
       "      <td>4.587563</td>\n",
       "      <td>2091.654324</td>\n",
       "      <td>1.054586e+04</td>\n",
       "      <td>5.184115</td>\n",
       "      <td>4.571026</td>\n",
       "      <td>1.112255</td>\n",
       "      <td>4.559327</td>\n",
       "      <td>0.0</td>\n",
       "    </tr>\n",
       "    <tr>\n",
       "      <th>min</th>\n",
       "      <td>3.000000</td>\n",
       "      <td>0.000000</td>\n",
       "      <td>0.000000</td>\n",
       "      <td>21.000000</td>\n",
       "      <td>0.000000</td>\n",
       "      <td>0.000000</td>\n",
       "      <td>0.000000e+00</td>\n",
       "      <td>0.000000</td>\n",
       "      <td>0.000000</td>\n",
       "      <td>0.000000</td>\n",
       "      <td>0.000000</td>\n",
       "      <td>0.0</td>\n",
       "    </tr>\n",
       "    <tr>\n",
       "      <th>25%</th>\n",
       "      <td>37512.000000</td>\n",
       "      <td>0.000000</td>\n",
       "      <td>0.023051</td>\n",
       "      <td>42.000000</td>\n",
       "      <td>0.000000</td>\n",
       "      <td>0.149640</td>\n",
       "      <td>3.000000e+03</td>\n",
       "      <td>4.000000</td>\n",
       "      <td>0.000000</td>\n",
       "      <td>0.000000</td>\n",
       "      <td>0.000000</td>\n",
       "      <td>0.0</td>\n",
       "    </tr>\n",
       "    <tr>\n",
       "      <th>50%</th>\n",
       "      <td>75166.500000</td>\n",
       "      <td>0.000000</td>\n",
       "      <td>0.118846</td>\n",
       "      <td>56.000000</td>\n",
       "      <td>0.000000</td>\n",
       "      <td>0.372411</td>\n",
       "      <td>4.783000e+03</td>\n",
       "      <td>7.000000</td>\n",
       "      <td>0.000000</td>\n",
       "      <td>1.000000</td>\n",
       "      <td>0.000000</td>\n",
       "      <td>0.0</td>\n",
       "    </tr>\n",
       "    <tr>\n",
       "      <th>75%</th>\n",
       "      <td>112537.750000</td>\n",
       "      <td>0.000000</td>\n",
       "      <td>0.505089</td>\n",
       "      <td>66.000000</td>\n",
       "      <td>0.000000</td>\n",
       "      <td>2.911055</td>\n",
       "      <td>7.400000e+03</td>\n",
       "      <td>11.000000</td>\n",
       "      <td>0.000000</td>\n",
       "      <td>1.000000</td>\n",
       "      <td>0.000000</td>\n",
       "      <td>0.0</td>\n",
       "    </tr>\n",
       "    <tr>\n",
       "      <th>max</th>\n",
       "      <td>150000.000000</td>\n",
       "      <td>1.000000</td>\n",
       "      <td>50708.000000</td>\n",
       "      <td>107.000000</td>\n",
       "      <td>98.000000</td>\n",
       "      <td>329664.000000</td>\n",
       "      <td>1.794060e+06</td>\n",
       "      <td>58.000000</td>\n",
       "      <td>98.000000</td>\n",
       "      <td>54.000000</td>\n",
       "      <td>98.000000</td>\n",
       "      <td>0.0</td>\n",
       "    </tr>\n",
       "  </tbody>\n",
       "</table>\n",
       "</div>"
      ],
      "text/plain": [
       "          Unnamed: 0  SeriousDlqin2yrs  RevolvingUtilizationOfUnsecuredLines  \\\n",
       "count   86902.000000      86902.000000                          86902.000000   \n",
       "mean    75054.386159          0.058629                              5.666405   \n",
       "std     43303.577380          0.234931                            263.043010   \n",
       "min         3.000000          0.000000                              0.000000   \n",
       "25%     37512.000000          0.000000                              0.023051   \n",
       "50%     75166.500000          0.000000                              0.118846   \n",
       "75%    112537.750000          0.000000                              0.505089   \n",
       "max    150000.000000          1.000000                          50708.000000   \n",
       "\n",
       "                age  NumberOfTime30-59DaysPastDueNotWorse      DebtRatio  \\\n",
       "count  86902.000000                          86902.000000   86902.000000   \n",
       "mean      54.396642                              0.423247     418.946560   \n",
       "std       16.091790                              4.587563    2091.654324   \n",
       "min       21.000000                              0.000000       0.000000   \n",
       "25%       42.000000                              0.000000       0.149640   \n",
       "50%       56.000000                              0.000000       0.372411   \n",
       "75%       66.000000                              0.000000       2.911055   \n",
       "max      107.000000                             98.000000  329664.000000   \n",
       "\n",
       "       MonthlyIncome  NumberOfOpenCreditLinesAndLoans  \\\n",
       "count   6.545600e+04                     86902.000000   \n",
       "mean    5.873411e+03                         8.158052   \n",
       "std     1.054586e+04                         5.184115   \n",
       "min     0.000000e+00                         0.000000   \n",
       "25%     3.000000e+03                         4.000000   \n",
       "50%     4.783000e+03                         7.000000   \n",
       "75%     7.400000e+03                        11.000000   \n",
       "max     1.794060e+06                        58.000000   \n",
       "\n",
       "       NumberOfTimes90DaysLate  NumberRealEstateLoansOrLines  \\\n",
       "count             86902.000000                  86902.000000   \n",
       "mean                  0.291892                      0.905641   \n",
       "std                   4.571026                      1.112255   \n",
       "min                   0.000000                      0.000000   \n",
       "25%                   0.000000                      0.000000   \n",
       "50%                   0.000000                      1.000000   \n",
       "75%                   0.000000                      1.000000   \n",
       "max                  98.000000                     54.000000   \n",
       "\n",
       "       NumberOfTime60-89DaysPastDueNotWorse  NumberOfDependents  \n",
       "count                          86902.000000             86902.0  \n",
       "mean                               0.268038                 0.0  \n",
       "std                                4.559327                 0.0  \n",
       "min                                0.000000                 0.0  \n",
       "25%                                0.000000                 0.0  \n",
       "50%                                0.000000                 0.0  \n",
       "75%                                0.000000                 0.0  \n",
       "max                               98.000000                 0.0  "
      ]
     },
     "execution_count": 19,
     "metadata": {},
     "output_type": "execute_result"
    }
   ],
   "source": [
    "train.loc[train['NumberOfDependents']==0].describe()"
   ]
  },
  {
   "cell_type": "markdown",
   "id": "4f66a4c4-0c88-437f-a9b1-e6053fac5b34",
   "metadata": {},
   "source": [
    "Due to the skewness nature of NumberOfDependents, we can consider log transform this variable. However, we can observe after the transformation that the distribution of the variable does not follow a more Gaussian distribution. Therefore we will not transform this variable."
   ]
  },
  {
   "cell_type": "code",
   "execution_count": 9,
   "id": "b4b00c2c-0b80-4d49-b091-2917bd2d72f2",
   "metadata": {},
   "outputs": [
    {
     "name": "stderr",
     "output_type": "stream",
     "text": [
      "C:\\Users\\Hieu Trieu\\AppData\\Local\\Programs\\Python\\Python311\\Lib\\site-packages\\pandas\\core\\arraylike.py:396: RuntimeWarning: divide by zero encountered in log\n",
      "  result = getattr(ufunc, method)(*inputs, **kwargs)\n"
     ]
    },
    {
     "data": {
      "image/png": "[encoded data removed]",
      "text/plain": [
       "<Figure size 1500x800 with 1 Axes>"
      ]
     },
     "metadata": {},
     "output_type": "display_data"
    }
   ],
   "source": [
    "train['LogNumberOfDependents'] = np.log(train['NumberOfDependents'])\n",
    "plot_histogram(data=train,\n",
    "               x='LogNumberOfDependents',\n",
    "               hue='SeriousDlqin2yrs')"
   ]
  },
  {
   "cell_type": "markdown",
   "id": "c6c0ffd7",
   "metadata": {},
   "source": [
    "Finally, we will check the Pearson correlation between \"NumberOfDependents\" and our target, and we can see that there is a positive correlation."
   ]
  },
  {
   "cell_type": "code",
   "execution_count": 77,
   "id": "bbaeba57",
   "metadata": {
    "tags": []
   },
   "outputs": [
    {
     "data": {
      "text/html": [
       "<div>\n",
       "<style scoped>\n",
       "    .dataframe tbody tr th:only-of-type {\n",
       "        vertical-align: middle;\n",
       "    }\n",
       "\n",
       "    .dataframe tbody tr th {\n",
       "        vertical-align: top;\n",
       "    }\n",
       "\n",
       "    .dataframe thead th {\n",
       "        text-align: right;\n",
       "    }\n",
       "</style>\n",
       "<table border=\"1\" class=\"dataframe\">\n",
       "  <thead>\n",
       "    <tr style=\"text-align: right;\">\n",
       "      <th></th>\n",
       "      <th>NumberOfDependents</th>\n",
       "      <th>SeriousDlqin2yrs</th>\n",
       "    </tr>\n",
       "  </thead>\n",
       "  <tbody>\n",
       "    <tr>\n",
       "      <th>NumberOfDependents</th>\n",
       "      <td>1.000000</td>\n",
       "      <td>0.046048</td>\n",
       "    </tr>\n",
       "    <tr>\n",
       "      <th>SeriousDlqin2yrs</th>\n",
       "      <td>0.046048</td>\n",
       "      <td>1.000000</td>\n",
       "    </tr>\n",
       "  </tbody>\n",
       "</table>\n",
       "</div>"
      ],
      "text/plain": [
       "                    NumberOfDependents  SeriousDlqin2yrs\n",
       "NumberOfDependents            1.000000          0.046048\n",
       "SeriousDlqin2yrs              0.046048          1.000000"
      ]
     },
     "execution_count": 77,
     "metadata": {},
     "output_type": "execute_result"
    }
   ],
   "source": [
    "train[['NumberOfDependents', 'SeriousDlqin2yrs']].corr()"
   ]
  },
  {
   "cell_type": "markdown",
   "id": "caa2fb13-ba5e-44e9-b8a6-9e8a429ecec4",
   "metadata": {},
   "source": [
    "### Key takeaways\n",
    "- We can conclude the analysis of \"NumberOfDependents\" with the notion that customers with a higher number of dependents have a higher probability of delinquency\n",
    "- However, the distribution by label tells us that we can not clearly distinguish customers with serious delinquent from customers without based on \"NumberOfDependents\""
   ]
  },
  {
   "cell_type": "markdown",
   "id": "09b71917",
   "metadata": {},
   "source": [
    "# NumberOfTime30-59DaysPastDueNotWorse"
   ]
  },
  {
   "cell_type": "markdown",
   "id": "458fa8b4",
   "metadata": {},
   "source": [
    "Number Of Time 30-59 Days Past Due Not Worse is defined as \"Number of times borrower has been 30-59 days past due but no worse in the last 2 years\". In the financial and banking industry (specifically in Vietnam), loans are classified into the following groups:\n",
    "- Group 1: Days past due (DPD) < 10 days\n",
    "- Group 2: 10 days <= DPD < 30 days\n",
    "- Group 3: 30 days <= DPD < 90 days\n",
    "- Group 4: 90 days <= DPD < 180 days\n",
    "- Group 5: 180 days < DPD (Delinquency)\n",
    "\n",
    "Loan group 4 and 5 are considered as bad debt, with Group 5 as being delinquent. As a result, we can consider records with a high number of 'NumberOfTime30-59DaysPastDueNotWorse' to be struggling with paying off debts. \n",
    "\n",
    "Furthermore, it is worth noting that for every record, the person has to pay off his debt for the DPD to reset back to 0. Therefore:\n",
    "- A customer with a lower number of times with 30-59 DPD means either he rarely has troubles paying off his debts, or another customer only fails to pay off his debt once, but he never made another payment thereafter. Both cases could have a low NumberOfTime30-59DaysPastDueNotWorse, but the latter will have a deliquent loan as his debt climbs to 180 DPD. \n",
    "- A customer with a high count of 30-59DPD can have a scenario that he misses his payments by at least 1-2 months, pays back, and then misses the next payment again. \n",
    "\n",
    "We will analyze the behavior (correlation between number of 30-59 DPD and Serious Deliquency) of these 2 groups of customers to understand our data better."
   ]
  },
  {
   "cell_type": "markdown",
   "id": "5966ff87",
   "metadata": {},
   "source": [
    "Looking at the distribution of this feature, we can see that the majority of our dataset (including training and testing sets) do not have any past due debts (with 84% have 0 times, and 97% have equal or less than 2 times of having 30-59DPD). However, it is also interesting to see that this 97% of the dataset also has 74% of people with serious delinquency, which matches our assessment above. "
   ]
  },
  {
   "cell_type": "code",
   "execution_count": 38,
   "id": "19df37e8",
   "metadata": {},
   "outputs": [
    {
     "data": {
      "text/html": [
       "<div>\n",
       "<style scoped>\n",
       "    .dataframe tbody tr th:only-of-type {\n",
       "        vertical-align: middle;\n",
       "    }\n",
       "\n",
       "    .dataframe tbody tr th {\n",
       "        vertical-align: top;\n",
       "    }\n",
       "\n",
       "    .dataframe thead th {\n",
       "        text-align: right;\n",
       "    }\n",
       "</style>\n",
       "<table border=\"1\" class=\"dataframe\">\n",
       "  <thead>\n",
       "    <tr style=\"text-align: right;\">\n",
       "      <th></th>\n",
       "      <th>label_cnt</th>\n",
       "      <th>label_sum</th>\n",
       "      <th>% label by NumberOfTime30-59DaysPastDueNotWorse</th>\n",
       "      <th>% label total</th>\n",
       "      <th>% population</th>\n",
       "    </tr>\n",
       "    <tr>\n",
       "      <th>NumberOfTime30-59DaysPastDueNotWorse</th>\n",
       "      <th></th>\n",
       "      <th></th>\n",
       "      <th></th>\n",
       "      <th></th>\n",
       "      <th></th>\n",
       "    </tr>\n",
       "  </thead>\n",
       "  <tbody>\n",
       "    <tr>\n",
       "      <th>0</th>\n",
       "      <td>126018</td>\n",
       "      <td>5041</td>\n",
       "      <td>4.000</td>\n",
       "      <td>50.279</td>\n",
       "      <td>84.012</td>\n",
       "    </tr>\n",
       "    <tr>\n",
       "      <th>1</th>\n",
       "      <td>16033</td>\n",
       "      <td>2409</td>\n",
       "      <td>15.025</td>\n",
       "      <td>24.028</td>\n",
       "      <td>10.689</td>\n",
       "    </tr>\n",
       "    <tr>\n",
       "      <th>2</th>\n",
       "      <td>4598</td>\n",
       "      <td>1219</td>\n",
       "      <td>26.512</td>\n",
       "      <td>12.158</td>\n",
       "      <td>3.065</td>\n",
       "    </tr>\n",
       "    <tr>\n",
       "      <th>3</th>\n",
       "      <td>1754</td>\n",
       "      <td>618</td>\n",
       "      <td>35.234</td>\n",
       "      <td>6.164</td>\n",
       "      <td>1.169</td>\n",
       "    </tr>\n",
       "    <tr>\n",
       "      <th>4</th>\n",
       "      <td>747</td>\n",
       "      <td>318</td>\n",
       "      <td>42.570</td>\n",
       "      <td>3.172</td>\n",
       "      <td>0.498</td>\n",
       "    </tr>\n",
       "    <tr>\n",
       "      <th>5</th>\n",
       "      <td>342</td>\n",
       "      <td>154</td>\n",
       "      <td>45.029</td>\n",
       "      <td>1.536</td>\n",
       "      <td>0.228</td>\n",
       "    </tr>\n",
       "    <tr>\n",
       "      <th>98</th>\n",
       "      <td>264</td>\n",
       "      <td>143</td>\n",
       "      <td>54.167</td>\n",
       "      <td>1.426</td>\n",
       "      <td>0.176</td>\n",
       "    </tr>\n",
       "    <tr>\n",
       "      <th>6</th>\n",
       "      <td>140</td>\n",
       "      <td>74</td>\n",
       "      <td>52.857</td>\n",
       "      <td>0.738</td>\n",
       "      <td>0.093</td>\n",
       "    </tr>\n",
       "    <tr>\n",
       "      <th>7</th>\n",
       "      <td>54</td>\n",
       "      <td>28</td>\n",
       "      <td>51.852</td>\n",
       "      <td>0.279</td>\n",
       "      <td>0.036</td>\n",
       "    </tr>\n",
       "    <tr>\n",
       "      <th>8</th>\n",
       "      <td>25</td>\n",
       "      <td>8</td>\n",
       "      <td>32.000</td>\n",
       "      <td>0.080</td>\n",
       "      <td>0.017</td>\n",
       "    </tr>\n",
       "    <tr>\n",
       "      <th>9</th>\n",
       "      <td>12</td>\n",
       "      <td>4</td>\n",
       "      <td>33.333</td>\n",
       "      <td>0.040</td>\n",
       "      <td>0.008</td>\n",
       "    </tr>\n",
       "    <tr>\n",
       "      <th>96</th>\n",
       "      <td>5</td>\n",
       "      <td>4</td>\n",
       "      <td>80.000</td>\n",
       "      <td>0.040</td>\n",
       "      <td>0.003</td>\n",
       "    </tr>\n",
       "    <tr>\n",
       "      <th>10</th>\n",
       "      <td>4</td>\n",
       "      <td>3</td>\n",
       "      <td>75.000</td>\n",
       "      <td>0.030</td>\n",
       "      <td>0.003</td>\n",
       "    </tr>\n",
       "    <tr>\n",
       "      <th>11</th>\n",
       "      <td>1</td>\n",
       "      <td>1</td>\n",
       "      <td>100.000</td>\n",
       "      <td>0.010</td>\n",
       "      <td>0.001</td>\n",
       "    </tr>\n",
       "    <tr>\n",
       "      <th>13</th>\n",
       "      <td>1</td>\n",
       "      <td>1</td>\n",
       "      <td>100.000</td>\n",
       "      <td>0.010</td>\n",
       "      <td>0.001</td>\n",
       "    </tr>\n",
       "    <tr>\n",
       "      <th>12</th>\n",
       "      <td>2</td>\n",
       "      <td>1</td>\n",
       "      <td>50.000</td>\n",
       "      <td>0.010</td>\n",
       "      <td>0.001</td>\n",
       "    </tr>\n",
       "  </tbody>\n",
       "</table>\n",
       "</div>"
      ],
      "text/plain": [
       "                                      label_cnt  label_sum  \\\n",
       "NumberOfTime30-59DaysPastDueNotWorse                         \n",
       "0                                        126018       5041   \n",
       "1                                         16033       2409   \n",
       "2                                          4598       1219   \n",
       "3                                          1754        618   \n",
       "4                                           747        318   \n",
       "5                                           342        154   \n",
       "98                                          264        143   \n",
       "6                                           140         74   \n",
       "7                                            54         28   \n",
       "8                                            25          8   \n",
       "9                                            12          4   \n",
       "96                                            5          4   \n",
       "10                                            4          3   \n",
       "11                                            1          1   \n",
       "13                                            1          1   \n",
       "12                                            2          1   \n",
       "\n",
       "                                      % label by NumberOfTime30-59DaysPastDueNotWorse  \\\n",
       "NumberOfTime30-59DaysPastDueNotWorse                                                    \n",
       "0                                                                               4.000   \n",
       "1                                                                              15.025   \n",
       "2                                                                              26.512   \n",
       "3                                                                              35.234   \n",
       "4                                                                              42.570   \n",
       "5                                                                              45.029   \n",
       "98                                                                             54.167   \n",
       "6                                                                              52.857   \n",
       "7                                                                              51.852   \n",
       "8                                                                              32.000   \n",
       "9                                                                              33.333   \n",
       "96                                                                             80.000   \n",
       "10                                                                             75.000   \n",
       "11                                                                            100.000   \n",
       "13                                                                            100.000   \n",
       "12                                                                             50.000   \n",
       "\n",
       "                                      % label total  % population  \n",
       "NumberOfTime30-59DaysPastDueNotWorse                               \n",
       "0                                            50.279        84.012  \n",
       "1                                            24.028        10.689  \n",
       "2                                            12.158         3.065  \n",
       "3                                             6.164         1.169  \n",
       "4                                             3.172         0.498  \n",
       "5                                             1.536         0.228  \n",
       "98                                            1.426         0.176  \n",
       "6                                             0.738         0.093  \n",
       "7                                             0.279         0.036  \n",
       "8                                             0.080         0.017  \n",
       "9                                             0.040         0.008  \n",
       "96                                            0.040         0.003  \n",
       "10                                            0.030         0.003  \n",
       "11                                            0.010         0.001  \n",
       "13                                            0.010         0.001  \n",
       "12                                            0.010         0.001  "
      ]
     },
     "execution_count": 38,
     "metadata": {},
     "output_type": "execute_result"
    }
   ],
   "source": [
    "train_30_59_dpd_gpby = get_pct_target_by_feat(train, 'NumberOfTime30-59DaysPastDueNotWorse', 'SeriousDlqin2yrs')\n",
    "train_30_59_dpd_gpby.sort_values(['% population'], ascending=False, inplace=True)\n",
    "train_30_59_dpd_gpby"
   ]
  },
  {
   "cell_type": "code",
   "execution_count": 37,
   "id": "1cb6ae8f",
   "metadata": {},
   "outputs": [
    {
     "data": {
      "text/html": [
       "<div>\n",
       "<style scoped>\n",
       "    .dataframe tbody tr th:only-of-type {\n",
       "        vertical-align: middle;\n",
       "    }\n",
       "\n",
       "    .dataframe tbody tr th {\n",
       "        vertical-align: top;\n",
       "    }\n",
       "\n",
       "    .dataframe thead th {\n",
       "        text-align: right;\n",
       "    }\n",
       "</style>\n",
       "<table border=\"1\" class=\"dataframe\">\n",
       "  <thead>\n",
       "    <tr style=\"text-align: right;\">\n",
       "      <th></th>\n",
       "      <th>label_cnt</th>\n",
       "      <th>label_sum</th>\n",
       "      <th>% label by NumberOfTime30-59DaysPastDueNotWorse</th>\n",
       "      <th>% label total</th>\n",
       "      <th>% population</th>\n",
       "    </tr>\n",
       "    <tr>\n",
       "      <th>NumberOfTime30-59DaysPastDueNotWorse</th>\n",
       "      <th></th>\n",
       "      <th></th>\n",
       "      <th></th>\n",
       "      <th></th>\n",
       "      <th></th>\n",
       "    </tr>\n",
       "  </thead>\n",
       "  <tbody>\n",
       "    <tr>\n",
       "      <th>0</th>\n",
       "      <td>85190</td>\n",
       "      <td>0.0</td>\n",
       "      <td>0.0</td>\n",
       "      <td>NaN</td>\n",
       "      <td>83.929</td>\n",
       "    </tr>\n",
       "    <tr>\n",
       "      <th>1</th>\n",
       "      <td>10837</td>\n",
       "      <td>0.0</td>\n",
       "      <td>0.0</td>\n",
       "      <td>NaN</td>\n",
       "      <td>10.677</td>\n",
       "    </tr>\n",
       "    <tr>\n",
       "      <th>2</th>\n",
       "      <td>3168</td>\n",
       "      <td>0.0</td>\n",
       "      <td>0.0</td>\n",
       "      <td>NaN</td>\n",
       "      <td>3.121</td>\n",
       "    </tr>\n",
       "    <tr>\n",
       "      <th>3</th>\n",
       "      <td>1201</td>\n",
       "      <td>0.0</td>\n",
       "      <td>0.0</td>\n",
       "      <td>NaN</td>\n",
       "      <td>1.183</td>\n",
       "    </tr>\n",
       "    <tr>\n",
       "      <th>4</th>\n",
       "      <td>510</td>\n",
       "      <td>0.0</td>\n",
       "      <td>0.0</td>\n",
       "      <td>NaN</td>\n",
       "      <td>0.502</td>\n",
       "    </tr>\n",
       "    <tr>\n",
       "      <th>98</th>\n",
       "      <td>213</td>\n",
       "      <td>0.0</td>\n",
       "      <td>0.0</td>\n",
       "      <td>NaN</td>\n",
       "      <td>0.210</td>\n",
       "    </tr>\n",
       "    <tr>\n",
       "      <th>5</th>\n",
       "      <td>205</td>\n",
       "      <td>0.0</td>\n",
       "      <td>0.0</td>\n",
       "      <td>NaN</td>\n",
       "      <td>0.202</td>\n",
       "    </tr>\n",
       "    <tr>\n",
       "      <th>6</th>\n",
       "      <td>88</td>\n",
       "      <td>0.0</td>\n",
       "      <td>0.0</td>\n",
       "      <td>NaN</td>\n",
       "      <td>0.087</td>\n",
       "    </tr>\n",
       "    <tr>\n",
       "      <th>7</th>\n",
       "      <td>42</td>\n",
       "      <td>0.0</td>\n",
       "      <td>0.0</td>\n",
       "      <td>NaN</td>\n",
       "      <td>0.041</td>\n",
       "    </tr>\n",
       "    <tr>\n",
       "      <th>8</th>\n",
       "      <td>28</td>\n",
       "      <td>0.0</td>\n",
       "      <td>0.0</td>\n",
       "      <td>NaN</td>\n",
       "      <td>0.028</td>\n",
       "    </tr>\n",
       "    <tr>\n",
       "      <th>9</th>\n",
       "      <td>10</td>\n",
       "      <td>0.0</td>\n",
       "      <td>0.0</td>\n",
       "      <td>NaN</td>\n",
       "      <td>0.010</td>\n",
       "    </tr>\n",
       "    <tr>\n",
       "      <th>10</th>\n",
       "      <td>7</td>\n",
       "      <td>0.0</td>\n",
       "      <td>0.0</td>\n",
       "      <td>NaN</td>\n",
       "      <td>0.007</td>\n",
       "    </tr>\n",
       "    <tr>\n",
       "      <th>11</th>\n",
       "      <td>1</td>\n",
       "      <td>0.0</td>\n",
       "      <td>0.0</td>\n",
       "      <td>NaN</td>\n",
       "      <td>0.001</td>\n",
       "    </tr>\n",
       "    <tr>\n",
       "      <th>12</th>\n",
       "      <td>1</td>\n",
       "      <td>0.0</td>\n",
       "      <td>0.0</td>\n",
       "      <td>NaN</td>\n",
       "      <td>0.001</td>\n",
       "    </tr>\n",
       "    <tr>\n",
       "      <th>19</th>\n",
       "      <td>1</td>\n",
       "      <td>0.0</td>\n",
       "      <td>0.0</td>\n",
       "      <td>NaN</td>\n",
       "      <td>0.001</td>\n",
       "    </tr>\n",
       "    <tr>\n",
       "      <th>96</th>\n",
       "      <td>1</td>\n",
       "      <td>0.0</td>\n",
       "      <td>0.0</td>\n",
       "      <td>NaN</td>\n",
       "      <td>0.001</td>\n",
       "    </tr>\n",
       "  </tbody>\n",
       "</table>\n",
       "</div>"
      ],
      "text/plain": [
       "                                      label_cnt  label_sum  \\\n",
       "NumberOfTime30-59DaysPastDueNotWorse                         \n",
       "0                                         85190        0.0   \n",
       "1                                         10837        0.0   \n",
       "2                                          3168        0.0   \n",
       "3                                          1201        0.0   \n",
       "4                                           510        0.0   \n",
       "98                                          213        0.0   \n",
       "5                                           205        0.0   \n",
       "6                                            88        0.0   \n",
       "7                                            42        0.0   \n",
       "8                                            28        0.0   \n",
       "9                                            10        0.0   \n",
       "10                                            7        0.0   \n",
       "11                                            1        0.0   \n",
       "12                                            1        0.0   \n",
       "19                                            1        0.0   \n",
       "96                                            1        0.0   \n",
       "\n",
       "                                      % label by NumberOfTime30-59DaysPastDueNotWorse  \\\n",
       "NumberOfTime30-59DaysPastDueNotWorse                                                    \n",
       "0                                                                                 0.0   \n",
       "1                                                                                 0.0   \n",
       "2                                                                                 0.0   \n",
       "3                                                                                 0.0   \n",
       "4                                                                                 0.0   \n",
       "98                                                                                0.0   \n",
       "5                                                                                 0.0   \n",
       "6                                                                                 0.0   \n",
       "7                                                                                 0.0   \n",
       "8                                                                                 0.0   \n",
       "9                                                                                 0.0   \n",
       "10                                                                                0.0   \n",
       "11                                                                                0.0   \n",
       "12                                                                                0.0   \n",
       "19                                                                                0.0   \n",
       "96                                                                                0.0   \n",
       "\n",
       "                                      % label total  % population  \n",
       "NumberOfTime30-59DaysPastDueNotWorse                               \n",
       "0                                               NaN        83.929  \n",
       "1                                               NaN        10.677  \n",
       "2                                               NaN         3.121  \n",
       "3                                               NaN         1.183  \n",
       "4                                               NaN         0.502  \n",
       "98                                              NaN         0.210  \n",
       "5                                               NaN         0.202  \n",
       "6                                               NaN         0.087  \n",
       "7                                               NaN         0.041  \n",
       "8                                               NaN         0.028  \n",
       "9                                               NaN         0.010  \n",
       "10                                              NaN         0.007  \n",
       "11                                              NaN         0.001  \n",
       "12                                              NaN         0.001  \n",
       "19                                              NaN         0.001  \n",
       "96                                              NaN         0.001  "
      ]
     },
     "execution_count": 37,
     "metadata": {},
     "output_type": "execute_result"
    }
   ],
   "source": [
    "test_30_59_dpd_gpby = get_pct_target_by_feat(test, 'NumberOfTime30-59DaysPastDueNotWorse', 'SeriousDlqin2yrs')\n",
    "test_30_59_dpd_gpby.sort_values(['% population'], ascending=False, inplace=True)\n",
    "test_30_59_dpd_gpby"
   ]
  },
  {
   "cell_type": "markdown",
   "id": "59dddc76",
   "metadata": {},
   "source": [
    "Furthermore, we can see that there are 2 abnormal values in this dataset, which are 96 and 98. If we assume that a customer only has 1 loan, in order to accumulate 96 times of 30-59DPD, it would take 48 months(or 4 years). Checking with the \"NumberOfNumberOfTimes90DaysLate\" feature, again we see something strange: 100% of these customers (both in the training and test set) have the same number of times where they have 60-89DPD and 90 DPD. This is somewhat extreme, as a normal borrower can make delayed payments but will try to pay before the 90th day mark. \n",
    "\n",
    "These customers also have a very high rate of delinquent loans (as we can observe in the table above): 54% of customers with 98 times of 30-59DPD have a delinquent loan, and 80% of customers with 96 times of 30-59DPD have a delinquent loan."
   ]
  },
  {
   "cell_type": "code",
   "execution_count": 28,
   "id": "d68a7359",
   "metadata": {},
   "outputs": [
    {
     "name": "stdout",
     "output_type": "stream",
     "text": [
      "% of customers who has 30-59DPD and 60-89DPD in the training set that also has the same number of 90DPD: \n",
      "NumberOfTime30-59DaysPastDueNotWorse  NumberOfTime60-89DaysPastDueNotWorse  NumberOfTimes90DaysLate\n",
      "98                                    98                                    98                         264\n",
      "96                                    96                                    96                           5\n",
      "dtype: int64\n",
      "\n",
      "\n",
      "% of customers who has 30-59DPD and 60-89DPD in the testing set that also has the same number of 90DPD: \n",
      "NumberOfTime30-59DaysPastDueNotWorse  NumberOfTime60-89DaysPastDueNotWorse  NumberOfTimes90DaysLate\n",
      "98                                    98                                    98                         213\n",
      "96                                    96                                    96                           1\n",
      "dtype: int64\n"
     ]
    }
   ],
   "source": [
    "abnormal_30_59_dpd_train = train.loc[train['NumberOfTime30-59DaysPastDueNotWorse'].isin([96, 98])]\n",
    "abnormal_30_59_dpd_test = test.loc[test['NumberOfTime30-59DaysPastDueNotWorse'].isin([96, 98])]\n",
    "\n",
    "print(f\"% of customers who has 30-59DPD and 60-89DPD in the training set that also has the same number of 90DPD: \")\n",
    "print(abnormal_30_59_dpd_train.loc[abnormal_30_59_dpd_train['NumberOfTime30-59DaysPastDueNotWorse'] == abnormal_30_59_dpd_train['NumberOfTimes90DaysLate'], \n",
    "                             ['NumberOfTime30-59DaysPastDueNotWorse', 'NumberOfTime60-89DaysPastDueNotWorse', 'NumberOfTimes90DaysLate']].value_counts())\n",
    "print('\\n')\n",
    "print(f\"% of customers who has 30-59DPD and 60-89DPD in the testing set that also has the same number of 90DPD: \")\n",
    "print(abnormal_30_59_dpd_test.loc[abnormal_30_59_dpd_test['NumberOfTime30-59DaysPastDueNotWorse'] == abnormal_30_59_dpd_test['NumberOfTimes90DaysLate'], \n",
    "                             ['NumberOfTime30-59DaysPastDueNotWorse', 'NumberOfTime60-89DaysPastDueNotWorse', 'NumberOfTimes90DaysLate']].value_counts())"
   ]
  },
  {
   "cell_type": "markdown",
   "id": "427b4db3",
   "metadata": {},
   "source": [
    "While we are checking records with the same number of times across 3 columns of 30-59DPD, 60-89DPD, and 90DPD, we can also look at the rest of the values besides 96 and 98. Again, we see the same phenomenon: ~80% of our data (119,930/150,000) have the same value across all 3 columns (30-59DPD, 60-89DPD, 90DPD).\n",
    "\n",
    "Indeed, we can see that customers with 0 in all 3 columns have a very low rate of delinquency (~3%), while customers with non 0 in all 3 columns have a high rate of delinquency: 39% of customers with 1 time(s), 47% of customers with 2 time(s), and 100% of customers with 3 and 5 time(s). This confirms our assumption earlier that customers that either missing payments a lot of times or only missing payments a few times but these instances last a long time are very likely to have delinquent loans."
   ]
  },
  {
   "cell_type": "code",
   "execution_count": 5,
   "id": "581b18d6",
   "metadata": {},
   "outputs": [
    {
     "data": {
      "text/plain": [
       "(119930, 12)"
      ]
     },
     "execution_count": 5,
     "metadata": {},
     "output_type": "execute_result"
    }
   ],
   "source": [
    "train.loc[~train['NumberOfTime30-59DaysPastDueNotWorse'].isin([96, 98]) &\n",
    "          (train['NumberOfTime30-59DaysPastDueNotWorse'] == train['NumberOfTime60-89DaysPastDueNotWorse']) &\n",
    "          (train['NumberOfTimes90DaysLate'] == train['NumberOfTime60-89DaysPastDueNotWorse'])].shape"
   ]
  },
  {
   "cell_type": "code",
   "execution_count": 6,
   "id": "7984fde8",
   "metadata": {},
   "outputs": [
    {
     "data": {
      "text/plain": [
       "NumberOfTime30-59DaysPastDueNotWorse  NumberOfTime60-89DaysPastDueNotWorse  NumberOfTimes90DaysLate  SeriousDlqin2yrs\n",
       "0                                     0                                     0                        0                   116373\n",
       "                                                                                                     1                     3264\n",
       "1                                     1                                     1                        0                      156\n",
       "                                                                                                     1                      100\n",
       "2                                     2                                     2                        1                       16\n",
       "                                                                                                     0                       14\n",
       "3                                     3                                     3                        1                        5\n",
       "5                                     5                                     5                        1                        2\n",
       "dtype: int64"
      ]
     },
     "execution_count": 6,
     "metadata": {},
     "output_type": "execute_result"
    }
   ],
   "source": [
    "train.loc[~train['NumberOfTime30-59DaysPastDueNotWorse'].isin([96, 98]) &\n",
    "          (train['NumberOfTime30-59DaysPastDueNotWorse'] == train['NumberOfTime60-89DaysPastDueNotWorse']) &\n",
    "          (train['NumberOfTimes90DaysLate'] == train['NumberOfTime60-89DaysPastDueNotWorse']),\n",
    "          ['NumberOfTime30-59DaysPastDueNotWorse', 'NumberOfTime60-89DaysPastDueNotWorse', 'NumberOfTimes90DaysLate', 'SeriousDlqin2yrs']].value_counts()"
   ]
  },
  {
   "cell_type": "markdown",
   "id": "b26bd609-d58e-46d7-92f3-0dd31635c079",
   "metadata": {},
   "source": [
    "At the same time, we can also investigate customers with different individual values of the 3 groups of DPD. We can also check if there are any illogical values (number of times 90DPD > number of times 60-89DPD > numbers of times 30-59DPD). This is because a customer has to have a loan past 30-59DPD before that loan can reach 90DPD, which means the number of times 30-59DPD must always be greater than number of times 60-89DPD, and the number of times 60-89DPD must always be greater than the number of times 90DPD.\n",
    "\n",
    "Interestingly, we have discovered that there are in the training set :\n",
    "- 3,769 records that have the number of times 30-59DPD < number of times 60-89DPD\n",
    "- 4,997 records that have the number of times 30-59DPD < number of times 90DPD\n",
    "- 6,452 records that have the number of times 60-89DPD < number of times 90DPD\n",
    "\n",
    "We will try to correct these values before training our ML models. "
   ]
  },
  {
   "cell_type": "code",
   "execution_count": 18,
   "id": "24c591e5-f50c-4cdc-8bdd-814fa44cac54",
   "metadata": {
    "tags": []
   },
   "outputs": [
    {
     "data": {
      "text/plain": [
       "NumberOfTime30-59DaysPastDueNotWorse  NumberOfTime60-89DaysPastDueNotWorse\n",
       "0                                     1                                       2768\n",
       "                                      2                                        333\n",
       "1                                     2                                        306\n",
       "                                      3                                         85\n",
       "0                                     3                                         78\n",
       "2                                     3                                         62\n",
       "1                                     4                                         24\n",
       "2                                     4                                         22\n",
       "3                                     4                                         21\n",
       "0                                     4                                         17\n",
       "1                                     5                                         15\n",
       "0                                     7                                          5\n",
       "                                      5                                          5\n",
       "1                                     6                                          4\n",
       "0                                     6                                          4\n",
       "2                                     5                                          3\n",
       "                                      6                                          3\n",
       "3                                     5                                          3\n",
       "4                                     6                                          2\n",
       "3                                     7                                          2\n",
       "                                      9                                          1\n",
       "4                                     7                                          1\n",
       "1                                     7                                          1\n",
       "3                                     8                                          1\n",
       "                                      6                                          1\n",
       "0                                     11                                         1\n",
       "5                                     8                                          1\n",
       "dtype: int64"
      ]
     },
     "execution_count": 18,
     "metadata": {},
     "output_type": "execute_result"
    }
   ],
   "source": [
    "train.loc[(train['NumberOfTime30-59DaysPastDueNotWorse'] < train['NumberOfTime60-89DaysPastDueNotWorse']), \n",
    "          ['NumberOfTime30-59DaysPastDueNotWorse', 'NumberOfTime60-89DaysPastDueNotWorse']].value_counts()"
   ]
  },
  {
   "cell_type": "code",
   "execution_count": 19,
   "id": "d193feee-502d-4f3f-9f78-8186df3f8b3c",
   "metadata": {
    "tags": []
   },
   "outputs": [
    {
     "data": {
      "text/plain": [
       "NumberOfTime30-59DaysPastDueNotWorse  NumberOfTimes90DaysLate\n",
       "0                                     1                          2775\n",
       "                                      2                           708\n",
       "1                                     2                           383\n",
       "0                                     3                           257\n",
       "1                                     3                           195\n",
       "0                                     4                           113\n",
       "2                                     3                           108\n",
       "1                                     4                            99\n",
       "0                                     5                            57\n",
       "1                                     5                            40\n",
       "2                                     4                            36\n",
       "0                                     6                            33\n",
       "3                                     4                            20\n",
       "1                                     6                            19\n",
       "2                                     5                            15\n",
       "0                                     7                            15\n",
       "2                                     6                            14\n",
       "0                                     8                            10\n",
       "                                      9                             9\n",
       "3                                     6                             8\n",
       "1                                     7                             8\n",
       "3                                     5                             8\n",
       "1                                     9                             7\n",
       "2                                     7                             7\n",
       "1                                     8                             6\n",
       "0                                     10                            6\n",
       "4                                     7                             4\n",
       "0                                     11                            3\n",
       "2                                     8                             3\n",
       "3                                     7                             3\n",
       "5                                     6                             3\n",
       "1                                     15                            2\n",
       "4                                     6                             2\n",
       "                                      5                             2\n",
       "3                                     9                             2\n",
       "4                                     8                             1\n",
       "3                                     12                            1\n",
       "                                      13                            1\n",
       "                                      8                             1\n",
       "1                                     14                            1\n",
       "2                                     13                            1\n",
       "                                      11                            1\n",
       "                                      10                            1\n",
       "                                      9                             1\n",
       "1                                     13                            1\n",
       "                                      12                            1\n",
       "                                      11                            1\n",
       "                                      10                            1\n",
       "0                                     17                            1\n",
       "                                      14                            1\n",
       "                                      13                            1\n",
       "5                                     7                             1\n",
       "dtype: int64"
      ]
     },
     "execution_count": 19,
     "metadata": {},
     "output_type": "execute_result"
    }
   ],
   "source": [
    "train.loc[(train['NumberOfTime30-59DaysPastDueNotWorse'] < train['NumberOfTimes90DaysLate']), \n",
    "          ['NumberOfTime30-59DaysPastDueNotWorse', 'NumberOfTimes90DaysLate']].value_counts()"
   ]
  },
  {
   "cell_type": "code",
   "execution_count": 20,
   "id": "8875a748-3cee-45b8-9542-417e11e871b9",
   "metadata": {
    "tags": []
   },
   "outputs": [
    {
     "data": {
      "text/plain": [
       "NumberOfTime60-89DaysPastDueNotWorse  NumberOfTimes90DaysLate\n",
       "0                                     1                          3909\n",
       "                                      2                           944\n",
       "1                                     2                           389\n",
       "0                                     3                           383\n",
       "1                                     3                           172\n",
       "0                                     4                           151\n",
       "1                                     4                            89\n",
       "0                                     5                            68\n",
       "2                                     3                            64\n",
       "0                                     6                            37\n",
       "1                                     5                            35\n",
       "2                                     4                            31\n",
       "1                                     6                            23\n",
       "0                                     7                            17\n",
       "2                                     5                            17\n",
       "1                                     7                            14\n",
       "3                                     4                            12\n",
       "0                                     8                            12\n",
       "2                                     6                            11\n",
       "0                                     9                            10\n",
       "3                                     5                             6\n",
       "1                                     8                             6\n",
       "                                      9                             5\n",
       "0                                     10                            4\n",
       "3                                     6                             4\n",
       "2                                     7                             4\n",
       "4                                     6                             4\n",
       "0                                     11                            3\n",
       "                                      13                            3\n",
       "1                                     14                            2\n",
       "0                                     15                            2\n",
       "1                                     11                            2\n",
       "2                                     8                             2\n",
       "                                      9                             2\n",
       "                                      10                            2\n",
       "4                                     5                             2\n",
       "                                      9                             1\n",
       "6                                     7                             1\n",
       "4                                     8                             1\n",
       "5                                     12                            1\n",
       "1                                     10                            1\n",
       "3                                     10                            1\n",
       "                                      7                             1\n",
       "1                                     13                            1\n",
       "0                                     17                            1\n",
       "                                      12                            1\n",
       "7                                     9                             1\n",
       "dtype: int64"
      ]
     },
     "execution_count": 20,
     "metadata": {},
     "output_type": "execute_result"
    }
   ],
   "source": [
    "train.loc[(train['NumberOfTime60-89DaysPastDueNotWorse'] < train['NumberOfTimes90DaysLate']), \n",
    "          ['NumberOfTime60-89DaysPastDueNotWorse', 'NumberOfTimes90DaysLate']].value_counts()"
   ]
  },
  {
   "cell_type": "markdown",
   "id": "d38feef3",
   "metadata": {},
   "source": [
    "We can also use the 2 types of t-test (Independent and Weltch) to test the hypothesis that the training set and testing set have different means. The tests confirm that the 2 sets do not have different means."
   ]
  },
  {
   "cell_type": "code",
   "execution_count": 21,
   "id": "ed3fde11",
   "metadata": {},
   "outputs": [
    {
     "name": "stdout",
     "output_type": "stream",
     "text": [
      "Independent sample t-test: pvalue 0.06320135256958599\n",
      "Welch's two sample t-test: pvalue 0.06730079206153378\n"
     ]
    }
   ],
   "source": [
    "t_test(train, test, 'NumberOfTime30-59DaysPastDueNotWorse')"
   ]
  },
  {
   "cell_type": "markdown",
   "id": "6c255420",
   "metadata": {},
   "source": [
    "Finally, we will check the Pearson correlation between \"NumberOfTime30-59DaysPastDueNotWorse\" and our target, and we can see that there is indeed a positive correlation."
   ]
  },
  {
   "cell_type": "code",
   "execution_count": 39,
   "id": "5d207db8",
   "metadata": {},
   "outputs": [
    {
     "data": {
      "text/html": [
       "<div>\n",
       "<style scoped>\n",
       "    .dataframe tbody tr th:only-of-type {\n",
       "        vertical-align: middle;\n",
       "    }\n",
       "\n",
       "    .dataframe tbody tr th {\n",
       "        vertical-align: top;\n",
       "    }\n",
       "\n",
       "    .dataframe thead th {\n",
       "        text-align: right;\n",
       "    }\n",
       "</style>\n",
       "<table border=\"1\" class=\"dataframe\">\n",
       "  <thead>\n",
       "    <tr style=\"text-align: right;\">\n",
       "      <th></th>\n",
       "      <th>NumberOfTime30-59DaysPastDueNotWorse</th>\n",
       "      <th>SeriousDlqin2yrs</th>\n",
       "    </tr>\n",
       "  </thead>\n",
       "  <tbody>\n",
       "    <tr>\n",
       "      <th>NumberOfTime30-59DaysPastDueNotWorse</th>\n",
       "      <td>1.000000</td>\n",
       "      <td>0.125587</td>\n",
       "    </tr>\n",
       "    <tr>\n",
       "      <th>SeriousDlqin2yrs</th>\n",
       "      <td>0.125587</td>\n",
       "      <td>1.000000</td>\n",
       "    </tr>\n",
       "  </tbody>\n",
       "</table>\n",
       "</div>"
      ],
      "text/plain": [
       "                                      NumberOfTime30-59DaysPastDueNotWorse  \\\n",
       "NumberOfTime30-59DaysPastDueNotWorse                              1.000000   \n",
       "SeriousDlqin2yrs                                                  0.125587   \n",
       "\n",
       "                                      SeriousDlqin2yrs  \n",
       "NumberOfTime30-59DaysPastDueNotWorse          0.125587  \n",
       "SeriousDlqin2yrs                              1.000000  "
      ]
     },
     "execution_count": 39,
     "metadata": {},
     "output_type": "execute_result"
    }
   ],
   "source": [
    "train[['NumberOfTime30-59DaysPastDueNotWorse', 'SeriousDlqin2yrs']].corr()"
   ]
  },
  {
   "cell_type": "markdown",
   "id": "e40eb873",
   "metadata": {},
   "source": [
    "### Key takeaways \n",
    "- We can conclude the analysis of \"NumberOfTime30-59DaysPastDueNotWorse\" with the notion that the more times a customer has missed payments with 30-59DPD, the higher chance the loan will become delinquent."
   ]
  },
  {
   "cell_type": "markdown",
   "id": "56cc400c",
   "metadata": {},
   "source": [
    "# NumberOfTime60-89DaysPastDueNotWorse"
   ]
  },
  {
   "cell_type": "markdown",
   "id": "5eafdcf4",
   "metadata": {},
   "source": [
    "NumberOfTime60-89DaysPastDueNotWorse is defined as the number of times borrower has been 60-89 days past due but no worse in the last 2 years"
   ]
  },
  {
   "cell_type": "code",
   "execution_count": 8,
   "id": "e0d48c88",
   "metadata": {},
   "outputs": [
    {
     "data": {
      "text/plain": [
       "count    150000.000000\n",
       "mean          0.240387\n",
       "std           4.155179\n",
       "min           0.000000\n",
       "25%           0.000000\n",
       "50%           0.000000\n",
       "75%           0.000000\n",
       "90%           0.000000\n",
       "max          98.000000\n",
       "Name: NumberOfTime60-89DaysPastDueNotWorse, dtype: float64"
      ]
     },
     "execution_count": 8,
     "metadata": {},
     "output_type": "execute_result"
    }
   ],
   "source": [
    "train['NumberOfTime60-89DaysPastDueNotWorse'].describe(percentiles=[.25, .5, .75, .9])"
   ]
  },
  {
   "cell_type": "code",
   "execution_count": 9,
   "id": "388256f9",
   "metadata": {},
   "outputs": [
    {
     "data": {
      "text/plain": [
       "count    101503.000000\n",
       "mean          0.270317\n",
       "std           4.503578\n",
       "min           0.000000\n",
       "25%           0.000000\n",
       "50%           0.000000\n",
       "75%           0.000000\n",
       "90%           0.000000\n",
       "max          98.000000\n",
       "Name: NumberOfTime60-89DaysPastDueNotWorse, dtype: float64"
      ]
     },
     "execution_count": 9,
     "metadata": {},
     "output_type": "execute_result"
    }
   ],
   "source": [
    "test['NumberOfTime60-89DaysPastDueNotWorse'].describe(percentiles=[.25, .5, .75, .9])"
   ]
  },
  {
   "cell_type": "code",
   "execution_count": 8,
   "id": "4d2a9100-7805-4fad-983c-9f7c6e846725",
   "metadata": {
    "tags": []
   },
   "outputs": [
    {
     "data": {
      "text/html": [
       "<div>\n",
       "<style scoped>\n",
       "    .dataframe tbody tr th:only-of-type {\n",
       "        vertical-align: middle;\n",
       "    }\n",
       "\n",
       "    .dataframe tbody tr th {\n",
       "        vertical-align: top;\n",
       "    }\n",
       "\n",
       "    .dataframe thead th {\n",
       "        text-align: right;\n",
       "    }\n",
       "</style>\n",
       "<table border=\"1\" class=\"dataframe\">\n",
       "  <thead>\n",
       "    <tr style=\"text-align: right;\">\n",
       "      <th></th>\n",
       "      <th>label_cnt</th>\n",
       "      <th>label_sum</th>\n",
       "      <th>% label by NumberOfTime60-89DaysPastDueNotWorse</th>\n",
       "      <th>% label total</th>\n",
       "      <th>% population</th>\n",
       "    </tr>\n",
       "    <tr>\n",
       "      <th>NumberOfTime60-89DaysPastDueNotWorse</th>\n",
       "      <th></th>\n",
       "      <th></th>\n",
       "      <th></th>\n",
       "      <th></th>\n",
       "      <th></th>\n",
       "    </tr>\n",
       "  </thead>\n",
       "  <tbody>\n",
       "    <tr>\n",
       "      <th>0</th>\n",
       "      <td>142396</td>\n",
       "      <td>7256</td>\n",
       "      <td>5.096</td>\n",
       "      <td>72.372</td>\n",
       "      <td>94.931</td>\n",
       "    </tr>\n",
       "    <tr>\n",
       "      <th>1</th>\n",
       "      <td>5731</td>\n",
       "      <td>1777</td>\n",
       "      <td>31.007</td>\n",
       "      <td>17.724</td>\n",
       "      <td>3.821</td>\n",
       "    </tr>\n",
       "    <tr>\n",
       "      <th>2</th>\n",
       "      <td>1118</td>\n",
       "      <td>561</td>\n",
       "      <td>50.179</td>\n",
       "      <td>5.595</td>\n",
       "      <td>0.745</td>\n",
       "    </tr>\n",
       "    <tr>\n",
       "      <th>3</th>\n",
       "      <td>318</td>\n",
       "      <td>180</td>\n",
       "      <td>56.604</td>\n",
       "      <td>1.795</td>\n",
       "      <td>0.212</td>\n",
       "    </tr>\n",
       "    <tr>\n",
       "      <th>98</th>\n",
       "      <td>264</td>\n",
       "      <td>143</td>\n",
       "      <td>54.167</td>\n",
       "      <td>1.426</td>\n",
       "      <td>0.176</td>\n",
       "    </tr>\n",
       "    <tr>\n",
       "      <th>4</th>\n",
       "      <td>105</td>\n",
       "      <td>65</td>\n",
       "      <td>61.905</td>\n",
       "      <td>0.648</td>\n",
       "      <td>0.070</td>\n",
       "    </tr>\n",
       "    <tr>\n",
       "      <th>5</th>\n",
       "      <td>34</td>\n",
       "      <td>21</td>\n",
       "      <td>61.765</td>\n",
       "      <td>0.209</td>\n",
       "      <td>0.023</td>\n",
       "    </tr>\n",
       "    <tr>\n",
       "      <th>6</th>\n",
       "      <td>16</td>\n",
       "      <td>12</td>\n",
       "      <td>75.000</td>\n",
       "      <td>0.120</td>\n",
       "      <td>0.011</td>\n",
       "    </tr>\n",
       "    <tr>\n",
       "      <th>7</th>\n",
       "      <td>9</td>\n",
       "      <td>5</td>\n",
       "      <td>55.556</td>\n",
       "      <td>0.050</td>\n",
       "      <td>0.006</td>\n",
       "    </tr>\n",
       "    <tr>\n",
       "      <th>96</th>\n",
       "      <td>5</td>\n",
       "      <td>4</td>\n",
       "      <td>80.000</td>\n",
       "      <td>0.040</td>\n",
       "      <td>0.003</td>\n",
       "    </tr>\n",
       "    <tr>\n",
       "      <th>11</th>\n",
       "      <td>1</td>\n",
       "      <td>1</td>\n",
       "      <td>100.000</td>\n",
       "      <td>0.010</td>\n",
       "      <td>0.001</td>\n",
       "    </tr>\n",
       "    <tr>\n",
       "      <th>8</th>\n",
       "      <td>2</td>\n",
       "      <td>1</td>\n",
       "      <td>50.000</td>\n",
       "      <td>0.010</td>\n",
       "      <td>0.001</td>\n",
       "    </tr>\n",
       "    <tr>\n",
       "      <th>9</th>\n",
       "      <td>1</td>\n",
       "      <td>0</td>\n",
       "      <td>0.000</td>\n",
       "      <td>0.000</td>\n",
       "      <td>0.001</td>\n",
       "    </tr>\n",
       "  </tbody>\n",
       "</table>\n",
       "</div>"
      ],
      "text/plain": [
       "                                      label_cnt  label_sum  \\\n",
       "NumberOfTime60-89DaysPastDueNotWorse                         \n",
       "0                                        142396       7256   \n",
       "1                                          5731       1777   \n",
       "2                                          1118        561   \n",
       "3                                           318        180   \n",
       "98                                          264        143   \n",
       "4                                           105         65   \n",
       "5                                            34         21   \n",
       "6                                            16         12   \n",
       "7                                             9          5   \n",
       "96                                            5          4   \n",
       "11                                            1          1   \n",
       "8                                             2          1   \n",
       "9                                             1          0   \n",
       "\n",
       "                                      % label by NumberOfTime60-89DaysPastDueNotWorse  \\\n",
       "NumberOfTime60-89DaysPastDueNotWorse                                                    \n",
       "0                                                                               5.096   \n",
       "1                                                                              31.007   \n",
       "2                                                                              50.179   \n",
       "3                                                                              56.604   \n",
       "98                                                                             54.167   \n",
       "4                                                                              61.905   \n",
       "5                                                                              61.765   \n",
       "6                                                                              75.000   \n",
       "7                                                                              55.556   \n",
       "96                                                                             80.000   \n",
       "11                                                                            100.000   \n",
       "8                                                                              50.000   \n",
       "9                                                                               0.000   \n",
       "\n",
       "                                      % label total  % population  \n",
       "NumberOfTime60-89DaysPastDueNotWorse                               \n",
       "0                                            72.372        94.931  \n",
       "1                                            17.724         3.821  \n",
       "2                                             5.595         0.745  \n",
       "3                                             1.795         0.212  \n",
       "98                                            1.426         0.176  \n",
       "4                                             0.648         0.070  \n",
       "5                                             0.209         0.023  \n",
       "6                                             0.120         0.011  \n",
       "7                                             0.050         0.006  \n",
       "96                                            0.040         0.003  \n",
       "11                                            0.010         0.001  \n",
       "8                                             0.010         0.001  \n",
       "9                                             0.000         0.001  "
      ]
     },
     "execution_count": 8,
     "metadata": {},
     "output_type": "execute_result"
    }
   ],
   "source": [
    "train_60_89_dpd_gpby = get_pct_target_by_feat(train, 'NumberOfTime60-89DaysPastDueNotWorse', 'SeriousDlqin2yrs')\n",
    "train_60_89_dpd_gpby.sort_values(['% population'], ascending=False, inplace=True)\n",
    "train_60_89_dpd_gpby"
   ]
  },
  {
   "cell_type": "markdown",
   "id": "2600cd3a",
   "metadata": {},
   "source": [
    "Finally, we will check the Pearson correlation between \"NumberOfTime60-89DaysPastDueNotWorse\" and our target, and we can see that there is a small negative correlation. This is reflected in our analysis, where the distribution of deliquency focuses around the peaks of DebtRatio, which is mostly on lower values."
   ]
  },
  {
   "cell_type": "code",
   "execution_count": 78,
   "id": "34edcc38",
   "metadata": {
    "tags": []
   },
   "outputs": [
    {
     "data": {
      "text/html": [
       "<div>\n",
       "<style scoped>\n",
       "    .dataframe tbody tr th:only-of-type {\n",
       "        vertical-align: middle;\n",
       "    }\n",
       "\n",
       "    .dataframe tbody tr th {\n",
       "        vertical-align: top;\n",
       "    }\n",
       "\n",
       "    .dataframe thead th {\n",
       "        text-align: right;\n",
       "    }\n",
       "</style>\n",
       "<table border=\"1\" class=\"dataframe\">\n",
       "  <thead>\n",
       "    <tr style=\"text-align: right;\">\n",
       "      <th></th>\n",
       "      <th>NumberOfTime60-89DaysPastDueNotWorse</th>\n",
       "      <th>SeriousDlqin2yrs</th>\n",
       "    </tr>\n",
       "  </thead>\n",
       "  <tbody>\n",
       "    <tr>\n",
       "      <th>NumberOfTime60-89DaysPastDueNotWorse</th>\n",
       "      <td>1.000000</td>\n",
       "      <td>0.102261</td>\n",
       "    </tr>\n",
       "    <tr>\n",
       "      <th>SeriousDlqin2yrs</th>\n",
       "      <td>0.102261</td>\n",
       "      <td>1.000000</td>\n",
       "    </tr>\n",
       "  </tbody>\n",
       "</table>\n",
       "</div>"
      ],
      "text/plain": [
       "                                      NumberOfTime60-89DaysPastDueNotWorse  \\\n",
       "NumberOfTime60-89DaysPastDueNotWorse                              1.000000   \n",
       "SeriousDlqin2yrs                                                  0.102261   \n",
       "\n",
       "                                      SeriousDlqin2yrs  \n",
       "NumberOfTime60-89DaysPastDueNotWorse          0.102261  \n",
       "SeriousDlqin2yrs                              1.000000  "
      ]
     },
     "execution_count": 78,
     "metadata": {},
     "output_type": "execute_result"
    }
   ],
   "source": [
    "train[['NumberOfTime60-89DaysPastDueNotWorse', 'SeriousDlqin2yrs']].corr()"
   ]
  },
  {
   "cell_type": "markdown",
   "id": "a17ee7f1",
   "metadata": {},
   "source": [
    "### Key takeaways \n",
    "- We can conclude the analysis of \"NumberOfTime30-59DaysPastDueNotWorse\" with the notion that the more times a customer has missed payments with 30-59DPD, the higher chance the loan will become delinquent."
   ]
  },
  {
   "cell_type": "markdown",
   "id": "b789ed24-352e-413d-a8cb-c11f3fd9ac4c",
   "metadata": {},
   "source": [
    "# NumberOfTimes90DaysLate"
   ]
  },
  {
   "cell_type": "markdown",
   "id": "5fc1fa02",
   "metadata": {},
   "source": [
    "NumberOfTimes90DaysLate is defined as Number of times borrower has been 90 days or more past due. 90DPD is in the territory of a loan turning bad, but it is not yet delinquent. However, we can infer that if the customer has a loan with more than 90DPD, he will be more likely to default on that loan."
   ]
  },
  {
   "cell_type": "code",
   "execution_count": 53,
   "id": "83968ff6",
   "metadata": {},
   "outputs": [
    {
     "data": {
      "text/plain": [
       "count    150000.000000\n",
       "mean          0.265973\n",
       "std           4.169304\n",
       "min           0.000000\n",
       "25%           0.000000\n",
       "50%           0.000000\n",
       "75%           0.000000\n",
       "90%           0.000000\n",
       "max          98.000000\n",
       "Name: NumberOfTimes90DaysLate, dtype: float64"
      ]
     },
     "execution_count": 53,
     "metadata": {},
     "output_type": "execute_result"
    }
   ],
   "source": [
    "train.NumberOfTimes90DaysLate.describe(percentiles=[.25, .5, .75, .9])"
   ]
  },
  {
   "cell_type": "code",
   "execution_count": 54,
   "id": "0ba2e287",
   "metadata": {},
   "outputs": [
    {
     "data": {
      "text/plain": [
       "count    101503.000000\n",
       "mean          0.296691\n",
       "std           4.515859\n",
       "min           0.000000\n",
       "25%           0.000000\n",
       "50%           0.000000\n",
       "75%           0.000000\n",
       "90%           0.000000\n",
       "max          98.000000\n",
       "Name: NumberOfTimes90DaysLate, dtype: float64"
      ]
     },
     "execution_count": 54,
     "metadata": {},
     "output_type": "execute_result"
    }
   ],
   "source": [
    "test.NumberOfTimes90DaysLate.describe(percentiles=[.25, .5, .75, .9])"
   ]
  },
  {
   "cell_type": "code",
   "execution_count": 14,
   "id": "5d37a315",
   "metadata": {
    "scrolled": true
   },
   "outputs": [
    {
     "data": {
      "text/html": [
       "<div>\n",
       "<style scoped>\n",
       "    .dataframe tbody tr th:only-of-type {\n",
       "        vertical-align: middle;\n",
       "    }\n",
       "\n",
       "    .dataframe tbody tr th {\n",
       "        vertical-align: top;\n",
       "    }\n",
       "\n",
       "    .dataframe thead th {\n",
       "        text-align: right;\n",
       "    }\n",
       "</style>\n",
       "<table border=\"1\" class=\"dataframe\">\n",
       "  <thead>\n",
       "    <tr style=\"text-align: right;\">\n",
       "      <th></th>\n",
       "      <th>label_cnt</th>\n",
       "      <th>label_sum</th>\n",
       "      <th>% label by NumberOfTimes90DaysLate</th>\n",
       "      <th>% label total</th>\n",
       "      <th>% population</th>\n",
       "    </tr>\n",
       "    <tr>\n",
       "      <th>NumberOfTimes90DaysLate</th>\n",
       "      <th></th>\n",
       "      <th></th>\n",
       "      <th></th>\n",
       "      <th></th>\n",
       "      <th></th>\n",
       "    </tr>\n",
       "  </thead>\n",
       "  <tbody>\n",
       "    <tr>\n",
       "      <th>0</th>\n",
       "      <td>141662</td>\n",
       "      <td>6554</td>\n",
       "      <td>4.627</td>\n",
       "      <td>65.370</td>\n",
       "      <td>94.441</td>\n",
       "    </tr>\n",
       "    <tr>\n",
       "      <th>1</th>\n",
       "      <td>5243</td>\n",
       "      <td>1765</td>\n",
       "      <td>33.664</td>\n",
       "      <td>17.604</td>\n",
       "      <td>3.495</td>\n",
       "    </tr>\n",
       "    <tr>\n",
       "      <th>2</th>\n",
       "      <td>1555</td>\n",
       "      <td>776</td>\n",
       "      <td>49.904</td>\n",
       "      <td>7.740</td>\n",
       "      <td>1.037</td>\n",
       "    </tr>\n",
       "    <tr>\n",
       "      <th>3</th>\n",
       "      <td>667</td>\n",
       "      <td>385</td>\n",
       "      <td>57.721</td>\n",
       "      <td>3.840</td>\n",
       "      <td>0.445</td>\n",
       "    </tr>\n",
       "    <tr>\n",
       "      <th>4</th>\n",
       "      <td>291</td>\n",
       "      <td>195</td>\n",
       "      <td>67.010</td>\n",
       "      <td>1.945</td>\n",
       "      <td>0.194</td>\n",
       "    </tr>\n",
       "    <tr>\n",
       "      <th>98</th>\n",
       "      <td>264</td>\n",
       "      <td>143</td>\n",
       "      <td>54.167</td>\n",
       "      <td>1.426</td>\n",
       "      <td>0.176</td>\n",
       "    </tr>\n",
       "    <tr>\n",
       "      <th>5</th>\n",
       "      <td>131</td>\n",
       "      <td>83</td>\n",
       "      <td>63.359</td>\n",
       "      <td>0.828</td>\n",
       "      <td>0.087</td>\n",
       "    </tr>\n",
       "    <tr>\n",
       "      <th>6</th>\n",
       "      <td>80</td>\n",
       "      <td>48</td>\n",
       "      <td>60.000</td>\n",
       "      <td>0.479</td>\n",
       "      <td>0.053</td>\n",
       "    </tr>\n",
       "    <tr>\n",
       "      <th>7</th>\n",
       "      <td>38</td>\n",
       "      <td>31</td>\n",
       "      <td>81.579</td>\n",
       "      <td>0.309</td>\n",
       "      <td>0.025</td>\n",
       "    </tr>\n",
       "    <tr>\n",
       "      <th>8</th>\n",
       "      <td>21</td>\n",
       "      <td>15</td>\n",
       "      <td>71.429</td>\n",
       "      <td>0.150</td>\n",
       "      <td>0.014</td>\n",
       "    </tr>\n",
       "    <tr>\n",
       "      <th>9</th>\n",
       "      <td>19</td>\n",
       "      <td>14</td>\n",
       "      <td>73.684</td>\n",
       "      <td>0.140</td>\n",
       "      <td>0.013</td>\n",
       "    </tr>\n",
       "    <tr>\n",
       "      <th>10</th>\n",
       "      <td>8</td>\n",
       "      <td>5</td>\n",
       "      <td>62.500</td>\n",
       "      <td>0.050</td>\n",
       "      <td>0.005</td>\n",
       "    </tr>\n",
       "    <tr>\n",
       "      <th>96</th>\n",
       "      <td>5</td>\n",
       "      <td>4</td>\n",
       "      <td>80.000</td>\n",
       "      <td>0.040</td>\n",
       "      <td>0.003</td>\n",
       "    </tr>\n",
       "    <tr>\n",
       "      <th>11</th>\n",
       "      <td>5</td>\n",
       "      <td>3</td>\n",
       "      <td>60.000</td>\n",
       "      <td>0.030</td>\n",
       "      <td>0.003</td>\n",
       "    </tr>\n",
       "    <tr>\n",
       "      <th>13</th>\n",
       "      <td>4</td>\n",
       "      <td>2</td>\n",
       "      <td>50.000</td>\n",
       "      <td>0.020</td>\n",
       "      <td>0.003</td>\n",
       "    </tr>\n",
       "    <tr>\n",
       "      <th>17</th>\n",
       "      <td>1</td>\n",
       "      <td>1</td>\n",
       "      <td>100.000</td>\n",
       "      <td>0.010</td>\n",
       "      <td>0.001</td>\n",
       "    </tr>\n",
       "    <tr>\n",
       "      <th>14</th>\n",
       "      <td>2</td>\n",
       "      <td>1</td>\n",
       "      <td>50.000</td>\n",
       "      <td>0.010</td>\n",
       "      <td>0.001</td>\n",
       "    </tr>\n",
       "    <tr>\n",
       "      <th>12</th>\n",
       "      <td>2</td>\n",
       "      <td>1</td>\n",
       "      <td>50.000</td>\n",
       "      <td>0.010</td>\n",
       "      <td>0.001</td>\n",
       "    </tr>\n",
       "    <tr>\n",
       "      <th>15</th>\n",
       "      <td>2</td>\n",
       "      <td>0</td>\n",
       "      <td>0.000</td>\n",
       "      <td>0.000</td>\n",
       "      <td>0.001</td>\n",
       "    </tr>\n",
       "  </tbody>\n",
       "</table>\n",
       "</div>"
      ],
      "text/plain": [
       "                         label_cnt  label_sum  \\\n",
       "NumberOfTimes90DaysLate                         \n",
       "0                           141662       6554   \n",
       "1                             5243       1765   \n",
       "2                             1555        776   \n",
       "3                              667        385   \n",
       "4                              291        195   \n",
       "98                             264        143   \n",
       "5                              131         83   \n",
       "6                               80         48   \n",
       "7                               38         31   \n",
       "8                               21         15   \n",
       "9                               19         14   \n",
       "10                               8          5   \n",
       "96                               5          4   \n",
       "11                               5          3   \n",
       "13                               4          2   \n",
       "17                               1          1   \n",
       "14                               2          1   \n",
       "12                               2          1   \n",
       "15                               2          0   \n",
       "\n",
       "                         % label by NumberOfTimes90DaysLate  % label total  \\\n",
       "NumberOfTimes90DaysLate                                                      \n",
       "0                                                     4.627         65.370   \n",
       "1                                                    33.664         17.604   \n",
       "2                                                    49.904          7.740   \n",
       "3                                                    57.721          3.840   \n",
       "4                                                    67.010          1.945   \n",
       "98                                                   54.167          1.426   \n",
       "5                                                    63.359          0.828   \n",
       "6                                                    60.000          0.479   \n",
       "7                                                    81.579          0.309   \n",
       "8                                                    71.429          0.150   \n",
       "9                                                    73.684          0.140   \n",
       "10                                                   62.500          0.050   \n",
       "96                                                   80.000          0.040   \n",
       "11                                                   60.000          0.030   \n",
       "13                                                   50.000          0.020   \n",
       "17                                                  100.000          0.010   \n",
       "14                                                   50.000          0.010   \n",
       "12                                                   50.000          0.010   \n",
       "15                                                    0.000          0.000   \n",
       "\n",
       "                         % population  \n",
       "NumberOfTimes90DaysLate                \n",
       "0                              94.441  \n",
       "1                               3.495  \n",
       "2                               1.037  \n",
       "3                               0.445  \n",
       "4                               0.194  \n",
       "98                              0.176  \n",
       "5                               0.087  \n",
       "6                               0.053  \n",
       "7                               0.025  \n",
       "8                               0.014  \n",
       "9                               0.013  \n",
       "10                              0.005  \n",
       "96                              0.003  \n",
       "11                              0.003  \n",
       "13                              0.003  \n",
       "17                              0.001  \n",
       "14                              0.001  \n",
       "12                              0.001  \n",
       "15                              0.001  "
      ]
     },
     "execution_count": 14,
     "metadata": {},
     "output_type": "execute_result"
    }
   ],
   "source": [
    "train_90_dpd_gpby = get_pct_target_by_feat(train, 'NumberOfTimes90DaysLate', 'SeriousDlqin2yrs')\n",
    "train_90_dpd_gpby.sort_values(['% population'], ascending=False, inplace=True)\n",
    "train_90_dpd_gpby"
   ]
  },
  {
   "cell_type": "markdown",
   "id": "f8a9c444",
   "metadata": {},
   "source": [
    "We can also use the 2 types of t-test (Independent and Weltch) to test the hypothesis that the training set and testing set have different means. The tests confirm that the 2 sets do not have different means."
   ]
  },
  {
   "cell_type": "code",
   "execution_count": 12,
   "id": "b3ac9ad6",
   "metadata": {},
   "outputs": [
    {
     "name": "stdout",
     "output_type": "stream",
     "text": [
      "Independent sample t-test: pvalue 0.07968302411774465\n",
      "Welch's two sample t-test: pvalue 0.08438257563750323\n"
     ]
    }
   ],
   "source": [
    "t_test(train, test, 'NumberOfTimes90DaysLate')"
   ]
  },
  {
   "cell_type": "markdown",
   "id": "6cffb3ea",
   "metadata": {},
   "source": [
    "Finally, we will check the Pearson correlation between \"NumberOfTimes90DaysLate\" and our target, and we can see that there is a positive correlation."
   ]
  },
  {
   "cell_type": "code",
   "execution_count": 80,
   "id": "3ee52ca2",
   "metadata": {
    "tags": []
   },
   "outputs": [
    {
     "data": {
      "text/html": [
       "<div>\n",
       "<style scoped>\n",
       "    .dataframe tbody tr th:only-of-type {\n",
       "        vertical-align: middle;\n",
       "    }\n",
       "\n",
       "    .dataframe tbody tr th {\n",
       "        vertical-align: top;\n",
       "    }\n",
       "\n",
       "    .dataframe thead th {\n",
       "        text-align: right;\n",
       "    }\n",
       "</style>\n",
       "<table border=\"1\" class=\"dataframe\">\n",
       "  <thead>\n",
       "    <tr style=\"text-align: right;\">\n",
       "      <th></th>\n",
       "      <th>NumberOfTimes90DaysLate</th>\n",
       "      <th>SeriousDlqin2yrs</th>\n",
       "    </tr>\n",
       "  </thead>\n",
       "  <tbody>\n",
       "    <tr>\n",
       "      <th>NumberOfTimes90DaysLate</th>\n",
       "      <td>1.000000</td>\n",
       "      <td>0.117175</td>\n",
       "    </tr>\n",
       "    <tr>\n",
       "      <th>SeriousDlqin2yrs</th>\n",
       "      <td>0.117175</td>\n",
       "      <td>1.000000</td>\n",
       "    </tr>\n",
       "  </tbody>\n",
       "</table>\n",
       "</div>"
      ],
      "text/plain": [
       "                         NumberOfTimes90DaysLate  SeriousDlqin2yrs\n",
       "NumberOfTimes90DaysLate                 1.000000          0.117175\n",
       "SeriousDlqin2yrs                        0.117175          1.000000"
      ]
     },
     "execution_count": 80,
     "metadata": {},
     "output_type": "execute_result"
    }
   ],
   "source": [
    "train[['NumberOfTimes90DaysLate', 'SeriousDlqin2yrs']].corr()"
   ]
  },
  {
   "cell_type": "markdown",
   "id": "d840ddb8",
   "metadata": {},
   "source": [
    "### Key takeaways \n",
    "- We can conclude the analysis of \"NumberOfTimes90DaysLate\" with the notion that the more times a customer has missed payments with 90DPD, the higher chance the loan will become delinquent."
   ]
  },
  {
   "cell_type": "markdown",
   "id": "d2560731-f2a8-4f2d-9cac-8bdc8daa0a99",
   "metadata": {},
   "source": [
    "# Summary"
   ]
  },
  {
   "cell_type": "markdown",
   "id": "4c7cce6e-cc29-439f-a7bf-5a2538e82767",
   "metadata": {
    "jp-MarkdownHeadingCollapsed": true,
    "tags": []
   },
   "source": [
    "Below is a summary of all the features that we have perform EDA\n",
    "1. SeriousDlqin2yrs:\n",
    "- Imbalanced dataset (ratio NoDelinquen:Delinquentin2yrs: 1:13)\n",
    "2. RevolvingUtilizationOfUnsecuredLines: \n",
    "- People with lower utilization rate has a lower probability of delinquency compared to people with a higher utilization rate\n",
    "- Data distribution is skewed to the right, with 2% of the training set have a utilization rate of >= 100%\n",
    "3. Age: \n",
    "- Younger people have a higher probability of delinquency compared to older people\n",
    "- A small subset of our data have customers with over 100 years old\n",
    "4. DebtRatio:\n",
    "- The lower debt ratio a customer has, the higher chance the loan will become deliquent\n",
    "- Data distribution is skewed to the right, with 23% of the training set have a debt ratio of >= 100%\n",
    "5. MonthlyIncome: \n",
    "- There are missing MonthlyIncome in both the training set (...%) and the testing set (...%)\n",
    "- Customers with missing MonthlyIncome is older and have a significantly higher debt ratio compared to the rest of our dataset\n",
    "- Customers with a higher income have a lower probability of delinquency compared to people with a lower income\n",
    "6. NumberOfOpenCreditLinesAndLoans: \n",
    "- Customers with a lower number of credit lines and loans have a higher probability of delinquency\n",
    "7. NumberRealEstateLoansOrLines: \n",
    "- Customers with a lower number of real estate loans or credit lines have a higher probability of delinquency (due to the high \n",
    "- The distribution of real estate loans have lower values (90% of the dataset have less than or equal to 2 loans) compared to open credit lines and loans\n",
    "8. NumberOfDependents: \n",
    "- Customers with a higher number of dependents have a higher probability of delinquency\n",
    "9. NumberOfTime30-59DaysPastDueNotWorse + NumberOfTime60-89DaysPastDueNotWorse + NumberOfTimes90DaysLate:\n",
    "- The more times a customer has missed payments with 30-59DPD, the higher chance the loan will become delinquent\n",
    "- The data has 2 outlier values 96 and 98, which are far away from the 3rd highest value (12). These outliers were not chosen at random as they have a high correlation with the target (54% of customers with 98 times of 30-59DPD have a delinquent loan, and 80% of customers with 96 times of 30-59DPD have a delinquent loan)\n",
    "- 80% of the dataset has the same value across all 3 columns\n",
    "- 10% of the dataset has illogical values across all 3 columns (30-59DPD < 60-89DPD, 60-89DPD < 90DPD, 30-59DPD < 90DPD)"
   ]
  },
  {
   "cell_type": "code",
   "execution_count": null,
   "id": "6fb3b96e-76cd-4422-8973-15a50e0586f1",
   "metadata": {},
   "outputs": [],
   "source": []
  }
 ],
 "metadata": {
  "kernelspec": {
   "display_name": "Python 3 (ipykernel)",
   "language": "python",
   "name": "python3"
  },
  "language_info": {
   "codemirror_mode": {
    "name": "ipython",
    "version": 3
   },
   "file_extension": ".py",
   "mimetype": "text/x-python",
   "name": "python",
   "nbconvert_exporter": "python",
   "pygments_lexer": "ipython3",
   "version": "3.11.6"
  }
 },
 "nbformat": 4,
 "nbformat_minor": 5
}
